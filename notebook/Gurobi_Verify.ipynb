{
 "cells": [
  {
   "cell_type": "code",
   "execution_count": 1,
   "metadata": {},
   "outputs": [
    {
     "name": "stdout",
     "output_type": "stream",
     "text": [
      "The Zen of Python, by Tim Peters\n",
      "\n",
      "Beautiful is better than ugly.\n",
      "Explicit is better than implicit.\n",
      "Simple is better than complex.\n",
      "Complex is better than complicated.\n",
      "Flat is better than nested.\n",
      "Sparse is better than dense.\n",
      "Readability counts.\n",
      "Special cases aren't special enough to break the rules.\n",
      "Although practicality beats purity.\n",
      "Errors should never pass silently.\n",
      "Unless explicitly silenced.\n",
      "In the face of ambiguity, refuse the temptation to guess.\n",
      "There should be one-- and preferably only one --obvious way to do it.\n",
      "Although that way may not be obvious at first unless you're Dutch.\n",
      "Now is better than never.\n",
      "Although never is often better than *right* now.\n",
      "If the implementation is hard to explain, it's a bad idea.\n",
      "If the implementation is easy to explain, it may be a good idea.\n",
      "Namespaces are one honking great idea -- let's do more of those!\n"
     ]
    }
   ],
   "source": [
    "import sys\n",
    "sys.path.append(\"..\")\n",
    "from utils.model_utils import *\n",
    "import numpy as np"
   ]
  },
  {
   "cell_type": "code",
   "execution_count": 2,
   "metadata": {},
   "outputs": [],
   "source": [
    "import os\n",
    "import socket\n",
    "import torch\n",
    "import matplotlib.pyplot as plt\n",
    "from verify_utils.verify_utils import get_params_list, get_lower_and_upper_bounds\n",
    "from experiments.verify_gp import verify\n",
    "from verify_utils.gp_verify_utils import verify_single_image_gp\n",
    "def setup_gurobi():\n",
    "    print('HOSTNAME: ', socket.gethostname())\n",
    "    print(os.popen('hostid').read().strip())\n",
    "    os.environ['GRB_LICENSE_FILE'] = '/nfs/homedirs/wangxun/gurobi_lic/{}.lic'.format(\n",
    "        socket.gethostname())\n",
    "\n"
   ]
  },
  {
   "cell_type": "code",
   "execution_count": 3,
   "metadata": {},
   "outputs": [
    {
     "name": "stdout",
     "output_type": "stream",
     "text": [
      "HOSTNAME:  gpu04\n",
      "007f0101\n"
     ]
    }
   ],
   "source": [
    "setup_gurobi()"
   ]
  },
  {
   "cell_type": "code",
   "execution_count": 4,
   "metadata": {},
   "outputs": [],
   "source": [
    "import gurobipy as gp\n",
    "from gurobipy import GRB"
   ]
  },
  {
   "cell_type": "code",
   "execution_count": 5,
   "metadata": {},
   "outputs": [
    {
     "data": {
      "text/plain": [
       "'\\naddMVar ( shape, lb=0.0, ub=float(\\'inf\\'), obj=0.0, vtype=GRB.CONTINUOUS, name=\"\" )\\nx = model.addMVar(10)                      # add a 1-D array of 10 variables\\ny = model.addMVar((3,4), vtype=GRB.BINARY) # add a 3x4 2-D array of binary variables\\nprint(y[:,1:3])                            # take a slice of a 2-D array\\n'"
      ]
     },
     "execution_count": 5,
     "metadata": {},
     "output_type": "execute_result"
    }
   ],
   "source": [
    "# model.AddVar\n",
    "# addVar ( lb=0.0, ub=float('inf'), obj=0.0, vtype=GRB.CONTINUOUS, name=\"\", column=None )\n",
    "\"\"\"\n",
    "x = model.addVar()                                     # all default arguments\n",
    "y = model.addVar(vtype=GRB.INTEGER, obj=1.0, name=\"y\") # arguments by name\n",
    "z = model.addVar(0.0, 1.0, 1.0, GRB.BINARY, \"z\")       # arguments by position\n",
    "\"\"\"\n",
    "# model.AddVars\n",
    "# addVars ( *indices, lb=0.0, ub=float('inf'), obj=0.0, vtype=GRB.CONTINUOUS, name=\"\" )\n",
    "\"\"\"\n",
    "# 3-D array of binary variables\n",
    "x = model.addVars(3, 4, 5, vtype=GRB.BINARY)\n",
    "\n",
    "# variables index by tuplelist\n",
    "l = tuplelist([(1, 2), (1, 3), (2, 3)])\n",
    "y = model.addVars(l, ub=[1, 2, 3])\n",
    "\"\"\"\n",
    "# model.AddMvar() numpy ndarray of gurobi variables\n",
    "\"\"\"\n",
    "addMVar ( shape, lb=0.0, ub=float('inf'), obj=0.0, vtype=GRB.CONTINUOUS, name=\"\" )\n",
    "x = model.addMVar(10)                      # add a 1-D array of 10 variables\n",
    "y = model.addMVar((3,4), vtype=GRB.BINARY) # add a 3x4 2-D array of binary variables\n",
    "print(y[:,1:3])                            # take a slice of a 2-D array\n",
    "\"\"\""
   ]
  },
  {
   "cell_type": "code",
   "execution_count": 6,
   "metadata": {},
   "outputs": [
    {
     "data": {
      "text/plain": [
       "'\\nA: constraint matrix, a numpy 2-D ndarray or a Scipy Sparse matrix\\nx: decision varibale\\nb: right-hand side vecotr\\n'"
      ]
     },
     "execution_count": 6,
     "metadata": {},
     "output_type": "execute_result"
    }
   ],
   "source": [
    "# model addConstr\n",
    "\"\"\"\n",
    "model.addConstr(x + y <= 2.0, \"c1\")\n",
    "model.addConstr(x*x + y*y <= 4.0, \"qc0\")\n",
    "model.addConstr(x + y + z == [1, 2], \"rgc0\")\n",
    "model.addConstr(A @ t >= b)\n",
    "model.addConstr(z == and_(x, y, w), \"gc0\")\n",
    "model.addConstr(z == min_(x, y), \"gc1\")\n",
    "model.addConstr((w == 1) >> (x + y <= 1), \"ic0\")\n",
    "\"\"\"\n",
    "\n",
    "# model addConstrs\n",
    "\"\"\"\n",
    "m.addConstrs((x[i] <= 1 for i in range(4)), name='c')\n",
    "m.addConstrs((x[i,j] == 0 for i in range(4)\n",
    "                            for j in range(4)\n",
    "                            if i != j), name='c')\n",
    "                            \n",
    "model.addConstrs(x.sum(i, '*') <= capacity[i] for i in range(5))\n",
    "model.addConstrs(x[i] + x[j] <= 1 for i in range(5) for j in range(5))\n",
    "model.addConstrs(x[i]*x[i] + y[i]*y[i] <= 1 for i in range(5))\n",
    "model.addConstrs(x.sum(i, '*') == [0, 2] for i in [1, 2, 4])\n",
    "model.addConstrs(z[i] == max_(x[i], y[i]) for i in range(5))\n",
    "model.addConstrs((x[i] == 1) >> (y[i] + z[i] <= 5) for i in range(5))\n",
    "\"\"\"\n",
    "\n",
    "# model.addLConstr()   add a linear constraints to a model\n",
    "# addLConstr ( lhs, sense=None, rhs=None, name=\"\" )\n",
    "\"\"\"\n",
    "model.addLConstr(x + 2*y, GRB.EQUAL, 3*z, \"c0\")\n",
    "model.addLConstr(x + y <= 2.0, \"c1\")\n",
    "model.addLConstr(LinExpr([1.0,1.0], [x,y]), GRB.LESS_EQUAL, 1)\n",
    "\"\"\"\n",
    "\n",
    "# model.addMConstr() add a set of linear constraints to the model\n",
    "# addMConstr ( A, x, sense, b, name=\"\" )\n",
    "\"\"\"\n",
    "A: constraint matrix, a numpy 2-D ndarray or a Scipy Sparse matrix\n",
    "x: decision varibale\n",
    "b: right-hand side vecotr\n",
    "\"\"\""
   ]
  },
  {
   "cell_type": "code",
   "execution_count": 7,
   "metadata": {},
   "outputs": [
    {
     "data": {
      "text/plain": [
       "'\\nmodel.setObjective(x + y, GRB.MAXIMIZE)\\nmodel.setObjective(x*x + y*y)\\n'"
      ]
     },
     "execution_count": 7,
     "metadata": {},
     "output_type": "execute_result"
    }
   ],
   "source": [
    "# model.setObjective()\n",
    "# setObjective ( expr, sense=None )\n",
    "\"\"\"\n",
    "model.setObjective(x + y, GRB.MAXIMIZE)\n",
    "model.setObjective(x*x + y*y)\n",
    "\"\"\""
   ]
  },
  {
   "cell_type": "code",
   "execution_count": 8,
   "metadata": {},
   "outputs": [],
   "source": [
    "# Define a 2 layer model verifier "
   ]
  },
  {
   "cell_type": "code",
   "execution_count": 9,
   "metadata": {},
   "outputs": [],
   "source": [
    "# load model and dataset\n"
   ]
  },
  {
   "cell_type": "code",
   "execution_count": 13,
   "metadata": {},
   "outputs": [
    {
     "name": "stdout",
     "output_type": "stream",
     "text": [
      "Using mean (0.1307,)\n"
     ]
    }
   ],
   "source": [
    "arguments={}\n",
    "arguments['data_set'] = \"MNIST\"\n",
    "arguments['batch_size'] = 64\n",
    "arguments['mean'] = (0.1307,)\n",
    "arguments['std'] = (0.3081,)\n",
    "arguments['tuning'] = 0\n",
    "arguments['preload_all_data'] = 0\n",
    "arguments['random_shuffle_labels'] = 0\n",
    "train_loader, test_loader = find_right_model(\n",
    "        DATASETS, arguments['data_set'],\n",
    "        arguments=arguments,\n",
    "        mean=arguments['mean'],\n",
    "        std=arguments['std'])"
   ]
  },
  {
   "cell_type": "code",
   "execution_count": 14,
   "metadata": {},
   "outputs": [
    {
     "name": "stdout",
     "output_type": "stream",
     "text": [
      "Loaded results/2022-05-20_16.19.39_model=MLP2_dataset=MNIST_prune-criterion=SNAPit_pruning-limit=0.75_train-scheme=DefaultTrainer_seed=1234/models/MLP2_mod_finished\n"
     ]
    },
    {
     "data": {
      "text/plain": [
       "MLP2(\n",
       "  (layers): Sequential(\n",
       "    (0): ContainerLinear(in_features=784, out_features=15.0, bias=True)\n",
       "    (1): ReLU()\n",
       "    (2): ContainerLinear(in_features=15.0, out_features=10, bias=True)\n",
       "  )\n",
       ")"
      ]
     },
     "execution_count": 14,
     "metadata": {},
     "output_type": "execute_result"
    }
   ],
   "source": [
    "checkpoint_name = \"2022-05-20_16.19.39_model=MLP2_dataset=MNIST_prune-criterion=SNAPit_pruning-limit=0.75_train-scheme=DefaultTrainer_seed=1234\"\n",
    "checkpoint_model = \"MLP2_mod_finished\"\n",
    "#checkpoint_name=\"2022-05-11_17.20.23_model=MLP3_dataset=MNIST_prune-criterion=SNAPit_pruning-limit=0.5_train-scheme=DefaultTrainer_seed=1234\"\n",
    "#checkpoint_model = \"MLP3_mod_finished\"\n",
    "#checkpoint_name = \"2022-05-25_00.29.35_test_base_MLP5\"\n",
    "#checkpoint_model=\"MLP5_mod_loaded\"\n",
    "\n",
    "model_path = os.path.join(RESULTS_DIR,checkpoint_name,MODELS_DIR,checkpoint_model)\n",
    "\n",
    "model=DATA_MANAGER.load_python_obj(model_path)\n",
    "model"
   ]
  },
  {
   "cell_type": "code",
   "execution_count": 15,
   "metadata": {},
   "outputs": [],
   "source": [
    "device='cuda'\n"
   ]
  },
  {
   "cell_type": "code",
   "execution_count": 16,
   "metadata": {},
   "outputs": [],
   "source": [
    "import torch\n",
    "imgs,labels = next(iter(test_loader))\n",
    "test_img=imgs[0].to(device)\n",
    "\n",
    "pred=torch.argmax(model(test_img),axis=1).item()\n",
    "num_classes = model.output_dim\n",
    "other_classes = set(range(num_classes))\n",
    "other_classes.remove(pred)"
   ]
  },
  {
   "cell_type": "code",
   "execution_count": 17,
   "metadata": {},
   "outputs": [],
   "source": [
    "img = test_img.cpu().numpy().reshape(-1)\n",
    "eps=0.001"
   ]
  },
  {
   "cell_type": "code",
   "execution_count": 18,
   "metadata": {},
   "outputs": [],
   "source": [
    "W,b = get_params_list(model)\n",
    "L,U = get_lower_and_upper_bounds(img,eps,W,b)\n"
   ]
  },
  {
   "cell_type": "code",
   "execution_count": null,
   "metadata": {},
   "outputs": [],
   "source": []
  },
  {
   "cell_type": "code",
   "execution_count": 16,
   "metadata": {},
   "outputs": [
    {
     "name": "stdout",
     "output_type": "stream",
     "text": [
      "Set parameter Username\n"
     ]
    },
    {
     "name": "stderr",
     "output_type": "stream",
     "text": [
      "2022-06-01 13:59:33 (INFO): Set parameter Username\n"
     ]
    },
    {
     "name": "stdout",
     "output_type": "stream",
     "text": [
      "Academic license - for non-commercial use only - expires 2023-05-22\n"
     ]
    },
    {
     "name": "stderr",
     "output_type": "stream",
     "text": [
      "2022-06-01 13:59:33 (INFO): Academic license - for non-commercial use only - expires 2023-05-22\n"
     ]
    },
    {
     "data": {
      "text/plain": [
       "<(10,) matrix constraint *awaiting model update*>"
      ]
     },
     "execution_count": 16,
     "metadata": {},
     "output_type": "execute_result"
    }
   ],
   "source": [
    "# define a 2 layer model verifier\n",
    "m = gp.Model(\"verify\")\n",
    "m.Params.LogToConsole = 0\n",
    "# add Variables\n",
    "x_in = m.addMVar((784),lb=L[0],ub=U[0],name=\"input\")\n",
    "x_1 = m.addMVar((15),lb=L[1],ub=U[1],name=\"x_1\")\n",
    "y_1 = m.addMVar((15),name=\"y_1\")\n",
    "x_2 = m.addMVar(10,lb=-10,name=\"x_2\")\n",
    "m.addConstr(x_1==W[0]@x_in+b[0])\n",
    "m.addConstr(x_2==W[1]@y_1+b[1])\n"
   ]
  },
  {
   "cell_type": "code",
   "execution_count": 17,
   "metadata": {},
   "outputs": [],
   "source": [
    "# add input perturbation budged\n",
    "\n",
    "m.addConstrs((x_in[i]>=img[i]-eps for i in range(784)));\n",
    "m.addConstrs((x_in[i]<=img[i]+eps for i in range(784)));"
   ]
  },
  {
   "cell_type": "code",
   "execution_count": 18,
   "metadata": {},
   "outputs": [],
   "source": [
    "# add relu constraints\n",
    "# y_1=relu(x_1)\n",
    "a = m.addVars(15, vtype=GRB.BINARY,name=\"a\")\n",
    "\n",
    "m.addConstrs((y_1[i]<=x_1[i]-L[1][i]*(1-a[i]) for i in range(15)));\n",
    "m.addConstrs((y_1[i]<=U[1][i]*a[i] for i in range(15)));\n",
    "m.addConstrs((y_1[i]>=x_1[i] for i in range(15)));\n",
    "m.addConstrs((y_1[i]>=0 for i in range(15)));"
   ]
  },
  {
   "cell_type": "code",
   "execution_count": 19,
   "metadata": {
    "scrolled": true
   },
   "outputs": [],
   "source": [
    "indicator=0\n",
    "for other in other_classes:\n",
    "    #m.setObjective(x_2[pred]-x_2[other], GRB.MINIMIZE)\n",
    "    m.setObjective(x_2[pred])\n",
    "    m.optimize()\n",
    "    if m.ObjVal<0:\n",
    "        indicator=1\n",
    "        print(\"found solution\")\n",
    "        break\n",
    "    "
   ]
  },
  {
   "cell_type": "code",
   "execution_count": 20,
   "metadata": {},
   "outputs": [
    {
     "name": "stdout",
     "output_type": "stream",
     "text": [
      "verified\n"
     ]
    }
   ],
   "source": [
    "if indicator==0:\n",
    "    print(\"verified\")\n",
    "else:\n",
    "    print(\"found adversarial solution\")"
   ]
  },
  {
   "cell_type": "code",
   "execution_count": 21,
   "metadata": {},
   "outputs": [
    {
     "data": {
      "text/plain": [
       "12.071779956619793"
      ]
     },
     "execution_count": 21,
     "metadata": {},
     "output_type": "execute_result"
    }
   ],
   "source": [
    "m.ObjVal"
   ]
  },
  {
   "cell_type": "code",
   "execution_count": 22,
   "metadata": {},
   "outputs": [],
   "source": [
    "#for v in m.getVars():\n",
    "#    print('%s %g' % (v.VarName, v.X))"
   ]
  },
  {
   "cell_type": "code",
   "execution_count": 23,
   "metadata": {},
   "outputs": [
    {
     "name": "stdout",
     "output_type": "stream",
     "text": [
      "Loaded results/2022-05-11_17.20.23_model=MLP3_dataset=MNIST_prune-criterion=SNAPit_pruning-limit=0.5_train-scheme=DefaultTrainer_seed=1234/models/MLP3_mod_finished\n"
     ]
    },
    {
     "data": {
      "text/plain": [
       "MLP3(\n",
       "  (layers): Sequential(\n",
       "    (0): ContainerLinear(in_features=784, out_features=32.0, bias=True)\n",
       "    (1): ReLU()\n",
       "    (2): ContainerLinear(in_features=32.0, out_features=31.0, bias=True)\n",
       "    (3): ReLU()\n",
       "    (4): ContainerLinear(in_features=31.0, out_features=10, bias=True)\n",
       "  )\n",
       ")"
      ]
     },
     "execution_count": 23,
     "metadata": {},
     "output_type": "execute_result"
    }
   ],
   "source": [
    "#checkpoint_name = \"2022-05-20_16.19.39_model=MLP2_dataset=MNIST_prune-criterion=SNAPit_pruning-limit=0.75_train-scheme=DefaultTrainer_seed=1234\"\n",
    "#checkpoint_model = \"MLP2_mod_finished\"\n",
    "checkpoint_name=\"2022-05-11_17.20.23_model=MLP3_dataset=MNIST_prune-criterion=SNAPit_pruning-limit=0.5_train-scheme=DefaultTrainer_seed=1234\"\n",
    "checkpoint_model = \"MLP3_mod_finished\"\n",
    "#checkpoint_name = \"2022-05-25_00.29.35_test_base_MLP5\"\n",
    "#checkpoint_model=\"MLP5_mod_loaded\"\n",
    "\n",
    "model_path = os.path.join(RESULTS_DIR,checkpoint_name,MODELS_DIR,checkpoint_model)\n",
    "\n",
    "model=DATA_MANAGER.load_python_obj(model_path)\n",
    "model"
   ]
  },
  {
   "cell_type": "code",
   "execution_count": 24,
   "metadata": {},
   "outputs": [
    {
     "name": "stdout",
     "output_type": "stream",
     "text": [
      "pred 7\n"
     ]
    }
   ],
   "source": [
    "test_img = imgs[0].to(device)\n",
    "pred=torch.argmax(model(test_img),axis=1).item()\n",
    "num_classes = model.output_dim\n",
    "other_classes = set(range(num_classes))\n",
    "other_classes.remove(pred)\n",
    "img = imgs[0].cpu().numpy().reshape(-1)\n",
    "eps=0.001\n",
    "print(\"pred\",pred)"
   ]
  },
  {
   "cell_type": "code",
   "execution_count": 25,
   "metadata": {},
   "outputs": [],
   "source": [
    "W,b = get_params_list(model)\n",
    "\n",
    "L,U = get_lower_and_upper_bounds(img,eps,W,b)"
   ]
  },
  {
   "cell_type": "code",
   "execution_count": null,
   "metadata": {},
   "outputs": [],
   "source": []
  },
  {
   "cell_type": "code",
   "execution_count": 26,
   "metadata": {},
   "outputs": [
    {
     "data": {
      "text/plain": [
       "((32, 784), (31, 32), (10, 31), (32,), (31,), (10,))"
      ]
     },
     "execution_count": 26,
     "metadata": {},
     "output_type": "execute_result"
    }
   ],
   "source": [
    "W[0].shape,W[1].shape,W[2].shape,b[0].shape,b[1].shape,b[2].shape\n"
   ]
  },
  {
   "cell_type": "code",
   "execution_count": 27,
   "metadata": {},
   "outputs": [
    {
     "name": "stdout",
     "output_type": "stream",
     "text": [
      "[0, 0, 0, 2]\n"
     ]
    }
   ],
   "source": [
    "\n",
    "unstable_nums=[]\n",
    "((L[1]<0) & (U[1]>0)).sum()\n",
    "for l,u in zip(L,U):\n",
    "    unstable_nums.append(int(((l<0) & (u>0)).sum()))\n",
    "unstable_nums,unstable_nums[1]\n",
    "print(unstable_nums)\n"
   ]
  },
  {
   "cell_type": "code",
   "execution_count": null,
   "metadata": {},
   "outputs": [],
   "source": []
  },
  {
   "cell_type": "code",
   "execution_count": 28,
   "metadata": {},
   "outputs": [],
   "source": [
    "# define a 2 layer model verifier\n",
    "m = gp.Model(\"verify\")\n",
    "\n",
    "# add Variables\n",
    "x_in = m.addMVar((784),lb=-GRB.INFINITY,name=\"input\")\n",
    "x_1 = m.addMVar((32),lb=-GRB.INFINITY,name=\"x_1\")\n",
    "y_1 = m.addMVar((32),lb=-GRB.INFINITY,name=\"y_1\")\n",
    "x_2 = m.addMVar((31),lb=-GRB.INFINITY,name=\"x_2\")\n",
    "y_2 = m.addMVar((31),lb=-GRB.INFINITY,name=\"y_2\")\n",
    "x_3 = m.addMVar((10),lb=-GRB.INFINITY,name=\"x_3\")\n",
    "\n",
    "m.addConstr(W[0]@x_in+b[0]==x_1)\n",
    "m.addConstr(W[1]@y_1+b[1]==x_2)\n",
    "m.addConstr(W[2]@y_2+b[2]==x_3)\n",
    "\n",
    "# add relu constraints\n",
    "# y_1=relu(x_1)\n",
    "a1 = m.addVars(unstable_nums[1], vtype=GRB.BINARY,name=\"a1\")\n",
    "j=0\n",
    "for i in range(32):\n",
    "    if L[1][i]>=0:\n",
    "        m.addConstr(y_1[i]==x_1[i]);\n",
    "    elif U[1][i]<=0:\n",
    "        m.addConstr(y_1[i]==0);\n",
    "    else:\n",
    "        m.addConstr(y_1[i]<=x_1[i]-L[1][i]*(1-a1[j])) ;\n",
    "        m.addConstr(y_1[i]<=U[1][i]*a1[j]);\n",
    "        m.addConstr(y_1[i]>=x_1[i]);\n",
    "        m.addConstr(y_1[i]>=0);\n",
    "        j+=1\n",
    "\n",
    "# add relu constraints\n",
    "# y_2=relu(x_2)\n",
    "a2 = m.addVars(unstable_nums[2], vtype=GRB.BINARY,name=\"a2\")\n",
    "j=0\n",
    "for i in range(31):\n",
    "    if L[2][i]>=0:\n",
    "        m.addConstr(y_2[i]==x_2[i]);\n",
    "    elif U[2][i]<=0:\n",
    "        m.addConstr(y_2[i]==0);\n",
    "    else:\n",
    "        m.addConstr(y_2[i]<=x_2[i]-L[2][i]*(1-a2[j])) ;\n",
    "        m.addConstr(y_2[i]<=U[2][i]*a2[j]);\n",
    "        m.addConstr(y_2[i]>=x_2[i]);\n",
    "        m.addConstr(y_2[i]>=0);\n",
    "        j+=1\n",
    "\n",
    "# add input perturbation budged\n",
    "\n",
    "m.addConstrs((x_in[i]>=img[i]-eps for i in range(784)));\n",
    "m.addConstrs((x_in[i]<=img[i]+eps for i in range(784)));"
   ]
  },
  {
   "cell_type": "code",
   "execution_count": 29,
   "metadata": {},
   "outputs": [],
   "source": [
    "#m.Params.Cuts=0\n",
    "#m.Params.GomoryPasses=0\n",
    "#m.Params.ScaleFlag=2\n"
   ]
  },
  {
   "cell_type": "code",
   "execution_count": 30,
   "metadata": {},
   "outputs": [],
   "source": [
    "#m.setObjective(x_3[pred]-x_3[other], GRB.MINIMIZE)\n",
    "#iis=m.computeIIS()\n",
    "#m.write(\"model.ilp\")"
   ]
  },
  {
   "cell_type": "code",
   "execution_count": 31,
   "metadata": {},
   "outputs": [],
   "source": [
    "indicator=0\n",
    "m.Params.LogToConsole = 0\n",
    "for other in other_classes:\n",
    "    m.setObjective(x_3[pred]-x_3[other], GRB.MINIMIZE)\n",
    "    #m.setObjective(x_in[0], GRB.MINIMIZE)\n",
    "    m.optimize()\n",
    "    if m.ObjVal<0:\n",
    "        indicator=1\n",
    "        print(\"found solution\")\n",
    "        print(m.ObjVal)\n",
    "        break\n",
    "    "
   ]
  },
  {
   "cell_type": "code",
   "execution_count": 32,
   "metadata": {},
   "outputs": [
    {
     "data": {
      "text/plain": [
       "2"
      ]
     },
     "execution_count": 32,
     "metadata": {},
     "output_type": "execute_result"
    }
   ],
   "source": [
    "\n",
    "m.status"
   ]
  },
  {
   "cell_type": "code",
   "execution_count": 33,
   "metadata": {},
   "outputs": [],
   "source": [
    "\n",
    "x_input=[]\n",
    "y_output=[]\n",
    "for v in m.getVars():\n",
    "    if \"input\" in v.VarName:\n",
    "        x_input.append(v.X)\n",
    "    if \"x_3\" in v.VarName:\n",
    "        y_output.append(v.X)\n",
    "    #print('%s %g' % (v.VarName, v.X))\n"
   ]
  },
  {
   "cell_type": "code",
   "execution_count": 34,
   "metadata": {},
   "outputs": [
    {
     "data": {
      "image/png": "[encoded data removed]",
      "text/plain": [
       "<Figure size 432x288 with 1 Axes>"
      ]
     },
     "metadata": {
      "needs_background": "light"
     },
     "output_type": "display_data"
    }
   ],
   "source": [
    "x_input=np.array(x_input).reshape(28,28)\n",
    "label=np.argmax(y_output)\n",
    "\n",
    "plt.imshow(x_input, cmap='gray')\n",
    "plt.title(f\"perturbed prediction: {label}\")\n",
    "plt.show()\n"
   ]
  },
  {
   "cell_type": "markdown",
   "metadata": {},
   "source": [
    "# Sanity check"
   ]
  },
  {
   "cell_type": "code",
   "execution_count": 35,
   "metadata": {},
   "outputs": [
    {
     "name": "stdout",
     "output_type": "stream",
     "text": [
      "[ True  True  True  True  True  True  True  True  True  True  True  True\n",
      "  True  True  True  True  True  True  True  True  True  True  True  True\n",
      "  True  True  True  True  True  True  True  True]\n",
      "[ True  True  True  True  True  True  True  True  True  True  True  True\n",
      "  True  True  True  True  True  True  True  True  True  True  True  True\n",
      "  True  True  True  True  True  True  True]\n",
      "[ True  True  True  True  True  True  True  True  True  True]\n",
      "[ True  True  True  True  True  True  True  True  True  True  True  True\n",
      "  True  True  True  True  True  True  True  True  True  True  True  True\n",
      "  True  True  True  True  True  True  True  True]\n",
      "[ True  True  True  True  True  True  True  True  True  True  True  True\n",
      "  True  True  True  True  True  True  True  True  True  True  True  True\n",
      "  True  True  True  True  True  True  True]\n"
     ]
    }
   ],
   "source": [
    "x_input=[]\n",
    "x_1=[]\n",
    "y_1=[]\n",
    "x_2=[]\n",
    "y_2=[]\n",
    "x_3=[]\n",
    "for v in m.getVars():\n",
    "    if \"input\" in v.VarName:\n",
    "        x_input.append(v.X)\n",
    "    if \"x_1\" in v.VarName:\n",
    "        x_1.append(v.X)\n",
    "    if \"y_1\" in v.VarName:\n",
    "        y_1.append(v.X)\n",
    "    if \"x_2\" in v.VarName:\n",
    "        x_2.append(v.X)\n",
    "    if \"y_2\" in v.VarName:\n",
    "        y_2.append(v.X)\n",
    "    if \"x_3\" in v.VarName:\n",
    "        x_3.append(v.X)        \n",
    "        \n",
    "x_input=np.array(x_input)\n",
    "x_1 = np.array(x_1)\n",
    "y_1 = np.array(y_1)\n",
    "x_2 = np.array(x_2)\n",
    "y_2 = np.array(y_2)\n",
    "x_3= np.array(x_3)\n",
    "\n",
    "\n",
    "x_1_ = W[0]@x_input+b[0]\n",
    "x_2_ = W[1]@y_1+b[1]\n",
    "x_3_ = W[2]@y_2+b[2]\n",
    "print(np.isclose(x_1_,x_1,atol=1e-8))\n",
    "print(np.isclose(x_2_,x_2,atol=1e-8))\n",
    "print(np.isclose(x_3_,x_3,atol=1e-8))\n",
    "\n",
    "print(np.isclose((x_1>0)*x_1,y_1,atol=1e-8))\n",
    "print(np.isclose((x_2>0)*x_2,y_2,atol=1e-8))"
   ]
  },
  {
   "cell_type": "markdown",
   "metadata": {},
   "source": [
    "# verification for N layer network"
   ]
  },
  {
   "cell_type": "code",
   "execution_count": 19,
   "metadata": {},
   "outputs": [
    {
     "name": "stdout",
     "output_type": "stream",
     "text": [
      "Loaded results/2022-05-25_00.29.35_test_base_MLP5/models/MLP5_mod_loaded\n"
     ]
    },
    {
     "data": {
      "text/plain": [
       "MLP5(\n",
       "  (layers): Sequential(\n",
       "    (0): ContainerLinear(in_features=784, out_features=100, bias=True)\n",
       "    (1): ReLU()\n",
       "    (2): ContainerLinear(in_features=100, out_features=100, bias=True)\n",
       "    (3): ReLU()\n",
       "    (4): ContainerLinear(in_features=100, out_features=100, bias=True)\n",
       "    (5): ReLU()\n",
       "    (6): ContainerLinear(in_features=100, out_features=100, bias=True)\n",
       "    (7): ReLU()\n",
       "    (8): ContainerLinear(in_features=100, out_features=100, bias=True)\n",
       "    (9): ReLU()\n",
       "    (10): ContainerLinear(in_features=100, out_features=10, bias=True)\n",
       "  )\n",
       ")"
      ]
     },
     "execution_count": 19,
     "metadata": {},
     "output_type": "execute_result"
    }
   ],
   "source": [
    "#checkpoint_name = \"2022-05-20_16.19.39_model=MLP2_dataset=MNIST_prune-criterion=SNAPit_pruning-limit=0.75_train-scheme=DefaultTrainer_seed=1234\"\n",
    "#checkpoint_model = \"MLP2_mod_finished\"\n",
    "#checkpoint_name=\"2022-05-11_17.20.23_model=MLP3_dataset=MNIST_prune-criterion=SNAPit_pruning-limit=0.5_train-scheme=DefaultTrainer_seed=1234\"\n",
    "#checkpoint_model = \"MLP3_mod_finished\"\n",
    "checkpoint_name = \"2022-05-25_00.29.35_test_base_MLP5\"\n",
    "checkpoint_model=\"MLP5_mod_loaded\"\n",
    "\n",
    "model_path = os.path.join(RESULTS_DIR,checkpoint_name,MODELS_DIR,checkpoint_model)\n",
    "\n",
    "model=DATA_MANAGER.load_python_obj(model_path)\n",
    "model.to(device)"
   ]
  },
  {
   "cell_type": "code",
   "execution_count": null,
   "metadata": {},
   "outputs": [],
   "source": []
  },
  {
   "cell_type": "code",
   "execution_count": 20,
   "metadata": {},
   "outputs": [
    {
     "name": "stdout",
     "output_type": "stream",
     "text": [
      "acc:0.9794\n"
     ]
    }
   ],
   "source": [
    "model.to('cpu')\n",
    "correct=0\n",
    "total=0\n",
    "for imgs, labels in test_loader:\n",
    "    correct+=torch.sum(torch.argmax(model(imgs),axis=1)==labels).item()\n",
    "    total+=len(labels)\n",
    "accuracy=correct/total\n",
    "print(f\"acc:{accuracy}\")"
   ]
  },
  {
   "cell_type": "code",
   "execution_count": 59,
   "metadata": {},
   "outputs": [
    {
     "name": "stdout",
     "output_type": "stream",
     "text": [
      "pred 1\n"
     ]
    }
   ],
   "source": [
    "test_img = imgs[0]\n",
    "pred=torch.argmax(model(test_img),axis=1).item()\n",
    "num_classes = model.output_dim\n",
    "other_classes = set(range(num_classes))\n",
    "other_classes.remove(pred)\n",
    "img = test_img.cpu().numpy().reshape(-1)\n",
    "eps=0.02\n",
    "\n",
    "print(\"pred\",pred)"
   ]
  },
  {
   "cell_type": "code",
   "execution_count": null,
   "metadata": {},
   "outputs": [],
   "source": []
  },
  {
   "cell_type": "code",
   "execution_count": 60,
   "metadata": {},
   "outputs": [],
   "source": [
    "W,b = get_params_list(model)\n",
    "L,U = get_lower_and_upper_bounds(img,eps,W,b)\n"
   ]
  },
  {
   "cell_type": "code",
   "execution_count": 61,
   "metadata": {},
   "outputs": [
    {
     "name": "stdout",
     "output_type": "stream",
     "text": [
      "num_layers 6\n"
     ]
    },
    {
     "data": {
      "text/plain": [
       "[784, 100, 100, 100, 100, 100, 10]"
      ]
     },
     "execution_count": 61,
     "metadata": {},
     "output_type": "execute_result"
    }
   ],
   "source": [
    "num_layers = len(W)\n",
    "print(\"num_layers\",num_layers)\n",
    "shapes=[]\n",
    "for i in range(num_layers):\n",
    "        shapes.append(U[i].shape[0])\n",
    "shapes.append(num_classes)\n",
    "shapes"
   ]
  },
  {
   "cell_type": "code",
   "execution_count": 62,
   "metadata": {},
   "outputs": [
    {
     "data": {
      "text/plain": [
       "[4, 15, 53, 94, 99]"
      ]
     },
     "execution_count": 62,
     "metadata": {},
     "output_type": "execute_result"
    }
   ],
   "source": [
    "unstable_nums=[]\n",
    "# don't use the first layer and final layer\n",
    "for l,u in zip(L[1:-1],U[1:-1]):\n",
    "    unstable_nums.append(int(((l<=0) & (u>=0)).sum()))\n",
    "unstable_nums"
   ]
  },
  {
   "cell_type": "code",
   "execution_count": null,
   "metadata": {},
   "outputs": [],
   "source": []
  },
  {
   "cell_type": "code",
   "execution_count": 63,
   "metadata": {},
   "outputs": [
    {
     "data": {
      "text/plain": [
       "(array([ -83.770424,  -69.926636,  -84.54936 , -101.2452  ,  -84.26327 ,\n",
       "         -68.401886,  -99.76051 ,  -87.23797 , -113.073204,  -47.31114 ],\n",
       "       dtype=float32),\n",
       " array([ 94.788216, 105.446205, 113.78178 , 112.83693 , 100.999695,\n",
       "        101.54098 , 100.38173 , 117.08383 , 120.006195,  77.80508 ],\n",
       "       dtype=float32))"
      ]
     },
     "execution_count": 63,
     "metadata": {},
     "output_type": "execute_result"
    }
   ],
   "source": [
    "L[-1],U[-1]"
   ]
  },
  {
   "cell_type": "code",
   "execution_count": 64,
   "metadata": {},
   "outputs": [
    {
     "name": "stdout",
     "output_type": "stream",
     "text": [
      "Warning for adding constraints: zero or small (< 1e-13) coefficients, ignored\n"
     ]
    },
    {
     "name": "stderr",
     "output_type": "stream",
     "text": [
      "2022-06-01 14:50:00 (INFO): Warning for adding constraints: zero or small (< 1e-13) coefficients, ignored\n"
     ]
    },
    {
     "data": {
      "text/plain": [
       "'\\nrelu \\n    if stable(l>0 y0=x1, u<0, y0=1)\\n    if unstable (y0=relu(x1))\\n        \\n# Y0 = relu(X1)\\n# Y1 = relu(X2)\\n# ...\\n\\n\\nfor i in range(num_layers-1):\\n    k=0\\n    for j in range(shapes[i+1]):\\n        if L[i+1][j]>=0:\\n            m.addConstr(Y[i][j]==X[i+1][j]);\\n        elif U[i+1][j]<=0:\\n            m.addConstr(Y[i][j]==0);\\n        else:\\n            m.addConstr(Y[i][j]<=X[i+1][j]-L[i+1][j]*(1-A[i][k])) ;\\n            m.addConstr(Y[i][j]<=U[i+1][i]*A[i][k]);\\n            m.addConstr(Y[i][j]>=X[i+1][j]);\\n            m.addConstr(Y[i][j]>=0);\\n            k+=1\\n    print(k)\\n\\n'"
      ]
     },
     "execution_count": 64,
     "metadata": {},
     "output_type": "execute_result"
    }
   ],
   "source": [
    "m = gp.Model(\"verify-n-layer\")\n",
    "X=[]\n",
    "Y=[]\n",
    "A=[]\n",
    "# X[0] is input X[-1] is output\n",
    "# setting the lower and upper bounds for the inputs already take perturbation budget into account\n",
    "# Y is output after relu\n",
    "# A is binary variable for relu constraints\n",
    "for i in range(num_layers+1):\n",
    "    X.append(m.addMVar((shapes[i]),lb=L[i],ub=U[i],name=f\"x_{i}\"))\n",
    "for i in range(num_layers-1):\n",
    "    Y.append(m.addMVar(shapes[i+1],name=f\"y_{i}\"))\n",
    "    A.append(m.addVars(shapes[i+1], vtype=GRB.BINARY,name=f\"a_{i}\"))\n",
    "#for i,num in enumerate(unstable_nums):\n",
    "#    A.append(m.addVars(num, vtype=GRB.BINARY,name=f\"a_{i}\"))\n",
    "\n",
    "# define constraints\n",
    "# input perturbation\n",
    "#m.addConstrs((X[0][i]>=img[i]-eps for i in range(shapes[0])));\n",
    "#m.addConstrs((X[0][i]<=img[i]+eps for i in range(shapes[0])));\n",
    "# Linear \n",
    "# X1 = W0 @ X0 + b0\n",
    "# X2 = W1 @ Y0 + b1\n",
    "# X3 = W2 @ Y1 + b2\n",
    "# ...\n",
    "for i in range(num_layers):\n",
    "    if i==0:\n",
    "        m.addConstr(W[0]@X[0]+b[0]==X[1]);\n",
    "    else:\n",
    "        m.addConstr(W[i]@Y[i-1]+b[i]==X[i+1]);\n",
    "        \n",
    "    # relu \n",
    "    # Y0 = relu(X1)\n",
    "    # Y1 = relu(X2)\n",
    "    # ...\n",
    "for i in range(num_layers-1):\n",
    "    m.addConstrs((Y[i][j]<=X[i+1][j]-L[i+1][j]*(1-A[i][j]) for j in range(shapes[i+1])));\n",
    "    m.addConstrs((Y[i][j]<=U[i+1][j]*A[i][j] for j in range(shapes[i+1])));\n",
    "    m.addConstrs((Y[i][j]>=X[i+1][j] for j in range(shapes[i+1])));\n",
    "    m.addConstrs((Y[i][j]>=0 for j in range(shapes[i+1])));\n",
    "\"\"\"\n",
    "relu \n",
    "    if stable(l>0 y0=x1, u<0, y0=1)\n",
    "    if unstable (y0=relu(x1))\n",
    "        \n",
    "# Y0 = relu(X1)\n",
    "# Y1 = relu(X2)\n",
    "# ...\n",
    "\n",
    "\n",
    "for i in range(num_layers-1):\n",
    "    k=0\n",
    "    for j in range(shapes[i+1]):\n",
    "        if L[i+1][j]>=0:\n",
    "            m.addConstr(Y[i][j]==X[i+1][j]);\n",
    "        elif U[i+1][j]<=0:\n",
    "            m.addConstr(Y[i][j]==0);\n",
    "        else:\n",
    "            m.addConstr(Y[i][j]<=X[i+1][j]-L[i+1][j]*(1-A[i][k])) ;\n",
    "            m.addConstr(Y[i][j]<=U[i+1][i]*A[i][k]);\n",
    "            m.addConstr(Y[i][j]>=X[i+1][j]);\n",
    "            m.addConstr(Y[i][j]>=0);\n",
    "            k+=1\n",
    "    print(k)\n",
    "\n",
    "\"\"\""
   ]
  },
  {
   "cell_type": "code",
   "execution_count": 65,
   "metadata": {},
   "outputs": [],
   "source": [
    "#iis=m.computeIIS()\n",
    "#m.write(\"model.ilp\")"
   ]
  },
  {
   "cell_type": "code",
   "execution_count": 66,
   "metadata": {},
   "outputs": [
    {
     "data": {
      "text/plain": [
       "'\\nfor i in range(shapes[0]):\\n    X[0][i].Start = img[i]\\nX1_=W[0]@img+b[0]\\nfor i in range(shapes[1]):\\n    X[1][i].Start = X1_[i]\\nY0_ = (X1_>0)*X1_\\nfor i in range(shapes[1]):\\n    Y[0][i].Start = Y0_[i]\\n\\n'"
      ]
     },
     "execution_count": 66,
     "metadata": {},
     "output_type": "execute_result"
    }
   ],
   "source": [
    "\"\"\"\n",
    "for i in range(shapes[0]):\n",
    "    X[0][i].Start = img[i]\n",
    "X1_=W[0]@img+b[0]\n",
    "for i in range(shapes[1]):\n",
    "    X[1][i].Start = X1_[i]\n",
    "Y0_ = (X1_>0)*X1_\n",
    "for i in range(shapes[1]):\n",
    "    Y[0][i].Start = Y0_[i]\n",
    "\n",
    "\"\"\"\n"
   ]
  },
  {
   "cell_type": "code",
   "execution_count": 70,
   "metadata": {
    "scrolled": true
   },
   "outputs": [
    {
     "name": "stdout",
     "output_type": "stream",
     "text": [
      "verifing: 0\n",
      "verifing: 2\n",
      "verifing: 3\n",
      "verifing: 4\n",
      "verifing: 5\n",
      "verifing: 6\n",
      "verifing: 7\n",
      "verifing: 8\n",
      "verifing: 9\n",
      "verified\n",
      "spent 135.01071953773499s\n"
     ]
    }
   ],
   "source": [
    "import time\n",
    "start=time.time()\n",
    "verified=1\n",
    "infeasible = 0\n",
    "m.Params.LogToConsole = 0\n",
    "for other in other_classes:\n",
    "    print(f\"verifing: {other}\")\n",
    "    m.setObjective(X[-1][pred]-X[-1][other], GRB.MINIMIZE)\n",
    "    m.optimize()\n",
    "    try:\n",
    "        if m.ObjVal<0:\n",
    "            verified=0\n",
    "            infeasible=0\n",
    "            print(\"found solution\")\n",
    "            break\n",
    "    except AttributeError:\n",
    "        print(\"inf\")\n",
    "        infeasible=1\n",
    "        continue\n",
    "if infeasible ==1:\n",
    "    verified=0\n",
    "    print(\"infeasible\")\n",
    "if verified==1:\n",
    "    print(\"verified\")\n",
    "end=time.time()\n",
    "print(f\"spent {end-start}s\")"
   ]
  },
  {
   "cell_type": "code",
   "execution_count": 71,
   "metadata": {},
   "outputs": [
    {
     "data": {
      "image/png": "[encoded data removed]",
      "text/plain": [
       "<Figure size 432x288 with 1 Axes>"
      ]
     },
     "metadata": {
      "needs_background": "light"
     },
     "output_type": "display_data"
    }
   ],
   "source": [
    "x_input=[]\n",
    "y_output=[]\n",
    "for v in m.getVars():\n",
    "    if \"x_0\" in v.VarName:\n",
    "        x_input.append(v.X)\n",
    "    if \"x_6\" in v.VarName:\n",
    "        y_output.append(v.X)\n",
    "    #print('%s %g' % (v.VarName, v.X))\n",
    "x_input=np.array(x_input).reshape(28,28)\n",
    "label=np.argmax(y_output)\n",
    "plt.imshow(x_input, cmap='gray')\n",
    "plt.title(f\"perturbed prediction: {label}\")\n",
    "plt.show()"
   ]
  },
  {
   "cell_type": "code",
   "execution_count": 52,
   "metadata": {},
   "outputs": [
    {
     "name": "stdout",
     "output_type": "stream",
     "text": [
      "[ True  True  True  True  True  True  True  True  True  True  True  True\n",
      "  True  True  True  True  True  True  True  True  True  True  True  True\n",
      "  True  True  True  True  True  True  True  True]\n",
      "[ True  True  True  True  True  True  True  True  True  True  True  True\n",
      "  True  True  True  True  True  True  True  True  True  True  True  True\n",
      "  True  True  True  True  True  True  True]\n"
     ]
    }
   ],
   "source": [
    "x_0=[]\n",
    "x_1=[]\n",
    "y_0=[]\n",
    "x_2=[]\n",
    "y_1=[]\n",
    "x_3=[]\n",
    "y_2=[]\n",
    "x_4=[]\n",
    "y_3=[]\n",
    "x_5=[]\n",
    "y_4=[]\n",
    "x_6=[]\n",
    "for v in m.getVars():\n",
    "    if \"x_0\" in v.VarName:\n",
    "        x_0.append(v.X)\n",
    "    if \"x_1\" in v.VarName:\n",
    "        x_1.append(v.X)\n",
    "    if \"y_0\" in v.VarName:\n",
    "        y_0.append(v.X)\n",
    "    if \"x_2\" in v.VarName:\n",
    "        x_2.append(v.X)\n",
    "    if \"y_1\" in v.VarName:\n",
    "        y_1.append(v.X)\n",
    "    if \"x_3\" in v.VarName:\n",
    "        x_3.append(v.X)  \n",
    "    if \"y_2\" in v.VarName:\n",
    "        y_2.append(v.X)\n",
    "    if \"x_4\" in v.VarName:\n",
    "        x_4.append(v.X)   \n",
    "    if \"y_3\" in v.VarName:\n",
    "        y_3.append(v.X)\n",
    "    if \"x_5\" in v.VarName:\n",
    "        x_5.append(v.X)  \n",
    "    if \"y_4\" in v.VarName:\n",
    "        y_4.append(v.X)\n",
    "    if \"x_6\" in v.VarName:\n",
    "        x_6.append(v.X)  \n",
    "        \n",
    "x_0=np.array(x_0)\n",
    "x_1 = np.array(x_1)\n",
    "y_0 = np.array(y_0)\n",
    "x_2 = np.array(x_2)\n",
    "y_1 = np.array(y_1)\n",
    "x_3= np.array(x_3)\n",
    "\n",
    "\n",
    "\n",
    "x_1_ = W[0]@x_0+b[0]\n",
    "x_2_ = W[1]@y_0+b[1]\n",
    "x_3_ = W[2]@y_1+b[2]\n",
    "#print(np.isclose(x_1_,x_1,atol=1e-8))\n",
    "#print(np.isclose(x_2_,x_2,atol=1e-8))\n",
    "#print(np.isclose(x_3_,x_3,atol=1e-8))\n",
    "\n",
    "print(np.isclose((x_1>0)*x_1,y_0,atol=1e-8))\n",
    "print(np.isclose((x_2>0)*x_2,y_1,atol=1e-8))\n",
    "\n",
    "#x_1[50],y_0[50],L[1][50],U[1][50]"
   ]
  },
  {
   "cell_type": "code",
   "execution_count": null,
   "metadata": {},
   "outputs": [],
   "source": []
  },
  {
   "cell_type": "code",
   "execution_count": 42,
   "metadata": {},
   "outputs": [
    {
     "name": "stdout",
     "output_type": "stream",
     "text": [
      "Warning for adding constraints: zero or small (< 1e-13) coefficients, ignored\n"
     ]
    },
    {
     "name": "stderr",
     "output_type": "stream",
     "text": [
      "2022-06-01 17:24:00 (INFO): Warning for adding constraints: zero or small (< 1e-13) coefficients, ignored\n"
     ]
    },
    {
     "name": "stdout",
     "output_type": "stream",
     "text": [
      "1 0\n"
     ]
    }
   ],
   "source": [
    "imgs,labels=next(iter(test_loader))\n",
    "img=imgs[0]\n",
    "eps=0.01\n",
    "verified,infeasible=verify_single_image_gp(model,img,eps)\n",
    "print(verified,infeasible)"
   ]
  },
  {
   "cell_type": "code",
   "execution_count": null,
   "metadata": {},
   "outputs": [],
   "source": []
  },
  {
   "cell_type": "code",
   "execution_count": null,
   "metadata": {},
   "outputs": [
    {
     "name": "stdout",
     "output_type": "stream",
     "text": [
      "Loaded results/2022-05-25_00.29.35_test_base_MLP5/models/MLP5_mod_loaded\n",
      "Using mean (0.1307,)\n",
      "model accuracy: 0.9794\n",
      "verify 1st batch data\n",
      "Warning for adding constraints: zero or small (< 1e-13) coefficients, ignored\n"
     ]
    },
    {
     "name": "stderr",
     "output_type": "stream",
     "text": [
      "2022-06-01 17:27:17 (INFO): Warning for adding constraints: zero or small (< 1e-13) coefficients, ignored\n"
     ]
    },
    {
     "name": "stdout",
     "output_type": "stream",
     "text": [
      "Warning for adding constraints: zero or small (< 1e-13) coefficients, ignored\n"
     ]
    },
    {
     "name": "stderr",
     "output_type": "stream",
     "text": [
      "2022-06-01 17:29:45 (INFO): Warning for adding constraints: zero or small (< 1e-13) coefficients, ignored\n"
     ]
    },
    {
     "name": "stdout",
     "output_type": "stream",
     "text": [
      "Warning for adding constraints: zero or small (< 1e-13) coefficients, ignored\n"
     ]
    },
    {
     "name": "stderr",
     "output_type": "stream",
     "text": [
      "2022-06-01 17:30:38 (INFO): Warning for adding constraints: zero or small (< 1e-13) coefficients, ignored\n"
     ]
    },
    {
     "name": "stdout",
     "output_type": "stream",
     "text": [
      "Warning for adding constraints: zero or small (< 1e-13) coefficients, ignored\n"
     ]
    },
    {
     "name": "stderr",
     "output_type": "stream",
     "text": [
      "2022-06-01 17:33:45 (INFO): Warning for adding constraints: zero or small (< 1e-13) coefficients, ignored\n"
     ]
    },
    {
     "name": "stdout",
     "output_type": "stream",
     "text": [
      "Warning for adding constraints: zero or small (< 1e-13) coefficients, ignored\n"
     ]
    },
    {
     "name": "stderr",
     "output_type": "stream",
     "text": [
      "2022-06-01 17:35:23 (INFO): Warning for adding constraints: zero or small (< 1e-13) coefficients, ignored\n"
     ]
    },
    {
     "name": "stdout",
     "output_type": "stream",
     "text": [
      "Warning for adding constraints: zero or small (< 1e-13) coefficients, ignored\n"
     ]
    },
    {
     "name": "stderr",
     "output_type": "stream",
     "text": [
      "2022-06-01 17:37:25 (INFO): Warning for adding constraints: zero or small (< 1e-13) coefficients, ignored\n"
     ]
    },
    {
     "name": "stdout",
     "output_type": "stream",
     "text": [
      "Warning for adding constraints: zero or small (< 1e-13) coefficients, ignored\n"
     ]
    },
    {
     "name": "stderr",
     "output_type": "stream",
     "text": [
      "2022-06-01 17:39:24 (INFO): Warning for adding constraints: zero or small (< 1e-13) coefficients, ignored\n"
     ]
    },
    {
     "name": "stdout",
     "output_type": "stream",
     "text": [
      "Warning for adding constraints: zero or small (< 1e-13) coefficients, ignored\n"
     ]
    },
    {
     "name": "stderr",
     "output_type": "stream",
     "text": [
      "2022-06-01 17:42:14 (INFO): Warning for adding constraints: zero or small (< 1e-13) coefficients, ignored\n"
     ]
    },
    {
     "name": "stdout",
     "output_type": "stream",
     "text": [
      "Warning for adding constraints: zero or small (< 1e-13) coefficients, ignored\n"
     ]
    },
    {
     "name": "stderr",
     "output_type": "stream",
     "text": [
      "2022-06-01 17:43:46 (INFO): Warning for adding constraints: zero or small (< 1e-13) coefficients, ignored\n"
     ]
    },
    {
     "name": "stdout",
     "output_type": "stream",
     "text": [
      "Warning for adding constraints: zero or small (< 1e-13) coefficients, ignored\n"
     ]
    },
    {
     "name": "stderr",
     "output_type": "stream",
     "text": [
      "2022-06-01 17:44:34 (INFO): Warning for adding constraints: zero or small (< 1e-13) coefficients, ignored\n"
     ]
    },
    {
     "name": "stdout",
     "output_type": "stream",
     "text": [
      "Warning for adding constraints: zero or small (< 1e-13) coefficients, ignored\n"
     ]
    },
    {
     "name": "stderr",
     "output_type": "stream",
     "text": [
      "2022-06-01 17:45:45 (INFO): Warning for adding constraints: zero or small (< 1e-13) coefficients, ignored\n"
     ]
    },
    {
     "name": "stdout",
     "output_type": "stream",
     "text": [
      "Warning for adding constraints: zero or small (< 1e-13) coefficients, ignored\n"
     ]
    },
    {
     "name": "stderr",
     "output_type": "stream",
     "text": [
      "2022-06-01 17:50:07 (INFO): Warning for adding constraints: zero or small (< 1e-13) coefficients, ignored\n"
     ]
    },
    {
     "name": "stdout",
     "output_type": "stream",
     "text": [
      "Warning for adding constraints: zero or small (< 1e-13) coefficients, ignored\n"
     ]
    },
    {
     "name": "stderr",
     "output_type": "stream",
     "text": [
      "2022-06-01 17:53:20 (INFO): Warning for adding constraints: zero or small (< 1e-13) coefficients, ignored\n"
     ]
    },
    {
     "name": "stdout",
     "output_type": "stream",
     "text": [
      "Warning for adding constraints: zero or small (< 1e-13) coefficients, ignored\n"
     ]
    },
    {
     "name": "stderr",
     "output_type": "stream",
     "text": [
      "2022-06-01 17:54:42 (INFO): Warning for adding constraints: zero or small (< 1e-13) coefficients, ignored\n"
     ]
    },
    {
     "name": "stdout",
     "output_type": "stream",
     "text": [
      "Warning for adding constraints: zero or small (< 1e-13) coefficients, ignored\n"
     ]
    },
    {
     "name": "stderr",
     "output_type": "stream",
     "text": [
      "2022-06-01 17:57:46 (INFO): Warning for adding constraints: zero or small (< 1e-13) coefficients, ignored\n"
     ]
    },
    {
     "name": "stdout",
     "output_type": "stream",
     "text": [
      "Warning for adding constraints: zero or small (< 1e-13) coefficients, ignored\n"
     ]
    },
    {
     "name": "stderr",
     "output_type": "stream",
     "text": [
      "2022-06-01 18:01:22 (INFO): Warning for adding constraints: zero or small (< 1e-13) coefficients, ignored\n"
     ]
    },
    {
     "name": "stdout",
     "output_type": "stream",
     "text": [
      "Warning for adding constraints: zero or small (< 1e-13) coefficients, ignored\n"
     ]
    },
    {
     "name": "stderr",
     "output_type": "stream",
     "text": [
      "2022-06-01 18:03:13 (INFO): Warning for adding constraints: zero or small (< 1e-13) coefficients, ignored\n"
     ]
    },
    {
     "name": "stdout",
     "output_type": "stream",
     "text": [
      "Warning for adding constraints: zero or small (< 1e-13) coefficients, ignored\n"
     ]
    },
    {
     "name": "stderr",
     "output_type": "stream",
     "text": [
      "2022-06-01 18:04:32 (INFO): Warning for adding constraints: zero or small (< 1e-13) coefficients, ignored\n"
     ]
    },
    {
     "name": "stdout",
     "output_type": "stream",
     "text": [
      "Warning for adding constraints: zero or small (< 1e-13) coefficients, ignored\n"
     ]
    },
    {
     "name": "stderr",
     "output_type": "stream",
     "text": [
      "2022-06-01 18:07:12 (INFO): Warning for adding constraints: zero or small (< 1e-13) coefficients, ignored\n"
     ]
    },
    {
     "name": "stdout",
     "output_type": "stream",
     "text": [
      "Warning for adding constraints: zero or small (< 1e-13) coefficients, ignored\n"
     ]
    },
    {
     "name": "stderr",
     "output_type": "stream",
     "text": [
      "2022-06-01 18:10:04 (INFO): Warning for adding constraints: zero or small (< 1e-13) coefficients, ignored\n"
     ]
    },
    {
     "name": "stdout",
     "output_type": "stream",
     "text": [
      "Warning for adding constraints: zero or small (< 1e-13) coefficients, ignored\n"
     ]
    },
    {
     "name": "stderr",
     "output_type": "stream",
     "text": [
      "2022-06-01 18:13:05 (INFO): Warning for adding constraints: zero or small (< 1e-13) coefficients, ignored\n"
     ]
    },
    {
     "name": "stdout",
     "output_type": "stream",
     "text": [
      "Warning for adding constraints: zero or small (< 1e-13) coefficients, ignored\n"
     ]
    },
    {
     "name": "stderr",
     "output_type": "stream",
     "text": [
      "2022-06-01 18:15:42 (INFO): Warning for adding constraints: zero or small (< 1e-13) coefficients, ignored\n"
     ]
    },
    {
     "name": "stdout",
     "output_type": "stream",
     "text": [
      "Warning for adding constraints: zero or small (< 1e-13) coefficients, ignored\n"
     ]
    },
    {
     "name": "stderr",
     "output_type": "stream",
     "text": [
      "2022-06-01 18:19:34 (INFO): Warning for adding constraints: zero or small (< 1e-13) coefficients, ignored\n"
     ]
    },
    {
     "name": "stdout",
     "output_type": "stream",
     "text": [
      "Warning for adding constraints: zero or small (< 1e-13) coefficients, ignored\n"
     ]
    },
    {
     "name": "stderr",
     "output_type": "stream",
     "text": [
      "2022-06-01 18:21:30 (INFO): Warning for adding constraints: zero or small (< 1e-13) coefficients, ignored\n"
     ]
    },
    {
     "name": "stdout",
     "output_type": "stream",
     "text": [
      "Warning for adding constraints: zero or small (< 1e-13) coefficients, ignored\n"
     ]
    },
    {
     "name": "stderr",
     "output_type": "stream",
     "text": [
      "2022-06-01 18:23:27 (INFO): Warning for adding constraints: zero or small (< 1e-13) coefficients, ignored\n"
     ]
    },
    {
     "name": "stdout",
     "output_type": "stream",
     "text": [
      "Warning for adding constraints: zero or small (< 1e-13) coefficients, ignored\n"
     ]
    },
    {
     "name": "stderr",
     "output_type": "stream",
     "text": [
      "2022-06-01 18:25:32 (INFO): Warning for adding constraints: zero or small (< 1e-13) coefficients, ignored\n"
     ]
    },
    {
     "name": "stdout",
     "output_type": "stream",
     "text": [
      "Warning for adding constraints: zero or small (< 1e-13) coefficients, ignored\n"
     ]
    },
    {
     "name": "stderr",
     "output_type": "stream",
     "text": [
      "2022-06-01 18:28:22 (INFO): Warning for adding constraints: zero or small (< 1e-13) coefficients, ignored\n"
     ]
    },
    {
     "name": "stdout",
     "output_type": "stream",
     "text": [
      "Warning for adding constraints: zero or small (< 1e-13) coefficients, ignored\n"
     ]
    },
    {
     "name": "stderr",
     "output_type": "stream",
     "text": [
      "2022-06-01 18:35:24 (INFO): Warning for adding constraints: zero or small (< 1e-13) coefficients, ignored\n"
     ]
    },
    {
     "name": "stdout",
     "output_type": "stream",
     "text": [
      "Warning for adding constraints: zero or small (< 1e-13) coefficients, ignored\n"
     ]
    },
    {
     "name": "stderr",
     "output_type": "stream",
     "text": [
      "2022-06-01 18:36:57 (INFO): Warning for adding constraints: zero or small (< 1e-13) coefficients, ignored\n"
     ]
    },
    {
     "name": "stdout",
     "output_type": "stream",
     "text": [
      "Warning for adding constraints: zero or small (< 1e-13) coefficients, ignored\n"
     ]
    },
    {
     "name": "stderr",
     "output_type": "stream",
     "text": [
      "2022-06-01 18:38:17 (INFO): Warning for adding constraints: zero or small (< 1e-13) coefficients, ignored\n"
     ]
    },
    {
     "name": "stdout",
     "output_type": "stream",
     "text": [
      "Warning for adding constraints: zero or small (< 1e-13) coefficients, ignored\n"
     ]
    },
    {
     "name": "stderr",
     "output_type": "stream",
     "text": [
      "2022-06-01 18:41:56 (INFO): Warning for adding constraints: zero or small (< 1e-13) coefficients, ignored\n"
     ]
    },
    {
     "name": "stdout",
     "output_type": "stream",
     "text": [
      "Warning for adding constraints: zero or small (< 1e-13) coefficients, ignored\n"
     ]
    },
    {
     "name": "stderr",
     "output_type": "stream",
     "text": [
      "2022-06-01 18:42:59 (INFO): Warning for adding constraints: zero or small (< 1e-13) coefficients, ignored\n"
     ]
    }
   ],
   "source": [
    "arguments={}\n",
    "arguments['device']=\"cpu\"\n",
    "\n",
    "#arguments['checkpoint_name'] = \"2022-05-20_16.19.39_model=MLP2_dataset=MNIST_prune-criterion=SNAPit_pruning-limit=0.75_train-scheme=DefaultTrainer_seed=1234\"\n",
    "#arguments['checkpoint_model'] = \"MLP2_mod_finished\"\n",
    "#arguments['checkpoint_name']=\"2022-05-11_17.20.23_model=MLP3_dataset=MNIST_prune-criterion=SNAPit_pruning-limit=0.5_train-scheme=DefaultTrainer_seed=1234\"\n",
    "#arguments['checkpoint_model'] = \"MLP3_mod_finished\"\n",
    "arguments['checkpoint_name'] = \"2022-05-25_00.29.35_test_base_MLP5\"\n",
    "arguments['checkpoint_model']=\"MLP5_mod_loaded\"\n",
    "arguments['seed']=1234\n",
    "arguments['eps']=0.01\n",
    "\n",
    "arguments['data_set'] = \"MNIST\"\n",
    "arguments['batch_size'] = 32\n",
    "arguments['mean'] = (0.1307,)\n",
    "arguments['std'] = (0.3081,)\n",
    "arguments['tuning'] = 0\n",
    "arguments['preload_all_data'] = 0\n",
    "arguments['random_shuffle_labels'] = 0\n",
    "results1=verify(arguments)\n",
    "arguments['eps']=0.03\n",
    "results2=verify(arguments)\n"
   ]
  },
  {
   "cell_type": "code",
   "execution_count": null,
   "metadata": {},
   "outputs": [],
   "source": [
    "results1,results2"
   ]
  },
  {
   "cell_type": "code",
   "execution_count": null,
   "metadata": {},
   "outputs": [],
   "source": [
    "\"\"\"\n",
    "Results\n",
    "\n",
    "MLP2:[784, 32,  10] acc 94.51%\n",
    "\n",
    "eps=0.01\n",
    "{'accuracy': 0.9451,\n",
    "  'data_num': 32,\n",
    "  'verified_num': 10,\n",
    "  'infeasible_num': 22,\n",
    "  'time_per_img': 0.1279579997062683}\n",
    "\n",
    "eps=0.03\n",
    "{'accuracy': 0.9451,\n",
    "  'data_num': 32,\n",
    "  'verified_num': 13,\n",
    "  'infeasible_num': 19,\n",
    "  'time_per_img': 0.2503535747528076}\n",
    "\n",
    "eps=0.1\n",
    "{'accuracy': 0.9451,\n",
    "  'data_num': 32,\n",
    "  'verified_num': 12,\n",
    "  'infeasible_num': 10,\n",
    "  'time_per_img': 0.6505700498819351}\n",
    "  \n",
    "eps=0.3\n",
    "{'accuracy': 0.9451,\n",
    "  'data_num': 32,\n",
    "  'verified_num': 0,\n",
    "  'infeasible_num': 2,\n",
    "  'time_per_img': 0.40503598004579544}\n",
    "  \n",
    "  \n",
    "  \n",
    "MLP3: [784, 32, 31, 10] acc: 96.94%\n",
    "\n",
    "eps=0.01\n",
    "{'accuracy': 0.9694,\n",
    "  'data_num': 32,\n",
    "  'verified_num': 1,\n",
    "  'infeasible_num': 31,\n",
    "  'time_per_img': 0.20245391130447388}\n",
    "  \n",
    "eps=0.03\n",
    "{'accuracy': 0.9694,\n",
    "  'data_num': 32,\n",
    "  'verified_num': 3,\n",
    "  'infeasible_num': 29,\n",
    "  'time_per_img': 1.5850246921181679}\n",
    "\n",
    "eps=0.1\n",
    "\n",
    "{'accuracy': 0.9694,\n",
    " 'data_num': 32,\n",
    " 'verified_num': 5,\n",
    " 'infeasible_num': 20,\n",
    " 'time_per_img': 29.422851890325546}\n",
    "\n",
    "{'accuracy': 0.9694,\n",
    " 'data_num': 32,\n",
    " 'verified_num': 0,\n",
    " 'infeasible_num': 3,\n",
    " 'time_per_img': 61.72579529136419}\n",
    "\n",
    "\n",
    "MLP5:[784,100,100,100,100 10] acc 97.94%\n",
    "\n",
    "eps=0.01\n",
    "{'accuracy': 0.9794,\n",
    "  'data_num': 32,\n",
    "  'verified_num': 0,\n",
    "  'infeasible_num': 32,\n",
    "  'time_per_img': 0.30446118861436844}\n",
    "  \n",
    "eps=0.03\n",
    "{'accuracy': 0.9794,\n",
    "  'data_num': 32,\n",
    "  'verified_num': 0,\n",
    "  'infeasible_num': 32,\n",
    "  'time_per_img': 1.490784928202629}"
   ]
  },
  {
   "cell_type": "code",
   "execution_count": 114,
   "metadata": {},
   "outputs": [
    {
     "data": {
      "text/plain": [
       "0.4166666666666667"
      ]
     },
     "execution_count": 114,
     "metadata": {},
     "output_type": "execute_result"
    }
   ],
   "source": [
    "5/12"
   ]
  },
  {
   "cell_type": "code",
   "execution_count": null,
   "metadata": {},
   "outputs": [],
   "source": []
  }
 ],
 "metadata": {
  "kernelspec": {
   "display_name": "Python 3",
   "language": "python",
   "name": "python3"
  },
  "language_info": {
   "codemirror_mode": {
    "name": "ipython",
    "version": 3
   },
   "file_extension": ".py",
   "mimetype": "text/x-python",
   "name": "python",
   "nbconvert_exporter": "python",
   "pygments_lexer": "ipython3",
   "version": "3.8.5"
  }
 },
 "nbformat": 4,
 "nbformat_minor": 4
}
