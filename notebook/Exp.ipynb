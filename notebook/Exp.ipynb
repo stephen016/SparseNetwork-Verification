{
 "cells": [
  {
   "cell_type": "markdown",
   "metadata": {},
   "source": [
    "# Pruning"
   ]
  },
  {
   "cell_type": "code",
   "execution_count": 1,
   "metadata": {},
   "outputs": [],
   "source": [
    "import sys\n",
    "sys.path.append(\"..\")"
   ]
  },
  {
   "cell_type": "code",
   "execution_count": 2,
   "metadata": {
    "scrolled": true
   },
   "outputs": [
    {
     "name": "stdout",
     "output_type": "stream",
     "text": [
      "The Zen of Python, by Tim Peters\n",
      "\n",
      "Beautiful is better than ugly.\n",
      "Explicit is better than implicit.\n",
      "Simple is better than complex.\n",
      "Complex is better than complicated.\n",
      "Flat is better than nested.\n",
      "Sparse is better than dense.\n",
      "Readability counts.\n",
      "Special cases aren't special enough to break the rules.\n",
      "Although practicality beats purity.\n",
      "Errors should never pass silently.\n",
      "Unless explicitly silenced.\n",
      "In the face of ambiguity, refuse the temptation to guess.\n",
      "There should be one-- and preferably only one --obvious way to do it.\n",
      "Although that way may not be obvious at first unless you're Dutch.\n",
      "Now is better than never.\n",
      "Although never is often better than *right* now.\n",
      "If the implementation is hard to explain, it's a bad idea.\n",
      "If the implementation is easy to explain, it may be a good idea.\n",
      "Namespaces are one honking great idea -- let's do more of those!\n"
     ]
    }
   ],
   "source": [
    "from asyncio import MultiLoopChildWatcher\n",
    "from doctest import OutputChecker\n",
    "\n",
    "from turtle import hideturtle\n",
    "import warnings\n",
    "\n",
    "from models import GeneralModel\n",
    "from models.statistics.Metrics import Metrics\n",
    "from utils.config_utils import *\n",
    "from utils.model_utils import *\n",
    "from utils.system_utils import *\n",
    "\n",
    "import matplotlib.pyplot as plt\n",
    "from models.networks.ConvertMLP import ConvertMLP2,ConvertMLP3\n",
    "\n",
    "from verify_utils.verify_utils import verify_single_image\n",
    "\n",
    "warnings.filterwarnings(\"ignore\")"
   ]
  },
  {
   "cell_type": "code",
   "execution_count": 3,
   "metadata": {},
   "outputs": [
    {
     "data": {
      "text/plain": [
       "'1.11.0+cu113'"
      ]
     },
     "execution_count": 3,
     "metadata": {},
     "output_type": "execute_result"
    }
   ],
   "source": [
    "torch.__version__"
   ]
  },
  {
   "cell_type": "code",
   "execution_count": 4,
   "metadata": {},
   "outputs": [],
   "source": [
    "# define arguments manually\n",
    "arguments = {}\n",
    "# device\n",
    "arguments['device'] = \"cuda\"\n",
    "\n",
    "# define arguments for model\n",
    "#arguments.model = \"ResNet18\" # ResNet not supported for structured\n",
    "arguments['model'] = \"MLP2\"\n",
    "arguments['hidden_dim'] = 64\n",
    "#arguments.input_dim = None # for ResNet\n",
    "#arguments.input_dim = (1,1,1) # for LeNet5\n",
    "arguments['input_dim'] = (28,28) # for MNIST\n",
    "arguments['output_dim'] = 10\n",
    "arguments['disable_masking'] = 1 # 0 for disable mask, 1 for mask (unstructured)\n",
    "arguments['track_weights'] = 0\n",
    "arguments['enable_rewinding'] = 0\n",
    "arguments['growing_rate'] = 0.0000\n",
    "arguments['outer_layer_pruning'] = 0\n",
    "# arguments.prune_criterion = \"SNIPit\"  # unstructured\n",
    "\n",
    "arguments['prune_criterion'] = \"SNAPit\" # or SNAPit ... # structured\n",
    "arguments['l0'] = 0\n",
    "arguments['l0_reg'] = 1.0\n",
    "arguments['l1_reg'] = 0\n",
    "arguments['lp_reg'] = 0\n",
    "arguments['l2_reg'] = 5e-5\n",
    "arguments['hoyer_reg'] = 0.001\n",
    "arguments['N'] = 6000 # different for different dataset\n",
    "arguments['beta_ema'] = 0.999\n",
    "\n",
    "\n",
    "# define arguments for criterion\n",
    "arguments['pruning_limit'] = 0.75\n",
    "arguments['snip_steps'] = 6\n",
    "\n",
    "# not pre-trained model\n",
    "arguments['checkpoint_name'] = None\n",
    "arguments['checkpoint_model'] = None\n",
    "\n",
    "# dataset\n",
    "arguments['data_set'] = \"MNIST\"\n",
    "arguments['batch_size'] = 512\n",
    "arguments['mean'] = (0.1307,)\n",
    "arguments['std'] = (0.3081,)\n",
    "arguments['tuning'] = 0\n",
    "arguments['preload_all_data'] = 0\n",
    "arguments['random_shuffle_labels'] = 0\n",
    "\n",
    "# loss\n",
    "arguments['loss'] = \"CrossEntropy\"\n",
    "\n",
    "# optimizer\n",
    "arguments['optimizer'] = \"ADAM\"\n",
    "arguments['learning_rate'] = 2e-3\n",
    "\n",
    "# training\n",
    "arguments['save_freq'] = 2\n",
    "arguments['eval'] = 0\n",
    "arguments['train_scheme'] = \"DefaultTrainer\"\n",
    "arguments['seed'] = 1234\n",
    "arguments['epochs'] = 6\n",
    "\n",
    "arguments['grad_noise'] = 0\n",
    "arguments['grad_clip'] =10\n",
    "arguments['eval_freq'] = 1000\n",
    "arguments['max_training_minutes']= 6120\n",
    "arguments['plot_weights_freq'] = 50\n",
    "arguments['prune_delay'] = 0\n",
    "arguments['prune_freq'] = 1\n",
    "arguments['rewind_to'] = 6\n",
    "\n",
    "arguments['skip_first_plot'] = 0\n",
    "arguments['disable_histograms'] = 0\n",
    "arguments['disable_saliency'] = 0\n",
    "arguments['disable_confusion'] = 0\n",
    "arguments['disable_weightplot'] = 0\n",
    "arguments['disable_netplot'] = 0\n",
    "arguments['disable_activations'] = 0\n",
    "\n",
    "arguments['pruning_rate'] = 0\n",
    "# during training\n",
    "arguments['pruning_freq'] = 1"
   ]
  },
  {
   "cell_type": "code",
   "execution_count": 5,
   "metadata": {},
   "outputs": [
    {
     "name": "stdout",
     "output_type": "stream",
     "text": [
      "starting at 2022-05-18_17.38.00\n"
     ]
    }
   ],
   "source": [
    "metrics = Metrics()\n",
    "out = metrics.log_line\n",
    "print = out\n",
    "\n",
    "ensure_current_directory()\n",
    "global out \n",
    "out = metrics.log_line\n",
    "out(f\"starting at {get_date_stamp()}\")\n",
    "\n",
    "metrics._batch_size = arguments['batch_size']\n",
    "metrics._eval_freq = arguments['eval_freq']"
   ]
  },
  {
   "cell_type": "code",
   "execution_count": 6,
   "metadata": {},
   "outputs": [],
   "source": [
    "device = configure_device(arguments)"
   ]
  },
  {
   "cell_type": "code",
   "execution_count": 7,
   "metadata": {},
   "outputs": [],
   "source": [
    "# get model\n",
    "model: GeneralModel = find_right_model(\n",
    "        NETWORKS_DIR,arguments['model'],\n",
    "        device=device,\n",
    "        hidden_dim = arguments['hidden_dim'],\n",
    "        input_dim = arguments['input_dim'],\n",
    "        output_dim = arguments['output_dim'],\n",
    "        is_maskable=arguments['disable_masking'],\n",
    "        is_tracking_weights=arguments['track_weights'],\n",
    "        is_rewindable=arguments['enable_rewinding'],\n",
    "        is_growable=arguments['growing_rate'] > 0,\n",
    "        outer_layer_pruning=arguments['outer_layer_pruning'],\n",
    "        maintain_outer_mask_anyway=(\n",
    "                                       not arguments['outer_layer_pruning']) and (\n",
    "                                           \"Structured\" in arguments['prune_criterion']),\n",
    "        l0=arguments['l0'],\n",
    "        l0_reg=arguments['l0_reg'],\n",
    "        N=arguments['N'],\n",
    "        beta_ema=arguments['beta_ema'],\n",
    "        l2_reg=arguments['l2_reg']\n",
    "    ).to(device)"
   ]
  },
  {
   "cell_type": "code",
   "execution_count": 8,
   "metadata": {},
   "outputs": [
    {
     "name": "stdout",
     "output_type": "stream",
     "text": [
      "torch.Size([64, 784])\n",
      "torch.Size([64])\n",
      "torch.Size([10, 64])\n",
      "torch.Size([10])\n"
     ]
    }
   ],
   "source": [
    "for key,param in model.named_parameters():\n",
    "    print(param.size())"
   ]
  },
  {
   "cell_type": "code",
   "execution_count": 9,
   "metadata": {},
   "outputs": [],
   "source": [
    "# get criterion\n",
    "criterion = find_right_model(\n",
    "        CRITERION_DIR,arguments['prune_criterion'],\n",
    "        model=model,\n",
    "        limit=arguments['pruning_limit'],\n",
    "        start=0.5,\n",
    "        steps=arguments['snip_steps'],\n",
    "        device=arguments['device']\n",
    "    )   "
   ]
  },
  {
   "cell_type": "code",
   "execution_count": 10,
   "metadata": {},
   "outputs": [
    {
     "name": "stdout",
     "output_type": "stream",
     "text": [
      "Using mean (0.1307,)\n"
     ]
    }
   ],
   "source": [
    "# load data\n",
    "train_loader, test_loader = find_right_model(\n",
    "        DATASETS, arguments['data_set'],\n",
    "        arguments=arguments,\n",
    "        mean=arguments['mean'],\n",
    "        std=arguments['std']\n",
    "    )"
   ]
  },
  {
   "cell_type": "code",
   "execution_count": 11,
   "metadata": {},
   "outputs": [],
   "source": [
    "# get loss function\n",
    "loss = find_right_model(\n",
    "        LOSS_DIR, arguments['loss'],\n",
    "        device=device,\n",
    "        l1_reg=arguments['l1_reg'],\n",
    "        lp_reg=arguments['lp_reg'],\n",
    "        l0_reg=arguments['l0_reg'],\n",
    "        hoyer_reg=arguments['hoyer_reg']\n",
    "    )"
   ]
  },
  {
   "cell_type": "code",
   "execution_count": 12,
   "metadata": {},
   "outputs": [],
   "source": [
    "# get optimizer\n",
    "optimizer = find_right_model(\n",
    "        OPTIMS, arguments['optimizer'],\n",
    "        params=model.parameters(),\n",
    "        lr=arguments['learning_rate'],\n",
    "        weight_decay=arguments['l2_reg'] if not arguments['l0'] else 0\n",
    "    )\n"
   ]
  },
  {
   "cell_type": "code",
   "execution_count": 13,
   "metadata": {},
   "outputs": [
    {
     "name": "stdout",
     "output_type": "stream",
     "text": [
      "Made datestamp: 2022-05-18_17.38.04_model=MLP2_dataset=MNIST_prune-criterion=SNAPit_pruning-limit=0.75_train-scheme=DefaultTrainer_seed=1234\n"
     ]
    }
   ],
   "source": [
    "if not arguments['eval']:\n",
    "    # build trainer\n",
    "    run_name = f\"_model={arguments['model']}_dataset={arguments['data_set']}_prune-criterion={arguments['prune_criterion']}\" + \\\n",
    "               f\"_pruning-limit={arguments['pruning_limit']}_train-scheme={arguments['train_scheme']}_seed={arguments['seed']}\"\n",
    "    trainer = find_right_model(\n",
    "            TRAINERS_DIR, arguments['train_scheme'],\n",
    "            model=model,\n",
    "            loss=loss,\n",
    "            optimizer=optimizer,\n",
    "            device=device,\n",
    "            arguments=arguments,\n",
    "            train_loader=train_loader,\n",
    "            test_loader=test_loader,\n",
    "            metrics=metrics,\n",
    "            criterion=criterion,\n",
    "            run_name = run_name\n",
    "        )"
   ]
  },
  {
   "cell_type": "code",
   "execution_count": 14,
   "metadata": {
    "scrolled": true
   },
   "outputs": [
    {
     "name": "stdout",
     "output_type": "stream",
     "text": [
      "\u001b[1mStarted training\u001b[0m\n",
      "Saved results/2022-05-18_17.38.04_model=MLP2_dataset=MNIST_prune-criterion=SNAPit_pruning-limit=0.75_train-scheme=DefaultTrainer_seed=1234/output/scores\n",
      "pruning 25088 percentage 0.5 length_nonzero 50176\n",
      "pruning 320 percentage 0.5 length_nonzero 640\n",
      "  (layers): Sequential(\n",
      "    (0): ContainerLinear(in_features=784, out_features=32.0, bias=True)\n",
      "    (2): ContainerLinear(in_features=32.0, out_features=10, bias=True)\n",
      "final percentage after snap: 0.5\n",
      "Saved results/2022-05-18_17.38.04_model=MLP2_dataset=MNIST_prune-criterion=SNAPit_pruning-limit=0.75_train-scheme=DefaultTrainer_seed=1234/output/scores\n",
      "pruning 7056 percentage 0.28125 length_nonzero 25088\n",
      "pruning 90 percentage 0.28125 length_nonzero 320\n",
      "  (layers): Sequential(\n",
      "    (0): ContainerLinear(in_features=784, out_features=23.0, bias=True)\n",
      "    (2): ContainerLinear(in_features=23.0, out_features=10, bias=True)\n",
      "final percentage after snap: 0.28125\n",
      "Saved results/2022-05-18_17.38.04_model=MLP2_dataset=MNIST_prune-criterion=SNAPit_pruning-limit=0.75_train-scheme=DefaultTrainer_seed=1234/output/scores\n",
      "pruning 3136 percentage 0.17391304347826086 length_nonzero 18032\n",
      "pruning 40 percentage 0.17391304347826086 length_nonzero 230\n",
      "  (layers): Sequential(\n",
      "    (0): ContainerLinear(in_features=784, out_features=19.0, bias=True)\n",
      "    (2): ContainerLinear(in_features=19.0, out_features=10, bias=True)\n",
      "final percentage after snap: 0.17391304347826086\n",
      "Saved results/2022-05-18_17.38.04_model=MLP2_dataset=MNIST_prune-criterion=SNAPit_pruning-limit=0.75_train-scheme=DefaultTrainer_seed=1234/output/scores\n",
      "pruning 1568 percentage 0.10526315789473684 length_nonzero 14896\n",
      "pruning 20 percentage 0.10526315789473684 length_nonzero 190\n",
      "  (layers): Sequential(\n",
      "    (0): ContainerLinear(in_features=784, out_features=17.0, bias=True)\n",
      "    (2): ContainerLinear(in_features=17.0, out_features=10, bias=True)\n",
      "final percentage after snap: 0.10526315789473684\n",
      "Saved results/2022-05-18_17.38.04_model=MLP2_dataset=MNIST_prune-criterion=SNAPit_pruning-limit=0.75_train-scheme=DefaultTrainer_seed=1234/output/scores\n",
      "pruning 784 percentage 0.058823529411764705 length_nonzero 13328\n",
      "pruning 10 percentage 0.058823529411764705 length_nonzero 170\n",
      "  (layers): Sequential(\n",
      "    (0): ContainerLinear(in_features=784, out_features=16.0, bias=True)\n",
      "    (2): ContainerLinear(in_features=16.0, out_features=10, bias=True)\n",
      "final percentage after snap: 0.058823529411764705\n",
      "Saved results/2022-05-18_17.38.04_model=MLP2_dataset=MNIST_prune-criterion=SNAPit_pruning-limit=0.75_train-scheme=DefaultTrainer_seed=1234/output/scores\n",
      "pruning 0 percentage 0.0 length_nonzero 12544\n",
      "pruning 0 percentage 0.0 length_nonzero 160\n",
      "  (layers): Sequential(\n",
      "    (0): ContainerLinear(in_features=784, out_features=16.0, bias=True)\n",
      "    (2): ContainerLinear(in_features=16.0, out_features=10, bias=True)\n",
      "final percentage after snap: 0.0\n",
      "Saved results/2022-05-18_17.38.04_model=MLP2_dataset=MNIST_prune-criterion=SNAPit_pruning-limit=0.75_train-scheme=DefaultTrainer_seed=1234/output/scores\n",
      "pruning 0 percentage 0.0 length_nonzero 12544\n",
      "pruning 0 percentage 0.0 length_nonzero 160\n",
      "  (layers): Sequential(\n",
      "    (0): ContainerLinear(in_features=784, out_features=16.0, bias=True)\n",
      "    (2): ContainerLinear(in_features=16.0, out_features=10, bias=True)\n",
      "final percentage after snap: 0.0\n",
      "Saved results/2022-05-18_17.38.04_model=MLP2_dataset=MNIST_prune-criterion=SNAPit_pruning-limit=0.75_train-scheme=DefaultTrainer_seed=1234/output/scores\n",
      "pruning 784 percentage 0.0625 length_nonzero 12544\n",
      "pruning 10 percentage 0.0625 length_nonzero 160\n",
      "  (layers): Sequential(\n",
      "    (0): ContainerLinear(in_features=784, out_features=15.0, bias=True)\n",
      "    (2): ContainerLinear(in_features=15.0, out_features=10, bias=True)\n",
      "final percentage after snap: 0.0625\n",
      "\n",
      "\n",
      "\u001b[1mEPOCH 0 \u001b[0m \n",
      "\n",
      "\n",
      "\n",
      "\n",
      "Training... 0/118\n",
      "\n",
      "Evaluating... 19/20\n",
      "\n",
      "$  acc/train  |  loss/train  |  loss/test  |  acc/test  |  sparse/weight  |  sparse/node  |  sparse/hm  |  sparse/log_disk_size  |  time/gpu_time  |  time/flops_per_sample  |  time/flops_log_cum \n",
      "$  0.0976562  |  2.3816392   |  2.2485737  | 0.1073759  |    0.7656250    |   0.7656250   |  0.1883381  |       12.9116275       |    0.7593006    |      12055.0000000      |      6.7904372      \n",
      "$ |  cuda/ram_footprint  |  time/batch_time  |  \n",
      "$ |    247808.0000000    |     0.0203321     |\n",
      "Training... 117/118\n",
      "\n",
      "plotting..\n",
      "finished plotting\n",
      "\n",
      "\n",
      "\u001b[1mEPOCH 1 \u001b[0m \n",
      "\n",
      "\n",
      "\n",
      "\n",
      "Training... 0/118\n",
      "\n",
      "Evaluating... 19/20\n",
      "\n",
      "$  acc/train  |  loss/train  |  loss/test  |  acc/test  |  sparse/weight  |  sparse/node  |  sparse/hm  |  sparse/log_disk_size  |  time/gpu_time  |  time/flops_per_sample  |  time/flops_log_cum \n",
      "$  0.8984375  |  0.3128059   |  0.3157284  | 0.9081457  |    0.7656250    |   0.7656250   |  0.8308176  |       12.9116275       |    2.9212756    |      12055.0000000      |      8.8659841      \n",
      "$ |  cuda/ram_footprint  |  time/batch_time  |  \n",
      "$ |    247808.0000000    |     0.0075746     |\n",
      "Training... 117/118\n",
      "\n",
      "\n",
      "\n",
      "\u001b[1mEPOCH 2 \u001b[0m \n",
      "\n",
      "\n",
      "\n",
      "\n",
      "Training... 0/118\n",
      "\n",
      "Evaluating... 19/20\n",
      "\n",
      "$  acc/train  |  loss/train  |  loss/test  |  acc/test  |  sparse/weight  |  sparse/node  |  sparse/hm  |  sparse/log_disk_size  |  time/gpu_time  |  time/flops_per_sample  |  time/flops_log_cum \n",
      "$  0.9296875  |  0.2496427   |  0.2538415  | 0.9252298  |    0.7656250    |   0.7656250   |  0.8378946  |       12.9116275       |    1.9189088    |      12055.0000000      |      9.1651855      \n",
      "$ |  cuda/ram_footprint  |  time/batch_time  |  \n",
      "$ |    247808.0000000    |     0.0076564     |\n",
      "Training... 117/118\n",
      "\n",
      "\n",
      "SAVING...\n",
      "\n",
      "\n",
      "\n",
      "\u001b[1mEPOCH 3 \u001b[0m \n",
      "\n",
      "\n",
      "\n",
      "\n",
      "Training... 0/118\n",
      "\n",
      "Evaluating... 19/20\n",
      "\n",
      "$  acc/train  |  loss/train  |  loss/test  |  acc/test  |  sparse/weight  |  sparse/node  |  sparse/hm  |  sparse/log_disk_size  |  time/gpu_time  |  time/flops_per_sample  |  time/flops_log_cum \n",
      "$  0.9375000  |  0.2099359   |  0.2292394  | 0.9329102  |    0.7656250    |   0.7656250   |  0.8410298  |       12.9116275       |    2.5065125    |      12055.0000000      |      9.3406655      \n",
      "$ |  cuda/ram_footprint  |  time/batch_time  |  \n",
      "$ |    247808.0000000    |     0.0077435     |\n",
      "Training... 117/118\n",
      "\n",
      "\n",
      "\n",
      "\u001b[1mEPOCH 4 \u001b[0m \n",
      "\n",
      "\n",
      "\n",
      "\n",
      "Training... 0/118\n",
      "\n",
      "Evaluating... 19/20\n",
      "\n",
      "$  acc/train  |  loss/train  |  loss/test  |  acc/test  |  sparse/weight  |  sparse/node  |  sparse/hm  |  sparse/log_disk_size  |  time/gpu_time  |  time/flops_per_sample  |  time/flops_log_cum \n",
      "$  0.9492188  |  0.1928940   |  0.2127780  | 0.9397346  |    0.7656250    |   0.7656250   |  0.8437919  |       12.9116275       |    2.6259522    |      12055.0000000      |      9.4652983      \n",
      "$ |  cuda/ram_footprint  |  time/batch_time  |  \n",
      "$ |    247808.0000000    |     0.0076540     |\n",
      "Training... 117/118\n",
      "\n",
      "\n",
      "SAVING...\n",
      "\n",
      "\n",
      "\n",
      "\u001b[1mEPOCH 5 \u001b[0m \n",
      "\n",
      "\n",
      "\n",
      "\n",
      "Training... 0/118\n",
      "\n",
      "Evaluating... 19/20\n",
      "\n",
      "$  acc/train  |  loss/train  |  loss/test  |  acc/test  |  sparse/weight  |  sparse/node  |  sparse/hm  |  sparse/log_disk_size  |  time/gpu_time  |  time/flops_per_sample  |  time/flops_log_cum \n",
      "$  0.9335938  |  0.1691121   |  0.2014752  | 0.9426298  |    0.7656250    |   0.7656250   |  0.8449570  |       12.9116275       |    2.2174263    |      12055.0000000      |      9.5620247      \n",
      "$ |  cuda/ram_footprint  |  time/batch_time  |  \n",
      "$ |    247808.0000000    |     0.0076368     |\n",
      "Training... 117/118\n",
      "\n"
     ]
    },
    {
     "data": {
      "text/plain": [
       "<Figure size 432x288 with 0 Axes>"
      ]
     },
     "metadata": {},
     "output_type": "display_data"
    }
   ],
   "source": [
    "trainer.train()"
   ]
  },
  {
   "cell_type": "code",
   "execution_count": 15,
   "metadata": {},
   "outputs": [
    {
     "name": "stdout",
     "output_type": "stream",
     "text": [
      "torch.Size([15, 784])\n",
      "torch.Size([15])\n",
      "torch.Size([10, 15])\n",
      "torch.Size([10])\n"
     ]
    }
   ],
   "source": [
    "for key,param in model.named_parameters():\n",
    "    print(param.size())"
   ]
  },
  {
   "cell_type": "markdown",
   "metadata": {},
   "source": [
    "# Load saved models and saved metrics"
   ]
  },
  {
   "cell_type": "code",
   "execution_count": 16,
   "metadata": {},
   "outputs": [],
   "source": [
    "import pickle"
   ]
  },
  {
   "cell_type": "code",
   "execution_count": 17,
   "metadata": {},
   "outputs": [
    {
     "data": {
      "text/plain": [
       "MLP2(\n",
       "  (layers): Sequential(\n",
       "    (0): ContainerLinear(in_features=784, out_features=15.0, bias=True)\n",
       "    (1): ReLU()\n",
       "    (2): ContainerLinear(in_features=15.0, out_features=10, bias=True)\n",
       "  )\n",
       ")"
      ]
     },
     "execution_count": 17,
     "metadata": {},
     "output_type": "execute_result"
    }
   ],
   "source": [
    "result_path = \"gitignored/results\"\n",
    "ex_paths = os.listdir(result_path)\n",
    "\n",
    "models_path = os.path.join(result_path,ex_paths[0],\"models\")\n",
    "model_path=os.listdir(models_path)\n",
    "#print(model_path)\n",
    "# read metric\n",
    "metric_name = list(filter(lambda x: \"finished\" in x and \"Metrics\" in x ,model_path))[0]\n",
    "metric_path = os.path.join(models_path,metric_name)\n",
    "\n",
    "with open(metric_path, 'rb') as pickle_file:\n",
    "    metric = pickle.load(pickle_file)\n",
    "metric[\"_data\"][\"acc/test\"]\n",
    "\n",
    "# read model\n",
    "model_name = list(filter(lambda x: \"finished\" in x and \"mod\" in x ,model_path))[0]\n",
    "model_path = os.path.join(models_path,model_name)\n",
    "\n",
    "with open(model_path, 'rb') as pickle_file:\n",
    "    model = pickle.load(pickle_file)\n",
    "\n",
    "model.to(device)\n"
   ]
  },
  {
   "cell_type": "code",
   "execution_count": 25,
   "metadata": {},
   "outputs": [
    {
     "name": "stdout",
     "output_type": "stream",
     "text": [
      "results/2022-05-05_10.07.09_model=MLP2_dataset=MNIST_prune-criterion=SNAPit_pruning-limit=0.5_train-scheme=DefaultTrainer_seed=1234/models/MLP2_finished not loaded because file is missing\n",
      "results/2022-05-05_10.07.09_model=MLP2_dataset=MNIST_prune-criterion=SNAPit_pruning-limit=0.5_train-scheme=DefaultTrainer_seed=1234/models/MLP2_mod_finished not loaded because file is missing\n"
     ]
    }
   ],
   "source": [
    "# use DATAMANAGER is better\n",
    "# already has RESULTS_DIR, MODELS_DIR\n",
    "checkpoint_name = \"2022-05-05_10.07.09_model=MLP2_dataset=MNIST_prune-criterion=SNAPit_pruning-limit=0.5_train-scheme=DefaultTrainer_seed=1234\"\n",
    "checkpoint_model_state = \"MLP2_finished\"\n",
    "checkpoint_model = \"MLP2_mod_finished\"\n",
    "state_path = os.path.join(RESULTS_DIR,checkpoint_name,MODELS_DIR,checkpoint_model_state)\n",
    "model_path = os.path.join(RESULTS_DIR,checkpoint_name,MODELS_DIR,checkpoint_model)\n",
    "state= DATA_MANAGER.load_python_obj(state_path)\n",
    "model=DATA_MANAGER.load_python_obj(model_path)\n",
    "model"
   ]
  },
  {
   "cell_type": "code",
   "execution_count": 19,
   "metadata": {},
   "outputs": [
    {
     "name": "stdout",
     "output_type": "stream",
     "text": [
      "[Errno 2] No such file or directory: '/nfs/homedirs/wangxun/robustness/SparseNetwork-Verification/gitignored/results/MLP/try/try.pickle.pickle'\n",
      "Failed saving /nfs/homedirs/wangxun/robustness/SparseNetwork-Verification/gitignored/results/MLP/try/try.pickle, continue anyway\n"
     ]
    }
   ],
   "source": [
    "# save model\n",
    "#save_path='/nfs/homedirs/wangxun/robustness/SparseNetwork-Verification/gitignored/results/MLP/2022-05-05_14.51.27_model=MLP2_dataset=MNIST_prune-criterion=SNAPit_pruning-limit=0.75_train-scheme=DefaultTrainer_seed=1234/models/MLP2_finished'\n",
    "save_path = '/nfs/homedirs/wangxun/robustness/SparseNetwork-Verification/gitignored/results/MLP/try/try.pickle'\n",
    "DATA_MANAGER.save_python_obj(model,save_path)"
   ]
  },
  {
   "cell_type": "markdown",
   "metadata": {},
   "source": [
    "# Quantization"
   ]
  },
  {
   "cell_type": "code",
   "execution_count": 16,
   "metadata": {},
   "outputs": [
    {
     "data": {
      "text/plain": [
       "<bound method ConvertMLP2.fuse of ConvertMLP2(\n",
       "  (layers): Sequential(\n",
       "    (0): Linear(in_features=784, out_features=15, bias=True)\n",
       "    (1): ReLU()\n",
       "    (2): Linear(in_features=15, out_features=10, bias=True)\n",
       "  )\n",
       "  (quant): QuantStub()\n",
       "  (dequant): DeQuantStub()\n",
       ")>"
      ]
     },
     "execution_count": 16,
     "metadata": {},
     "output_type": "execute_result"
    }
   ],
   "source": [
    "# change to cpu and eval mode\n",
    "model.to(\"cpu\").eval()\n",
    "\n",
    "# get the model parameters\n",
    "state = model.state_dict()\n",
    "# convet the model to a quantizable model\n",
    "q_model= ConvertMLP2(model)\n",
    "# load previous parameter\n",
    "q_model.load_state_dict(state)\n",
    "# set quantization config\n",
    "q_model.qconfig = torch.quantization.get_default_qconfig('fbgemm')\n",
    "# fuse_model\n",
    "q_model.fuse"
   ]
  },
  {
   "cell_type": "code",
   "execution_count": 17,
   "metadata": {},
   "outputs": [
    {
     "data": {
      "text/plain": [
       "tensor([[ -4.2574,   0.0325,   4.5682,  ...,   0.5100,   1.8329,  -1.0362],\n",
       "        [ -1.2456,  -4.7140,  -3.3629,  ...,  -7.0423,   4.4800,   2.9256],\n",
       "        [  9.0897, -12.7721,  -0.9435,  ...,  -1.4990,   3.4533,   2.1567],\n",
       "        ...,\n",
       "        [ -8.3921,   0.4202,  -7.7041,  ...,   0.1281,   3.2470,   4.2118],\n",
       "        [ -5.7385,  -2.1109,  -6.3270,  ...,   7.6626,  -2.4278,   6.2139],\n",
       "        [ -1.2479,  -7.8603,  -2.0022,  ...,  -1.6067,  -4.2694,   1.1689]],\n",
       "       grad_fn=<AddmmBackward0>)"
      ]
     },
     "execution_count": 17,
     "metadata": {},
     "output_type": "execute_result"
    }
   ],
   "source": [
    "# use calibrate date to calibrate model\n",
    "model_prepared = torch.quantization.prepare(q_model)\n",
    "cali_data,label=next(iter(train_loader))\n",
    "model_prepared(cali_data)"
   ]
  },
  {
   "cell_type": "code",
   "execution_count": 18,
   "metadata": {},
   "outputs": [],
   "source": [
    "# convert to int8\n",
    "model_int8 = torch.quantization.convert(model_prepared)"
   ]
  },
  {
   "cell_type": "code",
   "execution_count": 19,
   "metadata": {},
   "outputs": [
    {
     "data": {
      "text/plain": [
       "ConvertMLP2(\n",
       "  (layers): Sequential(\n",
       "    (0): QuantizedLinear(in_features=784, out_features=15, scale=0.535760760307312, zero_point=45, qscheme=torch.per_channel_affine)\n",
       "    (1): ReLU()\n",
       "    (2): QuantizedLinear(in_features=15, out_features=10, scale=0.3231096565723419, zero_point=67, qscheme=torch.per_channel_affine)\n",
       "  )\n",
       "  (quant): Quantize(scale=tensor([0.0254]), zero_point=tensor([16]), dtype=torch.quint8)\n",
       "  (dequant): DeQuantize()\n",
       ")"
      ]
     },
     "execution_count": 19,
     "metadata": {},
     "output_type": "execute_result"
    }
   ],
   "source": [
    "model_int8"
   ]
  },
  {
   "cell_type": "code",
   "execution_count": 20,
   "metadata": {},
   "outputs": [],
   "source": [
    "# compare the model size\n",
    "def print_size_of_model(model, label=\"\"):\n",
    "    torch.save(model.state_dict(), \"temp.p\")\n",
    "    size=os.path.getsize(\"temp.p\")\n",
    "    print(\"model: \",label,' \\t','Size (KB):', size/1e3)\n",
    "    os.remove('temp.p')\n",
    "    return size"
   ]
  },
  {
   "cell_type": "code",
   "execution_count": 21,
   "metadata": {},
   "outputs": [
    {
     "name": "stdout",
     "output_type": "stream",
     "text": [
      "model:  fp32model  \t Size (KB): 49.247\n",
      "model:  quantized  \t Size (KB): 16.699\n"
     ]
    }
   ],
   "source": [
    "size_model_fp32 = print_size_of_model(model,label=\"fp32model\")\n",
    "size_model_int8 = print_size_of_model(model_int8,label=\"quantized\")\n"
   ]
  },
  {
   "cell_type": "markdown",
   "metadata": {},
   "source": [
    "# manually implement inference of quantized model"
   ]
  },
  {
   "cell_type": "code",
   "execution_count": 124,
   "metadata": {},
   "outputs": [],
   "source": [
    "# see https://github.com/pytorch/pytorch/blob/master/aten/src/ATen/native/quantized/cudnn/Conv.cpp#L304 \n",
    "# for detaile| numeric implementation\n",
    "# get model\n",
    "\n",
    "images,labels=next(iter(test_loader))\n",
    "#torch.max(torch.clamp((torch.round(images/x_1_scale+16)),min=0,max=127)-model_int8.quant(images).int_repr())"
   ]
  },
  {
   "cell_type": "code",
   "execution_count": 125,
   "metadata": {},
   "outputs": [],
   "source": [
    "# get the fixed parameters in the model\n",
    "W_scales=[]\n",
    "\n",
    "W_int=[]\n",
    "B=[]\n",
    "out_scales=[]\n",
    "out_zps=[]\n",
    "\n",
    "in_scale= model_int8.quant.scale\n",
    "in_zp= torch.tensor(model_int8.quant.zero_point,dtype=torch.int8)\n",
    "\n",
    "for layer in model_int8.layers:\n",
    "    if hasattr(layer,\"scale\"):\n",
    "        w,b = layer._weight_bias()\n",
    "        W_scales.append(w.q_per_channel_scales().numpy())\n",
    "        W_int.append(w.int_repr())\n",
    "        B.append(b.detach())\n",
    "        out_scales.append(layer.scale)\n",
    "        out_zps.append(layer.zero_point)"
   ]
  },
  {
   "cell_type": "code",
   "execution_count": 126,
   "metadata": {},
   "outputs": [],
   "source": [
    "def round_int8(x):\n",
    "    #return torch.clamp(torch.round(x),min=0,max=127)\n",
    "    return torch.clamp(torch.round(x),min=0)\n",
    "def relu_int8(x,zero_point):\n",
    "    return (x<=zero_point)*zero_point+(x>zero_point)*x"
   ]
  },
  {
   "cell_type": "code",
   "execution_count": 127,
   "metadata": {},
   "outputs": [],
   "source": [
    "images,labels=next(iter(test_loader))\n",
    "# convert the input to int\n",
    "images = images.squeeze().view(-1,28*28)\n",
    "\n",
    "x_int=round_int8(images/in_scale+in_zp)\n",
    "n_layers = len(W_int)\n",
    "# calculate output for every layer \n",
    "_output=[]\n",
    "\n",
    "for i in range(n_layers):\n",
    "    # formula to calculate output\n",
    "    out=(x_int-in_zp).int()@W_int[i].T.int()*W_scales[i]*in_scale/out_scales[i]+B[i]/out_scales[i]+out_zps[i]\n",
    "    out=round_int8(out)\n",
    "    _output.append(out)\n",
    "    # layers with relu activation\n",
    "    if i<n_layers-1:\n",
    "    # calculate ReLU activation\n",
    "        out = relu_int8(out,out_zps[i])\n",
    "        in_zp = out_zps[i]\n",
    "        in_scale = out_scales[i]\n",
    "        x_int=out\n",
    "        _output.append(out)\n"
   ]
  },
  {
   "cell_type": "code",
   "execution_count": 128,
   "metadata": {},
   "outputs": [
    {
     "name": "stdout",
     "output_type": "stream",
     "text": [
      "tensor(0)\n"
     ]
    }
   ],
   "source": [
    "# test if match the model output\n",
    "print(torch.sum(torch.argmax(out,axis=1)!=torch.argmax(model_int8(images),axis=1)))\n",
    "#print(_output[0][10])\n",
    "#print(_output[1][10])\n",
    "#print(_output[2][10])"
   ]
  },
  {
   "cell_type": "code",
   "execution_count": 129,
   "metadata": {},
   "outputs": [
    {
     "name": "stdout",
     "output_type": "stream",
     "text": [
      "label is  0\n"
     ]
    }
   ],
   "source": [
    "# get a test image \n",
    "images,labels=next(iter(test_loader))\n",
    "img = images[10]\n",
    "label = labels[10]\n",
    "print(\"label is \",label.item())"
   ]
  },
  {
   "cell_type": "code",
   "execution_count": 131,
   "metadata": {},
   "outputs": [
    {
     "name": "stdout",
     "output_type": "stream",
     "text": [
      "tensor(0)\n",
      "tensor(0)\n",
      "tensor(0)\n"
     ]
    }
   ],
   "source": [
    "# target output for every layer\n",
    "#input_1=model_int8.quant(img).view(-1,28*28)\n",
    "#input_1 = torch.round(img/0.0254+16).view(-1,28*28)\n",
    "input_1 = model_int8.quant(images).view(-1,28*28)\n",
    "out_1=model_int8.layers[0](input_1)\n",
    "out_2=model_int8.layers[1](out_1)\n",
    "out_3=model_int8.layers[2](out_2)\n",
    "out_4 = model_int8.dequant(out_3)\n",
    "#print(out_1)\n",
    "#print(out_2)\n",
    "#print(out_3)\n",
    "#print(out_4)\n",
    "#print(out_1.int_repr())\n",
    "#print(out_2.int_repr())\n",
    "#print(out_3.int_repr())\n",
    "#print(torch.max(input_1.int_repr()))\n",
    "#print(torch.max(out_1.int_repr()))\n",
    "#print(torch.max(out_2.int_repr()))\n",
    "#print(torch.max(out_3.int_repr()))\n",
    "print(torch.sum(out_1.int_repr()!=_output[0]))\n",
    "print(torch.sum(out_2.int_repr()!=_output[1]))\n",
    "print(torch.sum(out_3.int_repr()!=_output[2]))"
   ]
  },
  {
   "cell_type": "markdown",
   "metadata": {},
   "source": [
    "# how to verify a quantized model ?"
   ]
  },
  {
   "cell_type": "code",
   "execution_count": 229,
   "metadata": {},
   "outputs": [],
   "source": [
    "import cvxpy as cp\n",
    "from tqdm.auto import tqdm"
   ]
  },
  {
   "cell_type": "code",
   "execution_count": 230,
   "metadata": {},
   "outputs": [],
   "source": [
    "# get the fixed parameters of the model\n",
    "W_scales=[]\n",
    "#W_zps=0 so remove here\n",
    "#W_zps=[]\n",
    "W_int=[]\n",
    "B=[]\n",
    "out_scales=[]\n",
    "out_zps=[]\n",
    "\n",
    "in_scale= model_int8.quant.scale.numpy()\n",
    "in_zp= torch.tensor(model_int8.quant.zero_point,dtype=torch.int8).numpy()\n",
    "\n",
    "for layer in model_int8.layers:\n",
    "    if hasattr(layer,\"scale\"):\n",
    "        w,b = layer._weight_bias()\n",
    "        W_scales.append(w.q_per_channel_scales().numpy())\n",
    "        W_int.append(w.int_repr().numpy())\n",
    "        B.append(b.detach().numpy().reshape(-1))\n",
    "        out_scales.append(layer.scale)\n",
    "        out_zps.append(layer.zero_point)"
   ]
  },
  {
   "cell_type": "code",
   "execution_count": 272,
   "metadata": {
    "scrolled": true
   },
   "outputs": [
    {
     "name": "stdout",
     "output_type": "stream",
     "text": [
      "label is  7\n"
     ]
    }
   ],
   "source": [
    "# get a test img\n",
    "images,labels=next(iter(test_loader))\n",
    "img_test = images[0]\n",
    "num_classes=model_int8.output_dim\n",
    "c = torch.argmax(model_int8(img_test)).item()\n",
    "print(\"label is \",c)\n",
    "other_classes = set(range(num_classes))\n",
    "other_classes.remove(c)\n",
    "\n",
    "# perturbation budget\n",
    "eps=0.3"
   ]
  },
  {
   "cell_type": "code",
   "execution_count": 273,
   "metadata": {},
   "outputs": [],
   "source": [
    "W1=W_int[0]\n",
    "b1=B[0]\n",
    "W2=W_int[1]\n",
    "b2=B[1]\n",
    "img_test=img_test.numpy().reshape(-1)"
   ]
  },
  {
   "cell_type": "code",
   "execution_count": 274,
   "metadata": {},
   "outputs": [],
   "source": [
    "\n",
    "# lower and upper bounds before first quantization \n",
    "u0=img_test+eps\n",
    "l0=img_test-eps\n",
    "# step 1 quantize x\n",
    "# _x = x/in_scale + in_zp\n",
    "# _x_int = round(_x)\n",
    "# x_int = clamp(_x_int,min=0)\n",
    "x = cp.Variable(shape=(img_test.shape))\n",
    "_x = cp.Variable(shape=(img_test.shape))\n",
    "_x_int = cp.Variable(shape=(img_test.shape),integer=True)\n",
    "x_int = cp.Variable(shape=(img_test.shape),integer=True)\n",
    "# boolean variable for clamp constraint\n",
    "a0 = cp.Variable(shape=(img_test.shape), boolean=True)\n",
    "\n",
    "\n",
    "# output of first layer\n",
    "# y1 = W1@(x_int-x_zp)*W_scales[0]*in_scale/out_scales[0]+b1/out_scales[0]+out_zps[0]\n",
    "# _y1_int = round(y1)\n",
    "# y1_int = clamp(_y1_int,min=0)\n",
    "y1 = cp.Variable(shape=(W1.shape[0]))\n",
    "_y1_int = cp.Variable(shape=(W1.shape[0]),integer=True)\n",
    "y1_int = cp.Variable(shape=(W1.shape[0]),integer=True)\n",
    "# boolean variable for clamp constraints\n",
    "a1_1 = cp.Variable(shape=(W1.shape[0]), boolean=True)\n",
    "\n",
    "# output of a ReLU function\n",
    "y1_out = cp.Variable(shape=(W1.shape[0]),integer=True)\n",
    "#  boolean variable for relu constraints\n",
    "a1_2 = cp.Variable(shape=(W1.shape[0]), boolean=True)\n",
    "\n",
    "# output of second layer\n",
    "# y2 = W2@(y1_out-out_zps[0])*W_scales[1]*out_scales[0]/out_scales[1]+b2/out_scales[1]+out_zps[1]\n",
    "# _y2_int = round(y2)\n",
    "# y2_int = clamp(_y2_int,min=0)\n",
    "y2 = cp.Variable(shape=(W2.shape[0]))\n",
    "_y2_int = cp.Variable(shape=(W2.shape[0]),integer=True)\n",
    "y2_int = cp.Variable(shape=(W2.shape[0]),integer=True)\n",
    "#  boolean variable for clamp constraints\n",
    "a2 = cp.Variable(shape=(W2.shape[0]), boolean=True) "
   ]
  },
  {
   "cell_type": "code",
   "execution_count": 279,
   "metadata": {},
   "outputs": [],
   "source": [
    "# get lower and upper bounds after scaling\n",
    "in_scale_p = np.maximum(0,1/in_scale)\n",
    "in_scale_m = np.maximum(-1/in_scale,0)\n",
    "\n",
    "u0_1 = in_scale_p*u0-in_scale_m*l0+in_zp\n",
    "l0_1 = in_scale_p*l0-in_scale_m*u0+in_zp\n",
    "\n",
    "# get lower and upper bounds after round\n",
    "_u0_int=np.round(u0_1)\n",
    "_l0_int=np.round(l0_1)\n",
    "\n",
    "# get lower and upper bounds after clamp\n",
    "u0_int=np.clip(_u0_int,a_min=0,a_max=None)\n",
    "l0_int=np.clip(_l0_int,a_min=0,a_max=None)\n",
    "\n",
    "# get lower and upper bounds after first layer calculation\n",
    "W1_p = np.maximum(0,W1)\n",
    "W1_m = np.maximum(-W1,0)\n",
    "\n",
    "u1 = (W1_p @ (u0_int-in_zp) - W1_m @ (l0_int-in_zp))*W_scales[0]*in_scale/out_scales[0] + b1/out_scales[0]+out_zps[0]\n",
    "l1 = (W1_p @ (l0_int-in_zp) - W1_m @ (u0_int-in_zp))*W_scales[0]*in_scale/out_scales[0] + b1/out_scales[0]+out_zps[0]\n",
    "\n",
    "# get lower and upper bounds after round\n",
    "_u1_int=np.round(u1)\n",
    "_l1_int=np.round(l1)\n",
    "\n",
    "# get lower and upper bounds after clamp\n",
    "u1_int=np.clip(_u1_int,a_min=0,a_max=None)\n",
    "l1_int=np.clip(_l1_int,a_min=0,a_max=None)\n",
    "\n",
    "# get lower and upper bounds after relu  do I need this ?\n",
    "\n",
    "# get lower and upper bounds after second layer calculation\n",
    "# the output scale and zero point of first layer are the input scale and zero point of second layer\n",
    "W2_p = np.maximum(0,W2)\n",
    "W2_m = np.maximum(-W2,0)\n",
    "\n",
    "u2 = (W2_p @ (u1_int-out_zps[0]) - W2_m @ (l1_int-out_zps[0]))*W_scales[1]*out_scales[0]/out_scales[1] + b2/out_scales[1]+out_zps[1]\n",
    "l2 = (W2_p @ (l1_int-out_zps[0]) - W2_m @ (u1_int-out_zps[0]))*W_scales[1]*out_scales[0]/out_scales[1] + b2/out_scales[1]+out_zps[1]\n",
    "\n",
    "# get lower and upper bounds after round\n",
    "_u2_int=np.round(u1)\n",
    "_l2_int=np.round(l1)\n",
    "\n",
    "\n"
   ]
  },
  {
   "cell_type": "code",
   "execution_count": 276,
   "metadata": {},
   "outputs": [],
   "source": [
    "# define constraints\n",
    "constraints=[]\n",
    "constraints += [_x==x/in_scale+in_zp]\n",
    "# round operation\n",
    "constraints += [cp.atoms.norm_inf(_x-_x_int) <= 0.5]\n",
    "# clamp operation one similar to relu \n",
    "# constrains of clip (x>0)\n",
    "constraints += [x_int[i] <= _x_int[i] - _l0_int[i] * (1 - a0[i]) for i in range(x_int.shape[0])]\n",
    "constraints += [x_int[i] >= _x_int[i] for i in range(x_int.shape[0])]\n",
    "constraints += [x_int[i] <= _u0_int[i]*a0[i] for i in range(x_int.shape[0])]\n",
    "constraints += [x_int[i] >= 0 for i in range(x_int.shape[0])]\n",
    "\"\"\"\n",
    "# not used again\n",
    "# constraints of clip (x<127)\n",
    "constraints += [x_int[i] >= _x_int[i] - (_u0_int[i]-127) * (1 - a0_2[i]) for i in range(x_int.shape[0])]\n",
    "constraints += [x_int[i] <= _x_int[i] for i in range(x_int.shape[0])]\n",
    "constraints += [x_int[i] >= 127+(_l0_int[i]-127)*a0_2[i] for i in range(x_int.shape[0])]\n",
    "constraints += [x_int[i] <= 127 for i in range(x_int.shape[0])]\n",
    "\"\"\"\n",
    "# constraints of first layer \n",
    "constraints += [y1 == W1@(x_int-in_zp)*W_scales[0]*in_scale/out_scales[0]+b1/out_scales[0]+out_zps[0]]\n",
    "\n",
    "# constrains of round operation\n",
    "constraints += [cp.atoms.norm_inf(y1-_y1_int) <= 0.5]\n",
    "\n",
    "# constrains of clip\n",
    "constraints += [y1_int[i] <= _y1_int[i] - _l1_int[i] * (1 - a1_1[i]) for i in range(y1_int.shape[0])]\n",
    "constraints += [y1_int[i] >= _y1_int[i] for i in range(y1_int.shape[0])]\n",
    "constraints += [y1_int[i] <= _u1_int[i]*a1_1[i] for i in range(y1_int.shape[0])]\n",
    "constraints += [y1_int[i] >= 0 for i in range(y1_int.shape[0])]\n",
    "\"\"\"\n",
    "# not used again\n",
    "constraints += [y1_int[i] >= _y1_int[i] - (_u1_int[i]-127) * (1 - a1_2[i]) for i in range(y1_int.shape[0])]\n",
    "constraints += [y1_int[i] <= _y1_int[i] for i in range(y1_int.shape[0])]\n",
    "constraints += [y1_int[i] >= 127+(_l1_int[i]-127)*a1_2[i] for i in range(y1_int.shape[0])]\n",
    "constraints += [y1_int[i] <= 127 for i in range(y1_int.shape[0])]\n",
    "\"\"\"\n",
    "\n",
    "# constraints for relu of first layer (zero_point = out_zps[0])\n",
    "\n",
    "constraints += [y1_out[i] <= y1_int[i] - (l1_int[i]-out_zps[0]) * (1 - a1_2[i]) for i in range(y1_int.shape[0])]\n",
    "constraints += [y1_out[i] >= y1_int[i] for i in range(y1_int.shape[0])]\n",
    "constraints += [y1_out[i] <= out_zps[0]+(u1_int[i]-out_zps[0])*a1_2[i] for i in range(y1_int.shape[0])]\n",
    "constraints += [y1_out[i] >= out_zps[0] for i in range(y1_int.shape[0])]\n",
    "\n",
    "# constraints of second layer\n",
    "constraints += [y2 == W2@(y1_out-out_zps[0])*W_scales[1]*out_scales[0]/out_scales[1]+b2/out_scales[1]+out_zps[1]]\n",
    "\n",
    "# constraints of round operation\n",
    "constraints += [cp.atoms.norm_inf(y2-_y2_int) <= 0.5]\n",
    "\n",
    "# constraints of clip\n",
    "constraints += [y2_int[i] <= _y2_int[i] - _l2_int[i] * (1 - a2[i]) for i in range(y2_int.shape[0])]\n",
    "constraints += [y2_int[i] >= _y2_int[i] for i in range(y2_int.shape[0])]\n",
    "constraints += [y2_int[i] <= _u2_int[i]*a2[i] for i in range(y2_int.shape[0])]\n",
    "constraints += [y2_int[i] >= 0 for i in range(y2_int.shape[0])]\n",
    "\n",
    "# constrainst of input pertubation\n",
    "constraints += [cp.atoms.norm_inf(img_test-x) <= eps]"
   ]
  },
  {
   "cell_type": "code",
   "execution_count": null,
   "metadata": {},
   "outputs": [],
   "source": []
  },
  {
   "cell_type": "code",
   "execution_count": 277,
   "metadata": {},
   "outputs": [
    {
     "data": {
      "application/vnd.jupyter.widget-view+json": {
       "model_id": "d3b32b3db1334921a69728e556139ddd",
       "version_major": 2,
       "version_minor": 0
      },
      "text/plain": [
       "  0%|          | 0/9 [00:00<?, ?it/s]"
      ]
     },
     "metadata": {},
     "output_type": "display_data"
    }
   ],
   "source": [
    "for other in tqdm(other_classes):\n",
    "    problem=cp.Problem(objective=cp.Minimize(y2_int[c]-y2_int[other]),constraints=constraints)\n",
    "    opt = problem.solve('MOSEK')\n",
    "    if opt < 0:\n",
    "        print('found solution')\n",
    "        break"
   ]
  },
  {
   "cell_type": "code",
   "execution_count": 278,
   "metadata": {},
   "outputs": [
    {
     "ename": "AttributeError",
     "evalue": "'NoneType' object has no attribute 'reshape'",
     "output_type": "error",
     "traceback": [
      "\u001b[0;31m---------------------------------------------------------------------------\u001b[0m",
      "\u001b[0;31mAttributeError\u001b[0m                            Traceback (most recent call last)",
      "\u001b[0;32m<ipython-input-278-7e1290843896>\u001b[0m in \u001b[0;36m<module>\u001b[0;34m\u001b[0m\n\u001b[1;32m      3\u001b[0m \u001b[0mplt\u001b[0m\u001b[0;34m.\u001b[0m\u001b[0mtitle\u001b[0m\u001b[0;34m(\u001b[0m\u001b[0;34mf\"unperturbed prediction: {c}\"\u001b[0m\u001b[0;34m)\u001b[0m\u001b[0;34m\u001b[0m\u001b[0;34m\u001b[0m\u001b[0m\n\u001b[1;32m      4\u001b[0m \u001b[0mplt\u001b[0m\u001b[0;34m.\u001b[0m\u001b[0msubplot\u001b[0m\u001b[0;34m(\u001b[0m\u001b[0;36m122\u001b[0m\u001b[0;34m)\u001b[0m\u001b[0;34m\u001b[0m\u001b[0;34m\u001b[0m\u001b[0m\n\u001b[0;32m----> 5\u001b[0;31m \u001b[0mplt\u001b[0m\u001b[0;34m.\u001b[0m\u001b[0mimshow\u001b[0m\u001b[0;34m(\u001b[0m\u001b[0mx\u001b[0m\u001b[0;34m.\u001b[0m\u001b[0mvalue\u001b[0m\u001b[0;34m.\u001b[0m\u001b[0mreshape\u001b[0m\u001b[0;34m(\u001b[0m\u001b[0;36m28\u001b[0m\u001b[0;34m,\u001b[0m \u001b[0;36m28\u001b[0m\u001b[0;34m)\u001b[0m\u001b[0;34m,\u001b[0m \u001b[0mcmap\u001b[0m\u001b[0;34m=\u001b[0m\u001b[0;34m'gray'\u001b[0m\u001b[0;34m)\u001b[0m\u001b[0;34m\u001b[0m\u001b[0;34m\u001b[0m\u001b[0m\n\u001b[0m\u001b[1;32m      6\u001b[0m \u001b[0mplt\u001b[0m\u001b[0;34m.\u001b[0m\u001b[0mtitle\u001b[0m\u001b[0;34m(\u001b[0m\u001b[0;34mf\"perturbed prediction: {y2_int.value.argmax()}\"\u001b[0m\u001b[0;34m)\u001b[0m\u001b[0;34m\u001b[0m\u001b[0;34m\u001b[0m\u001b[0m\n\u001b[1;32m      7\u001b[0m \u001b[0mplt\u001b[0m\u001b[0;34m.\u001b[0m\u001b[0mshow\u001b[0m\u001b[0;34m(\u001b[0m\u001b[0;34m)\u001b[0m\u001b[0;34m\u001b[0m\u001b[0;34m\u001b[0m\u001b[0m\n",
      "\u001b[0;31mAttributeError\u001b[0m: 'NoneType' object has no attribute 'reshape'"
     ]
    },
    {
     "data": {
      "image/png": "[encoded data removed]",
      "text/plain": [
       "<Figure size 432x288 with 2 Axes>"
      ]
     },
     "metadata": {
      "needs_background": "light"
     },
     "output_type": "display_data"
    }
   ],
   "source": [
    "\n",
    "plt.subplot(121)\n",
    "plt.imshow(img_test.reshape(28,28), cmap='gray')\n",
    "plt.title(f\"unperturbed prediction: {c}\")\n",
    "plt.subplot(122)\n",
    "plt.imshow(x.value.reshape(28, 28), cmap='gray')\n",
    "plt.title(f\"perturbed prediction: {y2_int.value.argmax()}\")\n",
    "plt.show()"
   ]
  },
  {
   "cell_type": "code",
   "execution_count": null,
   "metadata": {},
   "outputs": [],
   "source": []
  },
  {
   "cell_type": "markdown",
   "metadata": {},
   "source": [
    "# Directly load model and verify"
   ]
  },
  {
   "cell_type": "code",
   "execution_count": null,
   "metadata": {},
   "outputs": [],
   "source": []
  },
  {
   "cell_type": "code",
   "execution_count": 51,
   "metadata": {},
   "outputs": [
    {
     "data": {
      "text/plain": [
       "torch.Size([784, 1])"
      ]
     },
     "execution_count": 51,
     "metadata": {},
     "output_type": "execute_result"
    }
   ],
   "source": [
    "img.reshape(-1,1).shape\n",
    "img."
   ]
  },
  {
   "cell_type": "markdown",
   "metadata": {},
   "source": [
    "# Verify"
   ]
  },
  {
   "cell_type": "markdown",
   "metadata": {},
   "source": [
    "## test single image verify"
   ]
  },
  {
   "cell_type": "code",
   "execution_count": 271,
   "metadata": {},
   "outputs": [],
   "source": [
    "img,label=next(iter(test_loader))\n",
    "img_test = img[0].squeeze().to(device)\n",
    "model.to(device)\n",
    "img,label,indicator=verify_single_image(model=model,image=img_test,eps=0.3)\n",
    "if indicator==0:\n",
    "    print(\"verified!\")\n"
   ]
  },
  {
   "cell_type": "code",
   "execution_count": 59,
   "metadata": {},
   "outputs": [
    {
     "data": {
      "text/plain": [
       "torch.Size([784])"
      ]
     },
     "execution_count": 59,
     "metadata": {},
     "output_type": "execute_result"
    }
   ],
   "source": [
    "img_test.reshape(-1).shape"
   ]
  },
  {
   "cell_type": "code",
   "execution_count": 54,
   "metadata": {},
   "outputs": [
    {
     "data": {
      "image/png": "[encoded data removed]",
      "text/plain": [
       "<Figure size 432x288 with 1 Axes>"
      ]
     },
     "metadata": {
      "needs_background": "light"
     },
     "output_type": "display_data"
    }
   ],
   "source": [
    "plt.imshow(img.value.reshape(28, 28), cmap='gray')\n",
    "plt.title(f\"perturbed prediction: {label.value.argmax()}\")\n",
    "plt.show()"
   ]
  },
  {
   "cell_type": "markdown",
   "metadata": {},
   "source": [
    "## multi-processing to get robustness accuracy"
   ]
  },
  {
   "cell_type": "code",
   "execution_count": 24,
   "metadata": {},
   "outputs": [],
   "source": [
    "from verify_utils.verify_utils import verify_batch_images\n",
    "import time"
   ]
  },
  {
   "cell_type": "markdown",
   "metadata": {},
   "source": [
    "## compare time without multi-processing"
   ]
  },
  {
   "cell_type": "code",
   "execution_count": 26,
   "metadata": {},
   "outputs": [
    {
     "name": "stdout",
     "output_type": "stream",
     "text": [
      "found solution\n",
      "found solution\n",
      "found solution\n",
      "found solution\n",
      "found solution\n",
      "found solution\n",
      "found solution\n",
      "found solution\n",
      "found solution\n",
      "found solution\n",
      "found solution\n",
      "found solution\n",
      "found solution\n",
      "found solution\n",
      "found solution\n",
      "found solution\n",
      "found solution\n",
      "accuracy:0.966796875\n",
      "time elapsed 962.2611734867096s\n"
     ]
    }
   ],
   "source": [
    "# a seririalized implementation\n",
    "start = time.time()\n",
    "img_number=0\n",
    "verified_number=0\n",
    "imgs,labels=next(iter(test_loader))\n",
    "eps = 0.01\n",
    "model.to(device)\n",
    "img_number += len(imgs)\n",
    "for img in imgs:\n",
    "    img = img.squeeze().to(device)\n",
    "    _,_,indicator = verify_single_image(model=model,image=img,eps=eps)\n",
    "    if indicator==0:\n",
    "        verified_number+=1\n",
    "finish=time.time()\n",
    "print(f\"accuracy:{verified_number/img_number}\")\n",
    "print(f\"time elapsed {finish-start}s\")\n",
    "    \n"
   ]
  },
  {
   "cell_type": "code",
   "execution_count": 30,
   "metadata": {},
   "outputs": [
    {
     "name": "stdout",
     "output_type": "stream",
     "text": [
      "total_num:512,verified_num:495\n"
     ]
    }
   ],
   "source": [
    "print(f\"total_num:{img_number},verified_num:{verified_number}\")"
   ]
  },
  {
   "cell_type": "code",
   "execution_count": 27,
   "metadata": {},
   "outputs": [],
   "source": [
    "from multiprocessing import Process, Value,Lock\n",
    "import time\n",
    "from verify_utils.verify_utils import verify_batch_images"
   ]
  },
  {
   "cell_type": "code",
   "execution_count": null,
   "metadata": {},
   "outputs": [],
   "source": []
  },
  {
   "cell_type": "code",
   "execution_count": 33,
   "metadata": {},
   "outputs": [
    {
     "name": "stdout",
     "output_type": "stream",
     "text": [
      "found solution\n",
      "found solution\n",
      "found solution\n",
      "found solution\n",
      "found solution\n",
      "found solution\n",
      "found solution\n",
      "found solution\n",
      "found solution\n",
      "found solution\n",
      "found solution\n",
      "found solution\n",
      "found solution\n",
      "found solution\n",
      "found solution\n",
      "found solution\n",
      "found solution\n",
      "total_num:512,verified_num:495\n",
      "accuracy:0.966796875\n",
      "time elapsed 547.378613948822s\n"
     ]
    }
   ],
   "source": [
    "# multi processing\n",
    "start = time.time()\n",
    "# step1 get a batch images\n",
    "imgs,labels=next(iter(test_loader))\n",
    "model.to(device)\n",
    "# start from a GPU model and tensor imgs\n",
    "# step2 get the labels for a batch imgs\n",
    "labels=model(imgs.to(device)).argmax(axis=1).cpu().numpy()\n",
    "# step 3 split imgs and labels for each process\n",
    "num_process =10\n",
    "processes=[]\n",
    "num_per_process=int(len(imgs)/num_process)\n",
    "# convert model to cpu\n",
    "model.to(\"cpu\")\n",
    "# define processes\n",
    "lock =Lock()\n",
    "total_num = Value('i',0)\n",
    "verified_num = Value('i',0)\n",
    "eps=0.01\n",
    "for i in range(num_process):\n",
    "    if i!=num_process-1:\n",
    "        process_imgs=imgs[num_per_process*i:num_per_process*(i+1)].squeeze()\n",
    "        process_labels = labels[num_per_process*i:num_per_process*(i+1)]\n",
    "    else:\n",
    "        process_imgs=imgs[num_per_process*i:].squeeze()\n",
    "        process_labels = labels[num_per_process*i:]\n",
    "    p=Process(target=verify_batch_images,args=(model,process_imgs,process_labels,eps,total_num,verified_num,lock))\n",
    "    processes.append(p)\n",
    "    \n",
    "# start\n",
    "for p in processes:\n",
    "    p.start()\n",
    "    \n",
    "# join\n",
    "for p in processes:\n",
    "    p.join()\n",
    "finish = time.time()\n",
    "\n",
    "print(f\"total_num:{total_num.value},verified_num:{verified_num.value}\")\n",
    "print(f\"accuracy:{verified_num.value/total_num.value}\")\n",
    "print(f\"time elapsed {finish-start}s\")"
   ]
  },
  {
   "cell_type": "code",
   "execution_count": null,
   "metadata": {},
   "outputs": [],
   "source": [
    "# 2  cpu 526.1203780174255s\n",
    "# 4  cpu 534.806479215622s\n",
    "# 10 cpu 548.1252098083496s 547.378613948822s"
   ]
  }
 ],
 "metadata": {
  "kernelspec": {
   "display_name": "Python 3",
   "language": "python",
   "name": "python3"
  },
  "language_info": {
   "codemirror_mode": {
    "name": "ipython",
    "version": 3
   },
   "file_extension": ".py",
   "mimetype": "text/x-python",
   "name": "python",
   "nbconvert_exporter": "python",
   "pygments_lexer": "ipython3",
   "version": "3.8.5"
  }
 },
 "nbformat": 4,
 "nbformat_minor": 4
}
