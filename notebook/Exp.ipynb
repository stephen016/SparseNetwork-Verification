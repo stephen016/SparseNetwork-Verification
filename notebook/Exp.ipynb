{
 "cells": [
  {
   "cell_type": "markdown",
   "metadata": {},
   "source": [
    "# Pruning"
   ]
  },
  {
   "cell_type": "code",
   "execution_count": 1,
   "metadata": {},
   "outputs": [],
   "source": [
    "import sys\n",
    "sys.path.append(\"..\")"
   ]
  },
  {
   "cell_type": "code",
   "execution_count": 2,
   "metadata": {
    "scrolled": true
   },
   "outputs": [
    {
     "name": "stdout",
     "output_type": "stream",
     "text": [
      "The Zen of Python, by Tim Peters\n",
      "\n",
      "Beautiful is better than ugly.\n",
      "Explicit is better than implicit.\n",
      "Simple is better than complex.\n",
      "Complex is better than complicated.\n",
      "Flat is better than nested.\n",
      "Sparse is better than dense.\n",
      "Readability counts.\n",
      "Special cases aren't special enough to break the rules.\n",
      "Although practicality beats purity.\n",
      "Errors should never pass silently.\n",
      "Unless explicitly silenced.\n",
      "In the face of ambiguity, refuse the temptation to guess.\n",
      "There should be one-- and preferably only one --obvious way to do it.\n",
      "Although that way may not be obvious at first unless you're Dutch.\n",
      "Now is better than never.\n",
      "Although never is often better than *right* now.\n",
      "If the implementation is hard to explain, it's a bad idea.\n",
      "If the implementation is easy to explain, it may be a good idea.\n",
      "Namespaces are one honking great idea -- let's do more of those!\n"
     ]
    }
   ],
   "source": [
    "from asyncio import MultiLoopChildWatcher\n",
    "from doctest import OutputChecker\n",
    "\n",
    "from turtle import hideturtle\n",
    "import warnings\n",
    "\n",
    "from models import GeneralModel\n",
    "from models.statistics.Metrics import Metrics\n",
    "from utils.config_utils import *\n",
    "from utils.model_utils import *\n",
    "from utils.system_utils import *\n",
    "\n",
    "import matplotlib.pyplot as plt\n",
    "from models.networks.ConvertMLP import ConvertMLP2,ConvertMLP3\n",
    "\n",
    "from verify_utils.verify_utils import verify_single_image\n",
    "\n",
    "warnings.filterwarnings(\"ignore\")"
   ]
  },
  {
   "cell_type": "code",
   "execution_count": 3,
   "metadata": {},
   "outputs": [
    {
     "data": {
      "text/plain": [
       "'1.11.0+cu113'"
      ]
     },
     "execution_count": 3,
     "metadata": {},
     "output_type": "execute_result"
    }
   ],
   "source": [
    "torch.__version__"
   ]
  },
  {
   "cell_type": "code",
   "execution_count": 4,
   "metadata": {},
   "outputs": [],
   "source": [
    "# define arguments manually\n",
    "arguments = argparse.Namespace()\n",
    "# device\n",
    "arguments.device = \"cuda\"\n",
    "\n",
    "# define arguments for model\n",
    "#arguments.model = \"ResNet18\" # ResNet not supported for structured\n",
    "arguments.model = \"MLP2\"\n",
    "arguments.hidden_dim = 64\n",
    "#arguments.input_dim = None # for ResNet\n",
    "#arguments.input_dim = (1,1,1) # for LeNet5\n",
    "arguments.input_dim = (28,28) # for MNIST\n",
    "arguments.output_dim = 10\n",
    "arguments.disable_masking = 1 # 0 for disable mask, 1 for mask (unstructured)\n",
    "arguments.track_weights = 0\n",
    "arguments.enable_rewinding = 0\n",
    "arguments.growing_rate = 0.0000\n",
    "arguments.outer_layer_pruning = 0\n",
    "# arguments.prune_criterion = \"SNIPit\"  # unstructured\n",
    "\n",
    "arguments.prune_criterion = \"SNAPit\" # or SNAPit ... # structured\n",
    "arguments.l0 = 0\n",
    "arguments.l0_reg = 1.0\n",
    "arguments.l1_reg = 0\n",
    "arguments.lp_reg = 0\n",
    "arguments.l2_reg = 5e-5\n",
    "arguments.hoyer_reg = 0.001\n",
    "arguments.N = 6000 # different for different dataset\n",
    "arguments.beta_ema = 0.999\n",
    "\n",
    "\n",
    "# define arguments for criterion\n",
    "arguments.pruning_limit = 0.5\n",
    "arguments.snip_steps = 6\n",
    "\n",
    "# not pre-trained model\n",
    "arguments.checkpoint_name = None\n",
    "arguments.checkpoint_model = None\n",
    "\n",
    "# dataset\n",
    "arguments.data_set = \"MNIST\"\n",
    "arguments.batch_size = 512\n",
    "arguments.mean = (0.1307,)\n",
    "arguments.std = (0.3081,)\n",
    "arguments.tuning = 0\n",
    "arguments.preload_all_data = 0\n",
    "arguments.random_shuffle_labels = 0\n",
    "\n",
    "# loss\n",
    "arguments.loss = \"CrossEntropy\"\n",
    "\n",
    "# optimizer\n",
    "arguments.optimizer = \"ADAM\"\n",
    "arguments.learning_rate = 2e-3\n",
    "\n",
    "# training\n",
    "arguments.save_freq = 1e6\n",
    "arguments.eval = 0\n",
    "arguments.train_scheme = \"DefaultTrainer\"\n",
    "arguments.seed = 1234\n",
    "arguments.epochs = 5\n",
    "\n",
    "arguments.grad_noise = 0\n",
    "arguments.grad_clip =10\n",
    "arguments.eval_freq = 1000\n",
    "arguments.max_training_minutes= 6120\n",
    "arguments.plot_weights_freq = 50\n",
    "arguments.prune_delay = 0\n",
    "arguments.prune_freq = 1\n",
    "arguments.rewind_to = 6\n",
    "\n",
    "arguments.skip_first_plot = 0\n",
    "arguments.disable_histograms = 0\n",
    "arguments.disable_saliency = 0\n",
    "arguments.disable_confusion = 0\n",
    "arguments.disable_weightplot = 0\n",
    "arguments.disable_netplot = 0\n",
    "arguments.disable_activations = 0\n",
    "\n",
    "arguments.pruning_rate = 0\n",
    "# during training\n",
    "arguments.pruning_freq = 1"
   ]
  },
  {
   "cell_type": "code",
   "execution_count": 5,
   "metadata": {},
   "outputs": [
    {
     "name": "stdout",
     "output_type": "stream",
     "text": [
      "starting at 2022-04-28_17.51.09\n"
     ]
    }
   ],
   "source": [
    "metrics = Metrics()\n",
    "out = metrics.log_line\n",
    "print = out\n",
    "\n",
    "ensure_current_directory()\n",
    "global out \n",
    "out = metrics.log_line\n",
    "out(f\"starting at {get_date_stamp()}\")\n",
    "\n",
    "metrics._batch_size = arguments.batch_size\n",
    "metrics._eval_freq = arguments.eval_freq"
   ]
  },
  {
   "cell_type": "code",
   "execution_count": 6,
   "metadata": {},
   "outputs": [],
   "source": [
    "device = configure_device(arguments)"
   ]
  },
  {
   "cell_type": "code",
   "execution_count": 7,
   "metadata": {},
   "outputs": [],
   "source": [
    "# get model\n",
    "model: GeneralModel = find_right_model(\n",
    "        NETWORKS_DIR,arguments.model,\n",
    "        device=device,\n",
    "        hidden_dim = arguments.hidden_dim,\n",
    "        input_dim = arguments.input_dim,\n",
    "        output_dim = arguments.output_dim,\n",
    "        is_maskable=arguments.disable_masking,\n",
    "        is_tracking_weights=arguments.track_weights,\n",
    "        is_rewindable=arguments.enable_rewinding,\n",
    "        is_growable=arguments.growing_rate > 0,\n",
    "        outer_layer_pruning=arguments.outer_layer_pruning,\n",
    "        maintain_outer_mask_anyway=(\n",
    "                                       not arguments.outer_layer_pruning) and (\n",
    "                                           \"Structured\" in arguments.prune_criterion),\n",
    "        l0=arguments.l0,\n",
    "        l0_reg=arguments.l0_reg,\n",
    "        N=arguments.N,\n",
    "        beta_ema=arguments.beta_ema,\n",
    "        l2_reg=arguments.l2_reg\n",
    "    ).to(device)"
   ]
  },
  {
   "cell_type": "code",
   "execution_count": 8,
   "metadata": {},
   "outputs": [
    {
     "name": "stdout",
     "output_type": "stream",
     "text": [
      "torch.Size([64, 784])\n",
      "torch.Size([64])\n",
      "torch.Size([10, 64])\n",
      "torch.Size([10])\n"
     ]
    }
   ],
   "source": [
    "for key,param in model.named_parameters():\n",
    "    print(param.size())"
   ]
  },
  {
   "cell_type": "code",
   "execution_count": 9,
   "metadata": {},
   "outputs": [],
   "source": [
    "# get criterion\n",
    "criterion = find_right_model(\n",
    "        CRITERION_DIR,arguments.prune_criterion,\n",
    "        model=model,\n",
    "        limit=arguments.pruning_limit,\n",
    "        start=0.5,\n",
    "        steps=arguments.snip_steps,\n",
    "        device=arguments.device\n",
    "    )   "
   ]
  },
  {
   "cell_type": "code",
   "execution_count": 10,
   "metadata": {},
   "outputs": [],
   "source": [
    "def load_checkpoint(arguments, metrics, model):\n",
    "    if (not (arguments.checkpoint_name is None)) and (not (arguments.checkpoint_model is None)):\n",
    "        path = os.path.join(RESULTS_DIR, arguments.checkpoint_name, MODELS_DIR, arguments.checkpoint_model)\n",
    "        state = DATA_MANAGER.load_python_obj(path)\n",
    "        try:\n",
    "            model.load_state_dict(state)\n",
    "        except KeyError as e:\n",
    "            print(list(state.keys()))\n",
    "            raise e\n",
    "        out(f\"Loaded checkpoint {arguments.checkpoint_name} from {arguments.checkpoint_model}\")\n",
    "\n",
    "# load pre-trained weights if specified\n",
    "load_checkpoint(arguments, metrics, model)  "
   ]
  },
  {
   "cell_type": "code",
   "execution_count": 11,
   "metadata": {},
   "outputs": [
    {
     "name": "stdout",
     "output_type": "stream",
     "text": [
      "Using mean (0.1307,)\n"
     ]
    }
   ],
   "source": [
    "# load data\n",
    "train_loader, test_loader = find_right_model(\n",
    "        DATASETS, arguments.data_set,\n",
    "        arguments=arguments,\n",
    "        mean=arguments.mean,\n",
    "        std=arguments.std\n",
    "    )"
   ]
  },
  {
   "cell_type": "code",
   "execution_count": 12,
   "metadata": {},
   "outputs": [],
   "source": [
    "# get loss function\n",
    "loss = find_right_model(\n",
    "        LOSS_DIR, arguments.loss,\n",
    "        device=device,\n",
    "        l1_reg=arguments.l1_reg,\n",
    "        lp_reg=arguments.lp_reg,\n",
    "        l0_reg=arguments.l0_reg,\n",
    "        hoyer_reg=arguments.hoyer_reg\n",
    "    )"
   ]
  },
  {
   "cell_type": "code",
   "execution_count": 13,
   "metadata": {},
   "outputs": [],
   "source": [
    "# get optimizer\n",
    "optimizer = find_right_model(\n",
    "        OPTIMS, arguments.optimizer,\n",
    "        params=model.parameters(),\n",
    "        lr=arguments.learning_rate,\n",
    "        weight_decay=arguments.l2_reg if not arguments.l0 else 0\n",
    "    )\n"
   ]
  },
  {
   "cell_type": "code",
   "execution_count": 14,
   "metadata": {},
   "outputs": [
    {
     "name": "stdout",
     "output_type": "stream",
     "text": [
      "Made datestamp: 2022-04-28_17.51.14_model=MLP2_dataset=MNIST_prune-criterion=SNAPit_pruning-limit=0.5_train-scheme=DefaultTrainer_seed=1234\n"
     ]
    }
   ],
   "source": [
    "if not arguments.eval:\n",
    "    # build trainer\n",
    "    run_name = f'_model={arguments.model}_dataset={arguments.data_set}_prune-criterion={arguments.prune_criterion}' + \\\n",
    "               f'_pruning-limit={arguments.pruning_limit}_train-scheme={arguments.train_scheme}_seed={arguments.seed}'\n",
    "    trainer = find_right_model(\n",
    "            TRAINERS_DIR, arguments.train_scheme,\n",
    "            model=model,\n",
    "            loss=loss,\n",
    "            optimizer=optimizer,\n",
    "            device=device,\n",
    "            arguments=arguments,\n",
    "            train_loader=train_loader,\n",
    "            test_loader=test_loader,\n",
    "            metrics=metrics,\n",
    "            criterion=criterion,\n",
    "            run_name = run_name\n",
    "        )"
   ]
  },
  {
   "cell_type": "code",
   "execution_count": 15,
   "metadata": {
    "scrolled": true
   },
   "outputs": [
    {
     "name": "stdout",
     "output_type": "stream",
     "text": [
      "\u001b[1mStarted training\u001b[0m\n",
      "Saved results/2022-04-28_17.51.14_model=MLP2_dataset=MNIST_prune-criterion=SNAPit_pruning-limit=0.5_train-scheme=DefaultTrainer_seed=1234/output/scores\n",
      "pruning 25088 percentage 0.5 length_nonzero 50176\n",
      "pruning 320 percentage 0.5 length_nonzero 640\n",
      "  (layers): Sequential(\n",
      "    (0): ContainerLinear(in_features=784, out_features=32.0, bias=True)\n",
      "    (2): ContainerLinear(in_features=32.0, out_features=10, bias=True)\n",
      "final percentage after snap: 0.5\n",
      "Saved results/2022-04-28_17.51.14_model=MLP2_dataset=MNIST_prune-criterion=SNAPit_pruning-limit=0.5_train-scheme=DefaultTrainer_seed=1234/output/scores\n",
      "pruning 784 percentage 0.03125 length_nonzero 25088\n",
      "pruning 10 percentage 0.03125 length_nonzero 320\n",
      "  (layers): Sequential(\n",
      "    (0): ContainerLinear(in_features=784, out_features=31.0, bias=True)\n",
      "    (2): ContainerLinear(in_features=31.0, out_features=10, bias=True)\n",
      "final percentage after snap: 0.03125\n",
      "Saved results/2022-04-28_17.51.14_model=MLP2_dataset=MNIST_prune-criterion=SNAPit_pruning-limit=0.5_train-scheme=DefaultTrainer_seed=1234/output/scores\n",
      "pruning 0 percentage 0.0 length_nonzero 24304\n",
      "pruning 0 percentage 0.0 length_nonzero 310\n",
      "  (layers): Sequential(\n",
      "    (0): ContainerLinear(in_features=784, out_features=31.0, bias=True)\n",
      "    (2): ContainerLinear(in_features=31.0, out_features=10, bias=True)\n",
      "final percentage after snap: 0.0\n",
      "Saved results/2022-04-28_17.51.14_model=MLP2_dataset=MNIST_prune-criterion=SNAPit_pruning-limit=0.5_train-scheme=DefaultTrainer_seed=1234/output/scores\n",
      "pruning 0 percentage 0.0 length_nonzero 24304\n",
      "pruning 0 percentage 0.0 length_nonzero 310\n",
      "  (layers): Sequential(\n",
      "    (0): ContainerLinear(in_features=784, out_features=31.0, bias=True)\n",
      "    (2): ContainerLinear(in_features=31.0, out_features=10, bias=True)\n",
      "final percentage after snap: 0.0\n",
      "Saved results/2022-04-28_17.51.14_model=MLP2_dataset=MNIST_prune-criterion=SNAPit_pruning-limit=0.5_train-scheme=DefaultTrainer_seed=1234/output/scores\n",
      "pruning 0 percentage 0.0 length_nonzero 24304\n",
      "pruning 0 percentage 0.0 length_nonzero 310\n",
      "  (layers): Sequential(\n",
      "    (0): ContainerLinear(in_features=784, out_features=31.0, bias=True)\n",
      "    (2): ContainerLinear(in_features=31.0, out_features=10, bias=True)\n",
      "final percentage after snap: 0.0\n",
      "Saved results/2022-04-28_17.51.14_model=MLP2_dataset=MNIST_prune-criterion=SNAPit_pruning-limit=0.5_train-scheme=DefaultTrainer_seed=1234/output/scores\n",
      "pruning 0 percentage 0.0 length_nonzero 24304\n",
      "pruning 0 percentage 0.0 length_nonzero 310\n",
      "  (layers): Sequential(\n",
      "    (0): ContainerLinear(in_features=784, out_features=31.0, bias=True)\n",
      "    (2): ContainerLinear(in_features=31.0, out_features=10, bias=True)\n",
      "final percentage after snap: 0.0\n",
      "Saved results/2022-04-28_17.51.14_model=MLP2_dataset=MNIST_prune-criterion=SNAPit_pruning-limit=0.5_train-scheme=DefaultTrainer_seed=1234/output/scores\n",
      "pruning 0 percentage 0.0 length_nonzero 24304\n",
      "pruning 0 percentage 0.0 length_nonzero 310\n",
      "  (layers): Sequential(\n",
      "    (0): ContainerLinear(in_features=784, out_features=31.0, bias=True)\n",
      "    (2): ContainerLinear(in_features=31.0, out_features=10, bias=True)\n",
      "final percentage after snap: 0.0\n",
      "Saved results/2022-04-28_17.51.14_model=MLP2_dataset=MNIST_prune-criterion=SNAPit_pruning-limit=0.5_train-scheme=DefaultTrainer_seed=1234/output/scores\n",
      "pruning 0 percentage 0.0 length_nonzero 24304\n",
      "pruning 0 percentage 0.0 length_nonzero 310\n",
      "  (layers): Sequential(\n",
      "    (0): ContainerLinear(in_features=784, out_features=31.0, bias=True)\n",
      "    (2): ContainerLinear(in_features=31.0, out_features=10, bias=True)\n",
      "final percentage after snap: 0.0\n",
      "\n",
      "\n",
      "\u001b[1mEPOCH 0 \u001b[0m \n",
      "\n",
      "\n",
      "\n",
      "\n",
      "Training... 0/118\n",
      "\n",
      "Evaluating... 19/20\n",
      "\n",
      "$  acc/train  |  loss/train  |  loss/test  |  acc/test  |  sparse/weight  |  sparse/node  |  sparse/hm  |  sparse/log_disk_size  |  time/gpu_time  |  time/flops_per_sample  |  time/flops_log_cum \n",
      "$  0.1289062  |  2.4451895   |  2.1467733  | 0.2300954  |    0.5156250    |   0.5156250   |  0.3181968  |       13.6375339       |    0.7920671    |      24903.0000000      |      7.1055216      \n",
      "$ |  cuda/ram_footprint  |  time/batch_time  |  \n",
      "$ |    450560.0000000    |     0.0230568     |\n",
      "Training... 117/118\n",
      "\n",
      "plotting..\n",
      "finished plotting\n",
      "\n",
      "\n",
      "\u001b[1mEPOCH 1 \u001b[0m \n",
      "\n",
      "\n",
      "\n",
      "\n",
      "Training... 0/118\n",
      "\n",
      "Evaluating... 19/20\n",
      "\n",
      "$  acc/train  |  loss/train  |  loss/test  |  acc/test  |  sparse/weight  |  sparse/node  |  sparse/hm  |  sparse/log_disk_size  |  time/gpu_time  |  time/flops_per_sample  |  time/flops_log_cum \n",
      "$  0.9238281  |  0.2736609   |  0.2758058  | 0.9207950  |    0.5156250    |   0.5156250   |  0.6610670  |       13.6375339       |    2.4866224    |      24903.0000000      |      9.1810686      \n",
      "$ |  cuda/ram_footprint  |  time/batch_time  |  \n",
      "$ |    450560.0000000    |     0.0085309     |\n",
      "Training... 117/118\n",
      "\n",
      "\n",
      "\n",
      "\u001b[1mEPOCH 2 \u001b[0m \n",
      "\n",
      "\n",
      "\n",
      "\n",
      "Training... 0/118\n",
      "\n",
      "Evaluating... 19/20\n",
      "\n",
      "$  acc/train  |  loss/train  |  loss/test  |  acc/test  |  sparse/weight  |  sparse/node  |  sparse/hm  |  sparse/log_disk_size  |  time/gpu_time  |  time/flops_per_sample  |  time/flops_log_cum \n",
      "$  0.9433594  |  0.1926165   |  0.2228933  | 0.9358054  |    0.5156250    |   0.5156250   |  0.6648953  |       13.6375339       |    2.4649176    |      24903.0000000      |      9.4802700      \n",
      "$ |  cuda/ram_footprint  |  time/batch_time  |  \n",
      "$ |    450560.0000000    |     0.0085809     |\n",
      "Training... 117/118\n",
      "\n",
      "\n",
      "\n",
      "\u001b[1mEPOCH 3 \u001b[0m \n",
      "\n",
      "\n",
      "\n",
      "\n",
      "Training... 0/118\n",
      "\n",
      "Evaluating... 19/20\n",
      "\n",
      "$  acc/train  |  loss/train  |  loss/test  |  acc/test  |  sparse/weight  |  sparse/node  |  sparse/hm  |  sparse/log_disk_size  |  time/gpu_time  |  time/flops_per_sample  |  time/flops_log_cum \n",
      "$  0.9433594  |  0.1885930   |  0.1858527  | 0.9465993  |    0.5156250    |   0.5156250   |  0.6675997  |       13.6375339       |    2.1945118    |      24903.0000000      |      9.6557500      \n",
      "$ |  cuda/ram_footprint  |  time/batch_time  |  \n",
      "$ |    450560.0000000    |     0.0085450     |\n",
      "Training... 117/118\n",
      "\n",
      "\n",
      "\n",
      "\u001b[1mEPOCH 4 \u001b[0m \n",
      "\n",
      "\n",
      "\n",
      "\n",
      "Training... 0/118\n",
      "\n",
      "Evaluating... 19/20\n",
      "\n",
      "$  acc/train  |  loss/train  |  loss/test  |  acc/test  |  sparse/weight  |  sparse/node  |  sparse/hm  |  sparse/log_disk_size  |  time/gpu_time  |  time/flops_per_sample  |  time/flops_log_cum \n",
      "$  0.9609375  |  0.1329588   |  0.1648312  | 0.9504940  |    0.5156250    |   0.5156250   |  0.6685657  |       13.6375339       |    2.4501783    |      24903.0000000      |      9.7803828      \n",
      "$ |  cuda/ram_footprint  |  time/batch_time  |  \n",
      "$ |    450560.0000000    |     0.0085519     |\n",
      "Training... 117/118\n",
      "\n"
     ]
    },
    {
     "data": {
      "text/plain": [
       "<Figure size 432x288 with 0 Axes>"
      ]
     },
     "metadata": {},
     "output_type": "display_data"
    }
   ],
   "source": [
    "trainer.train()"
   ]
  },
  {
   "cell_type": "code",
   "execution_count": 16,
   "metadata": {},
   "outputs": [
    {
     "name": "stdout",
     "output_type": "stream",
     "text": [
      "torch.Size([31, 784])\n",
      "torch.Size([31])\n",
      "torch.Size([10, 31])\n",
      "torch.Size([10])\n"
     ]
    }
   ],
   "source": [
    "for key,param in model.named_parameters():\n",
    "    print(param.size())"
   ]
  },
  {
   "cell_type": "markdown",
   "metadata": {},
   "source": [
    "# Quantization"
   ]
  },
  {
   "cell_type": "code",
   "execution_count": 30,
   "metadata": {},
   "outputs": [
    {
     "data": {
      "text/plain": [
       "<bound method ConvertMLP2.fuse of ConvertMLP2(\n",
       "  (layers): Sequential(\n",
       "    (0): Linear(in_features=784, out_features=31, bias=True)\n",
       "    (1): ReLU()\n",
       "    (2): Linear(in_features=31, out_features=10, bias=True)\n",
       "  )\n",
       "  (quant): QuantStub()\n",
       "  (dequant): DeQuantStub()\n",
       ")>"
      ]
     },
     "execution_count": 30,
     "metadata": {},
     "output_type": "execute_result"
    }
   ],
   "source": [
    "# change to cpu and eval mode\n",
    "model.to(\"cpu\").eval()\n",
    "\n",
    "# get the model parameters\n",
    "state = model.state_dict()\n",
    "# convet the model to a quantizable model\n",
    "q_model= ConvertMLP2(model)\n",
    "# load previous parameter\n",
    "q_model.load_state_dict(state)\n",
    "# set quantization config\n",
    "q_model.qconfig = torch.quantization.get_default_qconfig('fbgemm')\n",
    "# fuse_model\n",
    "q_model.fuse"
   ]
  },
  {
   "cell_type": "code",
   "execution_count": 31,
   "metadata": {},
   "outputs": [
    {
     "data": {
      "text/plain": [
       "tensor([[ -2.3108,  -9.7951,   0.0323,  ...,  -3.1140,  -0.2278,   2.6842],\n",
       "        [ -4.2946,  -1.7511,   3.1539,  ..., -12.1547,   2.3074,  -6.1053],\n",
       "        [ -5.1860,  -4.1389,   0.5035,  ...,  -2.7515,   7.0176,  -1.4935],\n",
       "        ...,\n",
       "        [ -6.9084,  -9.5606,  -0.4408,  ...,  -8.0227,   5.7194,   0.6637],\n",
       "        [  9.1948,  -9.9583,   3.2057,  ...,  -0.8465,  -0.0597,  -1.1003],\n",
       "        [ -1.7863, -11.0944,   1.8253,  ...,   1.1026,  -0.5046,   0.8225]],\n",
       "       grad_fn=<AddmmBackward0>)"
      ]
     },
     "execution_count": 31,
     "metadata": {},
     "output_type": "execute_result"
    }
   ],
   "source": [
    "# use calibrate date to calibrate model\n",
    "model_prepared = torch.quantization.prepare(q_model)\n",
    "cali_data,label=next(iter(train_loader))\n",
    "model_prepared(cali_data)"
   ]
  },
  {
   "cell_type": "code",
   "execution_count": 32,
   "metadata": {},
   "outputs": [],
   "source": [
    "# convert to int8\n",
    "model_int8 = torch.quantization.convert(model_prepared)"
   ]
  },
  {
   "cell_type": "code",
   "execution_count": 33,
   "metadata": {},
   "outputs": [
    {
     "data": {
      "text/plain": [
       "ConvertMLP2(\n",
       "  (layers): Sequential(\n",
       "    (0): QuantizedLinear(in_features=784, out_features=31, scale=0.38516145944595337, zero_point=69, qscheme=torch.per_channel_affine)\n",
       "    (1): ReLU()\n",
       "    (2): QuantizedLinear(in_features=31, out_features=10, scale=0.3201819658279419, zero_point=68, qscheme=torch.per_channel_affine)\n",
       "  )\n",
       "  (quant): Quantize(scale=tensor([0.0255]), zero_point=tensor([16]), dtype=torch.quint8)\n",
       "  (dequant): DeQuantize()\n",
       ")"
      ]
     },
     "execution_count": 33,
     "metadata": {},
     "output_type": "execute_result"
    }
   ],
   "source": [
    "model_int8"
   ]
  },
  {
   "cell_type": "code",
   "execution_count": 34,
   "metadata": {},
   "outputs": [],
   "source": [
    "# compare the model size\n",
    "def print_size_of_model(model, label=\"\"):\n",
    "    torch.save(model.state_dict(), \"temp.p\")\n",
    "    size=os.path.getsize(\"temp.p\")\n",
    "    print(\"model: \",label,' \\t','Size (KB):', size/1e3)\n",
    "    os.remove('temp.p')\n",
    "    return size"
   ]
  },
  {
   "cell_type": "code",
   "execution_count": 35,
   "metadata": {},
   "outputs": [
    {
     "name": "stdout",
     "output_type": "stream",
     "text": [
      "model:  fp32model  \t Size (KB): 100.127\n",
      "model:  quantized  \t Size (KB): 29.691\n"
     ]
    }
   ],
   "source": [
    "size_model_fp32 = print_size_of_model(model,label=\"fp32model\")\n",
    "size_model_int8 = print_size_of_model(model_int8,label=\"quantized\")\n"
   ]
  },
  {
   "cell_type": "markdown",
   "metadata": {},
   "source": [
    "# how to verify a quantized model ?"
   ]
  },
  {
   "cell_type": "code",
   "execution_count": 54,
   "metadata": {},
   "outputs": [],
   "source": [
    "# get a test image \n",
    "images,label=next(iter(test_loader))\n",
    "img = images[0]\n",
    "    "
   ]
  },
  {
   "cell_type": "code",
   "execution_count": 55,
   "metadata": {},
   "outputs": [],
   "source": [
    "# first convert the input to int\n",
    "int_input=model_int8.quant(img).int_repr().view(-1,1)\n"
   ]
  },
  {
   "cell_type": "code",
   "execution_count": 74,
   "metadata": {},
   "outputs": [],
   "source": [
    "#weight_int = model_int8.layers[0]._packed_params._weight_bias()[0].int_repr()"
   ]
  },
  {
   "cell_type": "code",
   "execution_count": 84,
   "metadata": {},
   "outputs": [],
   "source": [
    "weight_int=model_int8.layers[0].weight().int_repr()"
   ]
  },
  {
   "cell_type": "code",
   "execution_count": 73,
   "metadata": {},
   "outputs": [
    {
     "name": "stdout",
     "output_type": "stream",
     "text": [
      "0.38516145944595337 69\n"
     ]
    }
   ],
   "source": [
    "weight,bias=model_int8.layers[0]._packed_params._weight_bias()\n",
    "scale=model_int8.layers[0].scale\n",
    "zero_point = model_int8.layers[0].zero_point\n",
    "print(scale,zero_point)"
   ]
  },
  {
   "cell_type": "code",
   "execution_count": 92,
   "metadata": {},
   "outputs": [
    {
     "ename": "NotImplementedError",
     "evalue": "Could not run 'quantized::linear' with arguments from the 'CPU' backend. This could be because the operator doesn't exist for this backend, or was omitted during the selective/custom build process (if using custom build). If you are a Facebook employee using PyTorch on mobile, please visit https://fburl.com/ptmfixes for possible resolutions. 'quantized::linear' is only available for these backends: [QuantizedCPU, BackendSelect, Python, Named, Conjugate, Negative, ZeroTensor, ADInplaceOrView, AutogradOther, AutogradCPU, AutogradCUDA, AutogradXLA, AutogradLazy, AutogradXPU, AutogradMLC, AutogradHPU, Tracer, AutocastCPU, Autocast, Batched, VmapMode, Functionalize].\n\nQuantizedCPU: registered at ../aten/src/ATen/native/quantized/cpu/qlinear.cpp:455 [kernel]\nBackendSelect: fallthrough registered at ../aten/src/ATen/core/BackendSelectFallbackKernel.cpp:3 [backend fallback]\nPython: registered at ../aten/src/ATen/core/PythonFallbackKernel.cpp:47 [backend fallback]\nNamed: registered at ../aten/src/ATen/core/NamedRegistrations.cpp:7 [backend fallback]\nConjugate: registered at ../aten/src/ATen/ConjugateFallback.cpp:18 [backend fallback]\nNegative: registered at ../aten/src/ATen/native/NegateFallback.cpp:18 [backend fallback]\nZeroTensor: registered at ../aten/src/ATen/ZeroTensorFallback.cpp:86 [backend fallback]\nADInplaceOrView: fallthrough registered at ../aten/src/ATen/core/VariableFallbackKernel.cpp:64 [backend fallback]\nAutogradOther: fallthrough registered at ../aten/src/ATen/core/VariableFallbackKernel.cpp:35 [backend fallback]\nAutogradCPU: fallthrough registered at ../aten/src/ATen/core/VariableFallbackKernel.cpp:39 [backend fallback]\nAutogradCUDA: fallthrough registered at ../aten/src/ATen/core/VariableFallbackKernel.cpp:47 [backend fallback]\nAutogradXLA: fallthrough registered at ../aten/src/ATen/core/VariableFallbackKernel.cpp:51 [backend fallback]\nAutogradLazy: fallthrough registered at ../aten/src/ATen/core/VariableFallbackKernel.cpp:55 [backend fallback]\nAutogradXPU: fallthrough registered at ../aten/src/ATen/core/VariableFallbackKernel.cpp:43 [backend fallback]\nAutogradMLC: fallthrough registered at ../aten/src/ATen/core/VariableFallbackKernel.cpp:59 [backend fallback]\nAutogradHPU: fallthrough registered at ../aten/src/ATen/core/VariableFallbackKernel.cpp:68 [backend fallback]\nTracer: registered at ../torch/csrc/autograd/TraceTypeManual.cpp:293 [backend fallback]\nAutocastCPU: fallthrough registered at ../aten/src/ATen/autocast_mode.cpp:461 [backend fallback]\nAutocast: fallthrough registered at ../aten/src/ATen/autocast_mode.cpp:305 [backend fallback]\nBatched: registered at ../aten/src/ATen/BatchingRegistrations.cpp:1059 [backend fallback]\nVmapMode: fallthrough registered at ../aten/src/ATen/VmapModeRegistrations.cpp:33 [backend fallback]\nFunctionalize: registered at ../aten/src/ATen/FunctionalizeFallbackKernel.cpp:52 [backend fallback]\n",
     "output_type": "error",
     "traceback": [
      "\u001b[0;31m---------------------------------------------------------------------------\u001b[0m",
      "\u001b[0;31mNotImplementedError\u001b[0m                       Traceback (most recent call last)",
      "\u001b[0;32m<ipython-input-92-ddb090d516b0>\u001b[0m in \u001b[0;36m<module>\u001b[0;34m\u001b[0m\n\u001b[1;32m      1\u001b[0m \u001b[0m_packed_params\u001b[0m \u001b[0;34m=\u001b[0m \u001b[0mtorch\u001b[0m\u001b[0;34m.\u001b[0m\u001b[0mops\u001b[0m\u001b[0;34m.\u001b[0m\u001b[0mquantized\u001b[0m\u001b[0;34m.\u001b[0m\u001b[0mlinear_prepack\u001b[0m\u001b[0;34m(\u001b[0m\u001b[0mweight\u001b[0m\u001b[0;34m,\u001b[0m \u001b[0mbias\u001b[0m\u001b[0;34m)\u001b[0m\u001b[0;34m\u001b[0m\u001b[0;34m\u001b[0m\u001b[0m\n\u001b[0;32m----> 2\u001b[0;31m \u001b[0mtorch\u001b[0m\u001b[0;34m.\u001b[0m\u001b[0mops\u001b[0m\u001b[0;34m.\u001b[0m\u001b[0mquantized\u001b[0m\u001b[0;34m.\u001b[0m\u001b[0mlinear\u001b[0m\u001b[0;34m(\u001b[0m\u001b[0mint_input\u001b[0m\u001b[0;34m,\u001b[0m \u001b[0m_packed_params\u001b[0m\u001b[0;34m,\u001b[0m \u001b[0mscale\u001b[0m\u001b[0;34m,\u001b[0m \u001b[0mzero_point\u001b[0m\u001b[0;34m)\u001b[0m\u001b[0;34m\u001b[0m\u001b[0;34m\u001b[0m\u001b[0m\n\u001b[0m",
      "\u001b[0;31mNotImplementedError\u001b[0m: Could not run 'quantized::linear' with arguments from the 'CPU' backend. This could be because the operator doesn't exist for this backend, or was omitted during the selective/custom build process (if using custom build). If you are a Facebook employee using PyTorch on mobile, please visit https://fburl.com/ptmfixes for possible resolutions. 'quantized::linear' is only available for these backends: [QuantizedCPU, BackendSelect, Python, Named, Conjugate, Negative, ZeroTensor, ADInplaceOrView, AutogradOther, AutogradCPU, AutogradCUDA, AutogradXLA, AutogradLazy, AutogradXPU, AutogradMLC, AutogradHPU, Tracer, AutocastCPU, Autocast, Batched, VmapMode, Functionalize].\n\nQuantizedCPU: registered at ../aten/src/ATen/native/quantized/cpu/qlinear.cpp:455 [kernel]\nBackendSelect: fallthrough registered at ../aten/src/ATen/core/BackendSelectFallbackKernel.cpp:3 [backend fallback]\nPython: registered at ../aten/src/ATen/core/PythonFallbackKernel.cpp:47 [backend fallback]\nNamed: registered at ../aten/src/ATen/core/NamedRegistrations.cpp:7 [backend fallback]\nConjugate: registered at ../aten/src/ATen/ConjugateFallback.cpp:18 [backend fallback]\nNegative: registered at ../aten/src/ATen/native/NegateFallback.cpp:18 [backend fallback]\nZeroTensor: registered at ../aten/src/ATen/ZeroTensorFallback.cpp:86 [backend fallback]\nADInplaceOrView: fallthrough registered at ../aten/src/ATen/core/VariableFallbackKernel.cpp:64 [backend fallback]\nAutogradOther: fallthrough registered at ../aten/src/ATen/core/VariableFallbackKernel.cpp:35 [backend fallback]\nAutogradCPU: fallthrough registered at ../aten/src/ATen/core/VariableFallbackKernel.cpp:39 [backend fallback]\nAutogradCUDA: fallthrough registered at ../aten/src/ATen/core/VariableFallbackKernel.cpp:47 [backend fallback]\nAutogradXLA: fallthrough registered at ../aten/src/ATen/core/VariableFallbackKernel.cpp:51 [backend fallback]\nAutogradLazy: fallthrough registered at ../aten/src/ATen/core/VariableFallbackKernel.cpp:55 [backend fallback]\nAutogradXPU: fallthrough registered at ../aten/src/ATen/core/VariableFallbackKernel.cpp:43 [backend fallback]\nAutogradMLC: fallthrough registered at ../aten/src/ATen/core/VariableFallbackKernel.cpp:59 [backend fallback]\nAutogradHPU: fallthrough registered at ../aten/src/ATen/core/VariableFallbackKernel.cpp:68 [backend fallback]\nTracer: registered at ../torch/csrc/autograd/TraceTypeManual.cpp:293 [backend fallback]\nAutocastCPU: fallthrough registered at ../aten/src/ATen/autocast_mode.cpp:461 [backend fallback]\nAutocast: fallthrough registered at ../aten/src/ATen/autocast_mode.cpp:305 [backend fallback]\nBatched: registered at ../aten/src/ATen/BatchingRegistrations.cpp:1059 [backend fallback]\nVmapMode: fallthrough registered at ../aten/src/ATen/VmapModeRegistrations.cpp:33 [backend fallback]\nFunctionalize: registered at ../aten/src/ATen/FunctionalizeFallbackKernel.cpp:52 [backend fallback]\n"
     ]
    }
   ],
   "source": [
    "_packed_params = torch.ops.quantized.linear_prepack(weight, bias)\n",
    "torch.ops.quantized.linear(int_input, _packed_params, scale, zero_point)"
   ]
  },
  {
   "cell_type": "code",
   "execution_count": 71,
   "metadata": {},
   "outputs": [
    {
     "data": {
      "text/plain": [
       "['',\n",
       " 'layers',\n",
       " 'layers.0',\n",
       " 'layers.0._packed_params',\n",
       " 'layers.1',\n",
       " 'layers.2',\n",
       " 'layers.2._packed_params',\n",
       " 'quant',\n",
       " 'dequant']"
      ]
     },
     "execution_count": 71,
     "metadata": {},
     "output_type": "execute_result"
    }
   ],
   "source": [
    "params=[]\n",
    "names=[]\n",
    "for name,module in model_int8.named_modules():\n",
    "    names.append(name)\n",
    "    if \"params\" in name:\n",
    "        params.append(module)\n",
    "names"
   ]
  },
  {
   "cell_type": "code",
   "execution_count": 61,
   "metadata": {},
   "outputs": [
    {
     "data": {
      "text/plain": [
       "tensor([[-0.1145, -0.0442, -0.0409,  ..., -0.0785, -0.0376, -0.0703],\n",
       "        [-0.0074,  0.0321,  0.0296,  ..., -0.0395, -0.0444,  0.0469],\n",
       "        [ 0.0062, -0.0348,  0.0232,  ..., -0.0366,  0.0473,  0.0205],\n",
       "        ...,\n",
       "        [-0.0715, -0.0447,  0.0179,  ...,  0.0067, -0.0335, -0.0737],\n",
       "        [-0.0607,  0.0000, -0.0214,  ..., -0.0464, -0.0161, -0.0607],\n",
       "        [ 0.0200,  0.0360, -0.0380,  ..., -0.0400,  0.0140,  0.0200]],\n",
       "       size=(31, 784), dtype=torch.qint8,\n",
       "       quantization_scheme=torch.per_channel_affine,\n",
       "       scale=tensor([0.0016, 0.0025, 0.0009, 0.0027, 0.0016, 0.0018, 0.0016, 0.0016, 0.0019,\n",
       "        0.0025, 0.0016, 0.0015, 0.0009, 0.0023, 0.0011, 0.0020, 0.0022, 0.0020,\n",
       "        0.0019, 0.0011, 0.0017, 0.0018, 0.0028, 0.0017, 0.0017, 0.0017, 0.0019,\n",
       "        0.0020, 0.0022, 0.0018, 0.0020], dtype=torch.float64),\n",
       "       zero_point=tensor([0, 0, 0, 0, 0, 0, 0, 0, 0, 0, 0, 0, 0, 0, 0, 0, 0, 0, 0, 0, 0, 0, 0, 0,\n",
       "        0, 0, 0, 0, 0, 0, 0]),\n",
       "       axis=0)"
      ]
     },
     "execution_count": 61,
     "metadata": {},
     "output_type": "execute_result"
    }
   ],
   "source": [
    "weight_tuple=params[0]._weight_bias()\n",
    "weight_tuple[0]"
   ]
  },
  {
   "cell_type": "code",
   "execution_count": null,
   "metadata": {},
   "outputs": [],
   "source": [
    "# calculate the first layer\n",
    "# get the "
   ]
  },
  {
   "cell_type": "markdown",
   "metadata": {},
   "source": [
    "# Verify"
   ]
  },
  {
   "cell_type": "markdown",
   "metadata": {},
   "source": [
    "## test single image verify"
   ]
  },
  {
   "cell_type": "code",
   "execution_count": 21,
   "metadata": {},
   "outputs": [
    {
     "name": "stdout",
     "output_type": "stream",
     "text": [
      "found solution\n"
     ]
    }
   ],
   "source": [
    "img,label=next(iter(test_loader))\n",
    "img_test = img[3].squeeze().to(device)\n",
    "model.to(device)\n",
    "img,label,indicator=verify_single_image(model=model,image=img_test,eps=0.2)\n",
    "if indicator==0:\n",
    "    print(\"verified!\")\n"
   ]
  },
  {
   "cell_type": "code",
   "execution_count": 22,
   "metadata": {},
   "outputs": [
    {
     "data": {
      "image/png": "[encoded data removed]",
      "text/plain": [
       "<Figure size 432x288 with 1 Axes>"
      ]
     },
     "metadata": {
      "needs_background": "light"
     },
     "output_type": "display_data"
    }
   ],
   "source": [
    "plt.imshow(img.value.reshape(28, 28), cmap='gray')\n",
    "plt.title(f\"perturbed prediction: {label.value.argmax()}\")\n",
    "plt.show()"
   ]
  },
  {
   "cell_type": "markdown",
   "metadata": {},
   "source": [
    "## multi-processing to get robustness accuracy"
   ]
  },
  {
   "cell_type": "code",
   "execution_count": 24,
   "metadata": {},
   "outputs": [],
   "source": [
    "from verify_utils.verify_utils import verify_batch_images\n",
    "import time"
   ]
  },
  {
   "cell_type": "markdown",
   "metadata": {},
   "source": [
    "## compare time without multi-processing"
   ]
  },
  {
   "cell_type": "code",
   "execution_count": 26,
   "metadata": {},
   "outputs": [
    {
     "name": "stdout",
     "output_type": "stream",
     "text": [
      "found solution\n",
      "found solution\n",
      "found solution\n",
      "found solution\n",
      "found solution\n",
      "found solution\n",
      "found solution\n",
      "found solution\n",
      "found solution\n",
      "found solution\n",
      "found solution\n",
      "found solution\n",
      "found solution\n",
      "found solution\n",
      "found solution\n",
      "found solution\n",
      "found solution\n",
      "accuracy:0.966796875\n",
      "time elapsed 962.2611734867096s\n"
     ]
    }
   ],
   "source": [
    "# a seririalized implementation\n",
    "start = time.time()\n",
    "img_number=0\n",
    "verified_number=0\n",
    "imgs,labels=next(iter(test_loader))\n",
    "eps = 0.01\n",
    "model.to(device)\n",
    "img_number += len(imgs)\n",
    "for img in imgs:\n",
    "    img = img.squeeze().to(device)\n",
    "    _,_,indicator = verify_single_image(model=model,image=img,eps=eps)\n",
    "    if indicator==0:\n",
    "        verified_number+=1\n",
    "finish=time.time()\n",
    "print(f\"accuracy:{verified_number/img_number}\")\n",
    "print(f\"time elapsed {finish-start}s\")\n",
    "    \n"
   ]
  },
  {
   "cell_type": "code",
   "execution_count": 30,
   "metadata": {},
   "outputs": [
    {
     "name": "stdout",
     "output_type": "stream",
     "text": [
      "total_num:512,verified_num:495\n"
     ]
    }
   ],
   "source": [
    "print(f\"total_num:{img_number},verified_num:{verified_number}\")"
   ]
  },
  {
   "cell_type": "code",
   "execution_count": 27,
   "metadata": {},
   "outputs": [],
   "source": [
    "from multiprocessing import Process, Value,Lock\n",
    "import time\n",
    "from verify_utils.verify_utils import verify_batch_images"
   ]
  },
  {
   "cell_type": "code",
   "execution_count": null,
   "metadata": {},
   "outputs": [],
   "source": []
  },
  {
   "cell_type": "code",
   "execution_count": 33,
   "metadata": {},
   "outputs": [
    {
     "name": "stdout",
     "output_type": "stream",
     "text": [
      "found solution\n",
      "found solution\n",
      "found solution\n",
      "found solution\n",
      "found solution\n",
      "found solution\n",
      "found solution\n",
      "found solution\n",
      "found solution\n",
      "found solution\n",
      "found solution\n",
      "found solution\n",
      "found solution\n",
      "found solution\n",
      "found solution\n",
      "found solution\n",
      "found solution\n",
      "total_num:512,verified_num:495\n",
      "accuracy:0.966796875\n",
      "time elapsed 547.378613948822s\n"
     ]
    }
   ],
   "source": [
    "# multi processing\n",
    "start = time.time()\n",
    "# step1 get a batch images\n",
    "imgs,labels=next(iter(test_loader))\n",
    "model.to(device)\n",
    "# start from a GPU model and tensor imgs\n",
    "# step2 get the labels for a batch imgs\n",
    "labels=model(imgs.to(device)).argmax(axis=1).cpu().numpy()\n",
    "# step 3 split imgs and labels for each process\n",
    "num_process =10\n",
    "processes=[]\n",
    "num_per_process=int(len(imgs)/num_process)\n",
    "# convert model to cpu\n",
    "model.to(\"cpu\")\n",
    "# define processes\n",
    "lock =Lock()\n",
    "total_num = Value('i',0)\n",
    "verified_num = Value('i',0)\n",
    "eps=0.01\n",
    "for i in range(num_process):\n",
    "    if i!=num_process-1:\n",
    "        process_imgs=imgs[num_per_process*i:num_per_process*(i+1)].squeeze()\n",
    "        process_labels = labels[num_per_process*i:num_per_process*(i+1)]\n",
    "    else:\n",
    "        process_imgs=imgs[num_per_process*i:].squeeze()\n",
    "        process_labels = labels[num_per_process*i:]\n",
    "    p=Process(target=verify_batch_images,args=(model,process_imgs,process_labels,eps,total_num,verified_num,lock))\n",
    "    processes.append(p)\n",
    "    \n",
    "# start\n",
    "for p in processes:\n",
    "    p.start()\n",
    "    \n",
    "# join\n",
    "for p in processes:\n",
    "    p.join()\n",
    "finish = time.time()\n",
    "\n",
    "print(f\"total_num:{total_num.value},verified_num:{verified_num.value}\")\n",
    "print(f\"accuracy:{verified_num.value/total_num.value}\")\n",
    "print(f\"time elapsed {finish-start}s\")"
   ]
  },
  {
   "cell_type": "code",
   "execution_count": null,
   "metadata": {},
   "outputs": [],
   "source": [
    "# 2  cpu 526.1203780174255s\n",
    "# 4  cpu 534.806479215622s\n",
    "# 10 cpu 548.1252098083496s 547.378613948822s"
   ]
  }
 ],
 "metadata": {
  "kernelspec": {
   "display_name": "Python 3",
   "language": "python",
   "name": "python3"
  },
  "language_info": {
   "codemirror_mode": {
    "name": "ipython",
    "version": 3
   },
   "file_extension": ".py",
   "mimetype": "text/x-python",
   "name": "python",
   "nbconvert_exporter": "python",
   "pygments_lexer": "ipython3",
   "version": "3.8.5"
  }
 },
 "nbformat": 4,
 "nbformat_minor": 4
}
