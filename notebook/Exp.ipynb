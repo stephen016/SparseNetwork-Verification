{
 "cells": [
  {
   "cell_type": "markdown",
   "metadata": {},
   "source": [
    "# Pruning"
   ]
  },
  {
   "cell_type": "code",
   "execution_count": 1,
   "metadata": {},
   "outputs": [],
   "source": [
    "import sys\n",
    "sys.path.append(\"..\")"
   ]
  },
  {
   "cell_type": "code",
   "execution_count": 2,
   "metadata": {
    "scrolled": true
   },
   "outputs": [
    {
     "name": "stdout",
     "output_type": "stream",
     "text": [
      "The Zen of Python, by Tim Peters\n",
      "\n",
      "Beautiful is better than ugly.\n",
      "Explicit is better than implicit.\n",
      "Simple is better than complex.\n",
      "Complex is better than complicated.\n",
      "Flat is better than nested.\n",
      "Sparse is better than dense.\n",
      "Readability counts.\n",
      "Special cases aren't special enough to break the rules.\n",
      "Although practicality beats purity.\n",
      "Errors should never pass silently.\n",
      "Unless explicitly silenced.\n",
      "In the face of ambiguity, refuse the temptation to guess.\n",
      "There should be one-- and preferably only one --obvious way to do it.\n",
      "Although that way may not be obvious at first unless you're Dutch.\n",
      "Now is better than never.\n",
      "Although never is often better than *right* now.\n",
      "If the implementation is hard to explain, it's a bad idea.\n",
      "If the implementation is easy to explain, it may be a good idea.\n",
      "Namespaces are one honking great idea -- let's do more of those!\n"
     ]
    }
   ],
   "source": [
    "from asyncio import MultiLoopChildWatcher\n",
    "from doctest import OutputChecker\n",
    "\n",
    "from turtle import hideturtle\n",
    "import warnings\n",
    "\n",
    "from models import GeneralModel\n",
    "from models.statistics.Metrics import Metrics\n",
    "from utils.config_utils import *\n",
    "from utils.model_utils import *\n",
    "from utils.system_utils import *\n",
    "\n",
    "warnings.filterwarnings(\"ignore\")"
   ]
  },
  {
   "cell_type": "code",
   "execution_count": 3,
   "metadata": {},
   "outputs": [
    {
     "data": {
      "text/plain": [
       "'1.11.0+cu113'"
      ]
     },
     "execution_count": 3,
     "metadata": {},
     "output_type": "execute_result"
    }
   ],
   "source": [
    "torch.__version__"
   ]
  },
  {
   "cell_type": "code",
   "execution_count": 49,
   "metadata": {},
   "outputs": [],
   "source": [
    "# define arguments manually\n",
    "arguments = argparse.Namespace()\n",
    "# device\n",
    "arguments.device = \"cuda\"\n",
    "\n",
    "# define arguments for model\n",
    "#arguments.model = \"ResNet18\" # ResNet not supported for structured\n",
    "arguments.model = \"MLP3\"\n",
    "arguments.hidden_dim = 64\n",
    "#arguments.input_dim = None # for ResNet\n",
    "#arguments.input_dim = (1,1,1) # for LeNet5\n",
    "arguments.input_dim = (28,28) # for MNIST\n",
    "arguments.output_dim = 10\n",
    "arguments.disable_masking = 1 # 0 for disable mask, 1 for mask (unstructured)\n",
    "arguments.track_weights = 0\n",
    "arguments.enable_rewinding = 0\n",
    "arguments.growing_rate = 0.0000\n",
    "arguments.outer_layer_pruning = 0\n",
    "# arguments.prune_criterion = \"SNIPit\"  # unstructured\n",
    "\n",
    "arguments.prune_criterion = \"SNAPit\" # or SNAPit ... # structured\n",
    "arguments.l0 = 0\n",
    "arguments.l0_reg = 1.0\n",
    "arguments.l1_reg = 0\n",
    "arguments.lp_reg = 0\n",
    "arguments.l2_reg = 5e-5\n",
    "arguments.hoyer_reg = 0.001\n",
    "arguments.N = 6000 # different for different dataset\n",
    "arguments.beta_ema = 0.999\n",
    "\n",
    "\n",
    "# define arguments for criterion\n",
    "arguments.pruning_limit = 0.5\n",
    "arguments.snip_steps = 6\n",
    "\n",
    "# not pre-trained model\n",
    "arguments.checkpoint_name = None\n",
    "arguments.checkpoint_model = None\n",
    "\n",
    "# dataset\n",
    "arguments.data_set = \"MNIST\"\n",
    "arguments.batch_size = 512\n",
    "arguments.mean = (0.1307,)\n",
    "arguments.std = (0.3081,)\n",
    "arguments.tuning = 0\n",
    "arguments.preload_all_data = 0\n",
    "arguments.random_shuffle_labels = 0\n",
    "\n",
    "# loss\n",
    "arguments.loss = \"CrossEntropy\"\n",
    "\n",
    "# optimizer\n",
    "arguments.optimizer = \"ADAM\"\n",
    "arguments.learning_rate = 2e-3\n",
    "\n",
    "# training\n",
    "arguments.save_freq = 1e6\n",
    "arguments.eval = 0\n",
    "arguments.train_scheme = \"DefaultTrainer\"\n",
    "arguments.seed = 1234\n",
    "arguments.epochs = 5\n",
    "\n",
    "arguments.grad_noise = 0\n",
    "arguments.grad_clip =10\n",
    "arguments.eval_freq = 1000\n",
    "arguments.max_training_minutes= 6120\n",
    "arguments.plot_weights_freq = 50\n",
    "arguments.prune_delay = 0\n",
    "arguments.prune_freq = 1\n",
    "arguments.rewind_to = 6\n",
    "\n",
    "arguments.skip_first_plot = 0\n",
    "arguments.disable_histograms = 0\n",
    "arguments.disable_saliency = 0\n",
    "arguments.disable_confusion = 0\n",
    "arguments.disable_weightplot = 0\n",
    "arguments.disable_netplot = 0\n",
    "arguments.disable_activations = 0\n",
    "\n",
    "arguments.pruning_rate = 0\n",
    "# during training\n",
    "arguments.pruning_freq = 1"
   ]
  },
  {
   "cell_type": "code",
   "execution_count": 50,
   "metadata": {},
   "outputs": [
    {
     "name": "stdout",
     "output_type": "stream",
     "text": [
      "starting at 2022-04-19_18.55.09\n"
     ]
    }
   ],
   "source": [
    "metrics = Metrics()\n",
    "out = metrics.log_line\n",
    "print = out\n",
    "\n",
    "ensure_current_directory()\n",
    "global out \n",
    "out = metrics.log_line\n",
    "out(f\"starting at {get_date_stamp()}\")\n",
    "\n",
    "metrics._batch_size = arguments.batch_size\n",
    "metrics._eval_freq = arguments.eval_freq"
   ]
  },
  {
   "cell_type": "code",
   "execution_count": 51,
   "metadata": {},
   "outputs": [],
   "source": [
    "device = configure_device(arguments)"
   ]
  },
  {
   "cell_type": "code",
   "execution_count": 52,
   "metadata": {},
   "outputs": [],
   "source": [
    "# get model\n",
    "model: GeneralModel = find_right_model(\n",
    "        NETWORKS_DIR,arguments.model,\n",
    "        device=device,\n",
    "        hidden_dim = arguments.hidden_dim,\n",
    "        input_dim = arguments.input_dim,\n",
    "        output_dim = arguments.output_dim,\n",
    "        is_maskable=arguments.disable_masking,\n",
    "        is_tracking_weights=arguments.track_weights,\n",
    "        is_rewindable=arguments.enable_rewinding,\n",
    "        is_growable=arguments.growing_rate > 0,\n",
    "        outer_layer_pruning=arguments.outer_layer_pruning,\n",
    "        maintain_outer_mask_anyway=(\n",
    "                                       not arguments.outer_layer_pruning) and (\n",
    "                                           \"Structured\" in arguments.prune_criterion),\n",
    "        l0=arguments.l0,\n",
    "        l0_reg=arguments.l0_reg,\n",
    "        N=arguments.N,\n",
    "        beta_ema=arguments.beta_ema,\n",
    "        l2_reg=arguments.l2_reg\n",
    "    ).to(device)"
   ]
  },
  {
   "cell_type": "code",
   "execution_count": 53,
   "metadata": {},
   "outputs": [
    {
     "name": "stdout",
     "output_type": "stream",
     "text": [
      "torch.Size([64, 784])\n",
      "torch.Size([64])\n",
      "torch.Size([64, 64])\n",
      "torch.Size([64])\n",
      "torch.Size([10, 64])\n",
      "torch.Size([10])\n"
     ]
    }
   ],
   "source": [
    "for key,param in model.named_parameters():\n",
    "    print(param.size())"
   ]
  },
  {
   "cell_type": "code",
   "execution_count": 54,
   "metadata": {},
   "outputs": [],
   "source": [
    "# get criterion\n",
    "criterion = find_right_model(\n",
    "        CRITERION_DIR,arguments.prune_criterion,\n",
    "        model=model,\n",
    "        limit=arguments.pruning_limit,\n",
    "        start=0.5,\n",
    "        steps=arguments.snip_steps,\n",
    "        device=arguments.device\n",
    "    )   "
   ]
  },
  {
   "cell_type": "code",
   "execution_count": 55,
   "metadata": {},
   "outputs": [],
   "source": [
    "def load_checkpoint(arguments, metrics, model):\n",
    "    if (not (arguments.checkpoint_name is None)) and (not (arguments.checkpoint_model is None)):\n",
    "        path = os.path.join(RESULTS_DIR, arguments.checkpoint_name, MODELS_DIR, arguments.checkpoint_model)\n",
    "        state = DATA_MANAGER.load_python_obj(path)\n",
    "        try:\n",
    "            model.load_state_dict(state)\n",
    "        except KeyError as e:\n",
    "            print(list(state.keys()))\n",
    "            raise e\n",
    "        out(f\"Loaded checkpoint {arguments.checkpoint_name} from {arguments.checkpoint_model}\")\n",
    "\n",
    "# load pre-trained weights if specified\n",
    "load_checkpoint(arguments, metrics, model)  "
   ]
  },
  {
   "cell_type": "code",
   "execution_count": 56,
   "metadata": {},
   "outputs": [
    {
     "name": "stdout",
     "output_type": "stream",
     "text": [
      "Using mean (0.1307,)\n"
     ]
    }
   ],
   "source": [
    "# load data\n",
    "train_loader, test_loader = find_right_model(\n",
    "        DATASETS, arguments.data_set,\n",
    "        arguments=arguments,\n",
    "        mean=arguments.mean,\n",
    "        std=arguments.std\n",
    "    )"
   ]
  },
  {
   "cell_type": "code",
   "execution_count": 57,
   "metadata": {},
   "outputs": [],
   "source": [
    "# get loss function\n",
    "loss = find_right_model(\n",
    "        LOSS_DIR, arguments.loss,\n",
    "        device=device,\n",
    "        l1_reg=arguments.l1_reg,\n",
    "        lp_reg=arguments.lp_reg,\n",
    "        l0_reg=arguments.l0_reg,\n",
    "        hoyer_reg=arguments.hoyer_reg\n",
    "    )"
   ]
  },
  {
   "cell_type": "code",
   "execution_count": 58,
   "metadata": {},
   "outputs": [],
   "source": [
    "# get optimizer\n",
    "optimizer = find_right_model(\n",
    "        OPTIMS, arguments.optimizer,\n",
    "        params=model.parameters(),\n",
    "        lr=arguments.learning_rate,\n",
    "        weight_decay=arguments.l2_reg if not arguments.l0 else 0\n",
    "    )\n"
   ]
  },
  {
   "cell_type": "code",
   "execution_count": 59,
   "metadata": {},
   "outputs": [
    {
     "name": "stdout",
     "output_type": "stream",
     "text": [
      "Made datestamp: 2022-04-19_18.55.13_model=MLP3_dataset=MNIST_prune-criterion=SNAPit_pruning-limit=0.5_train-scheme=DefaultTrainer_seed=1234\n"
     ]
    }
   ],
   "source": [
    "if not arguments.eval:\n",
    "    # build trainer\n",
    "    run_name = f'_model={arguments.model}_dataset={arguments.data_set}_prune-criterion={arguments.prune_criterion}' + \\\n",
    "               f'_pruning-limit={arguments.pruning_limit}_train-scheme={arguments.train_scheme}_seed={arguments.seed}'\n",
    "    trainer = find_right_model(\n",
    "            TRAINERS_DIR, arguments.train_scheme,\n",
    "            model=model,\n",
    "            loss=loss,\n",
    "            optimizer=optimizer,\n",
    "            device=device,\n",
    "            arguments=arguments,\n",
    "            train_loader=train_loader,\n",
    "            test_loader=test_loader,\n",
    "            metrics=metrics,\n",
    "            criterion=criterion,\n",
    "            run_name = run_name\n",
    "        )"
   ]
  },
  {
   "cell_type": "code",
   "execution_count": 60,
   "metadata": {
    "scrolled": true
   },
   "outputs": [
    {
     "name": "stdout",
     "output_type": "stream",
     "text": [
      "\u001b[1mStarted training\u001b[0m\n",
      "Saved results/2022-04-19_18.55.13_model=MLP3_dataset=MNIST_prune-criterion=SNAPit_pruning-limit=0.5_train-scheme=DefaultTrainer_seed=1234/output/scores\n",
      "pruning 24304 percentage 0.484375 length_nonzero 50176\n",
      "pruning 3073 percentage 0.750244140625 length_nonzero 4096\n",
      "pruning 330 percentage 0.515625 length_nonzero 640\n",
      "  (layers): Sequential(\n",
      "    (0): ContainerLinear(in_features=784, out_features=33.0, bias=True)\n",
      "    (2): ContainerLinear(in_features=33.0, out_features=31.0, bias=True)\n",
      "    (4): ContainerLinear(in_features=31.0, out_features=10, bias=True)\n",
      "final percentage after snap: 0.5045709498834499\n",
      "Saved results/2022-04-19_18.55.13_model=MLP3_dataset=MNIST_prune-criterion=SNAPit_pruning-limit=0.5_train-scheme=DefaultTrainer_seed=1234/output/scores\n",
      "pruning 0 percentage 0.0 length_nonzero 25872\n",
      "pruning 33 percentage 0.03225806451612903 length_nonzero 1023\n",
      "pruning 10 percentage 0.03225806451612903 length_nonzero 310\n",
      "  (layers): Sequential(\n",
      "    (0): ContainerLinear(in_features=784, out_features=33.0, bias=True)\n",
      "    (2): ContainerLinear(in_features=33.0, out_features=30.0, bias=True)\n",
      "    (4): ContainerLinear(in_features=30.0, out_features=10, bias=True)\n",
      "final percentage after snap: 0.001580591802977394\n",
      "Saved results/2022-04-19_18.55.13_model=MLP3_dataset=MNIST_prune-criterion=SNAPit_pruning-limit=0.5_train-scheme=DefaultTrainer_seed=1234/output/scores\n",
      "pruning 0 percentage 0.0 length_nonzero 25872\n",
      "pruning 0 percentage 0.0 length_nonzero 990\n",
      "pruning 0 percentage 0.0 length_nonzero 300\n",
      "  (layers): Sequential(\n",
      "    (0): ContainerLinear(in_features=784, out_features=33.0, bias=True)\n",
      "    (2): ContainerLinear(in_features=33.0, out_features=30.0, bias=True)\n",
      "    (4): ContainerLinear(in_features=30.0, out_features=10, bias=True)\n",
      "final percentage after snap: 0.0\n",
      "Saved results/2022-04-19_18.55.13_model=MLP3_dataset=MNIST_prune-criterion=SNAPit_pruning-limit=0.5_train-scheme=DefaultTrainer_seed=1234/output/scores\n",
      "pruning 0 percentage 0.0 length_nonzero 25872\n",
      "pruning 0 percentage 0.0 length_nonzero 990\n",
      "pruning 0 percentage 0.0 length_nonzero 300\n",
      "  (layers): Sequential(\n",
      "    (0): ContainerLinear(in_features=784, out_features=33.0, bias=True)\n",
      "    (2): ContainerLinear(in_features=33.0, out_features=30.0, bias=True)\n",
      "    (4): ContainerLinear(in_features=30.0, out_features=10, bias=True)\n",
      "final percentage after snap: 0.0\n",
      "Saved results/2022-04-19_18.55.13_model=MLP3_dataset=MNIST_prune-criterion=SNAPit_pruning-limit=0.5_train-scheme=DefaultTrainer_seed=1234/output/scores\n",
      "pruning 0 percentage 0.0 length_nonzero 25872\n",
      "pruning 0 percentage 0.0 length_nonzero 990\n",
      "pruning 0 percentage 0.0 length_nonzero 300\n",
      "  (layers): Sequential(\n",
      "    (0): ContainerLinear(in_features=784, out_features=33.0, bias=True)\n",
      "    (2): ContainerLinear(in_features=33.0, out_features=30.0, bias=True)\n",
      "    (4): ContainerLinear(in_features=30.0, out_features=10, bias=True)\n",
      "final percentage after snap: 0.0\n",
      "Saved results/2022-04-19_18.55.13_model=MLP3_dataset=MNIST_prune-criterion=SNAPit_pruning-limit=0.5_train-scheme=DefaultTrainer_seed=1234/output/scores\n",
      "pruning 0 percentage 0.0 length_nonzero 25872\n",
      "pruning 0 percentage 0.0 length_nonzero 990\n",
      "pruning 0 percentage 0.0 length_nonzero 300\n",
      "  (layers): Sequential(\n",
      "    (0): ContainerLinear(in_features=784, out_features=33.0, bias=True)\n",
      "    (2): ContainerLinear(in_features=33.0, out_features=30.0, bias=True)\n",
      "    (4): ContainerLinear(in_features=30.0, out_features=10, bias=True)\n",
      "final percentage after snap: 0.0\n",
      "Saved results/2022-04-19_18.55.13_model=MLP3_dataset=MNIST_prune-criterion=SNAPit_pruning-limit=0.5_train-scheme=DefaultTrainer_seed=1234/output/scores\n",
      "pruning 0 percentage 0.0 length_nonzero 25872\n",
      "pruning 0 percentage 0.0 length_nonzero 990\n",
      "pruning 0 percentage 0.0 length_nonzero 300\n",
      "  (layers): Sequential(\n",
      "    (0): ContainerLinear(in_features=784, out_features=33.0, bias=True)\n",
      "    (2): ContainerLinear(in_features=33.0, out_features=30.0, bias=True)\n",
      "    (4): ContainerLinear(in_features=30.0, out_features=10, bias=True)\n",
      "final percentage after snap: 0.0\n",
      "Saved results/2022-04-19_18.55.13_model=MLP3_dataset=MNIST_prune-criterion=SNAPit_pruning-limit=0.5_train-scheme=DefaultTrainer_seed=1234/output/scores\n",
      "pruning 0 percentage 0.0 length_nonzero 25872\n",
      "pruning 0 percentage 0.0 length_nonzero 990\n",
      "pruning 0 percentage 0.0 length_nonzero 300\n",
      "  (layers): Sequential(\n",
      "    (0): ContainerLinear(in_features=784, out_features=33.0, bias=True)\n",
      "    (2): ContainerLinear(in_features=33.0, out_features=30.0, bias=True)\n",
      "    (4): ContainerLinear(in_features=30.0, out_features=10, bias=True)\n",
      "final percentage after snap: 0.0\n",
      "\n",
      "\n",
      "\u001b[1mEPOCH 0 \u001b[0m \n",
      "\n",
      "\n",
      "\n",
      "\n",
      "Training... 0/118\n",
      "\n",
      "Evaluating... 19/20\n",
      "\n",
      "$  acc/train  |  loss/train  |  loss/test  |  acc/test  |  sparse/weight  |  sparse/node  |  sparse/hm  |  sparse/log_disk_size  |  time/gpu_time  |  time/flops_per_sample  |  time/flops_log_cum \n",
      "$  0.1015625  |  2.3759515   |  2.1856609  | 0.2153320  |    0.5053540    |   0.5078125   |  0.3019870  |       13.7360993       |    0.8009509    |      27739.0000000      |      7.1523608      \n",
      "$ |  cuda/ram_footprint  |  time/batch_time  |  \n",
      "$ |    953856.0000000    |     0.0180073     |\n",
      "Training... 117/118\n",
      "\n",
      "plotting..\n",
      "finished plotting\n",
      "\n",
      "\n",
      "\u001b[1mEPOCH 1 \u001b[0m \n",
      "\n",
      "\n",
      "\n",
      "\n",
      "Training... 0/118\n",
      "\n",
      "Evaluating... 19/20\n",
      "\n",
      "$  acc/train  |  loss/train  |  loss/test  |  acc/test  |  sparse/weight  |  sparse/node  |  sparse/hm  |  sparse/log_disk_size  |  time/gpu_time  |  time/flops_per_sample  |  time/flops_log_cum \n",
      "$  0.9238281  |  0.2648849   |  0.2678771  | 0.9199334  |    0.5053540    |   0.5078125   |  0.6523485  |       13.7360993       |    2.8945711    |      27739.0000000      |      9.2279077      \n",
      "$ |  cuda/ram_footprint  |  time/batch_time  |  \n",
      "$ |    953856.0000000    |     0.0079023     |\n",
      "Training... 117/118\n",
      "\n",
      "\n",
      "\n",
      "\u001b[1mEPOCH 2 \u001b[0m \n",
      "\n",
      "\n",
      "\n",
      "\n",
      "Training... 0/118\n",
      "\n",
      "Evaluating... 19/20\n",
      "\n",
      "$  acc/train  |  loss/train  |  loss/test  |  acc/test  |  sparse/weight  |  sparse/node  |  sparse/hm  |  sparse/log_disk_size  |  time/gpu_time  |  time/flops_per_sample  |  time/flops_log_cum \n",
      "$  0.9550781  |  0.1675258   |  0.2002725  | 0.9413028  |    0.5053540    |   0.5078125   |  0.6576420  |       13.7360993       |    3.2053433    |      27739.0000000      |      9.5271091      \n",
      "$ |  cuda/ram_footprint  |  time/batch_time  |  \n",
      "$ |    953856.0000000    |     0.0077925     |\n",
      "Training... 117/118\n",
      "\n",
      "\n",
      "\n",
      "\u001b[1mEPOCH 3 \u001b[0m \n",
      "\n",
      "\n",
      "\n",
      "\n",
      "Training... 0/118\n",
      "\n",
      "Evaluating... 19/20\n",
      "\n",
      "$  acc/train  |  loss/train  |  loss/test  |  acc/test  |  sparse/weight  |  sparse/node  |  sparse/hm  |  sparse/log_disk_size  |  time/gpu_time  |  time/flops_per_sample  |  time/flops_log_cum \n",
      "$  0.9550781  |  0.1714175   |  0.1694236  | 0.9489545  |    0.5053540    |   0.5078125   |  0.6594996  |       13.7360993       |    2.7167258    |      27739.0000000      |      9.7025891      \n",
      "$ |  cuda/ram_footprint  |  time/batch_time  |  \n",
      "$ |    953856.0000000    |     0.0079236     |\n",
      "Training... 117/118\n",
      "\n",
      "\n",
      "\n",
      "\u001b[1mEPOCH 4 \u001b[0m \n",
      "\n",
      "\n",
      "\n",
      "\n",
      "Training... 0/118\n",
      "\n",
      "Evaluating... 19/20\n",
      "\n",
      "$  acc/train  |  loss/train  |  loss/test  |  acc/test  |  sparse/weight  |  sparse/node  |  sparse/hm  |  sparse/log_disk_size  |  time/gpu_time  |  time/flops_per_sample  |  time/flops_log_cum \n",
      "$  0.9589844  |  0.1234199   |  0.1387293  | 0.9564051  |    0.5053540    |   0.5078125   |  0.6612897  |       13.7360993       |    2.6807870    |      27739.0000000      |      9.8272219      \n",
      "$ |  cuda/ram_footprint  |  time/batch_time  |  \n",
      "$ |    953856.0000000    |     0.0078726     |\n",
      "Training... 117/118\n",
      "\n"
     ]
    },
    {
     "data": {
      "text/plain": [
       "<Figure size 432x288 with 0 Axes>"
      ]
     },
     "metadata": {},
     "output_type": "display_data"
    }
   ],
   "source": [
    "trainer.train()"
   ]
  },
  {
   "cell_type": "code",
   "execution_count": 61,
   "metadata": {},
   "outputs": [
    {
     "name": "stdout",
     "output_type": "stream",
     "text": [
      "torch.Size([33, 784])\n",
      "torch.Size([33])\n",
      "torch.Size([30, 33])\n",
      "torch.Size([30])\n",
      "torch.Size([10, 30])\n",
      "torch.Size([10])\n"
     ]
    }
   ],
   "source": [
    "for key,param in model.named_parameters():\n",
    "    print(param.size())"
   ]
  },
  {
   "cell_type": "code",
   "execution_count": null,
   "metadata": {},
   "outputs": [],
   "source": []
  },
  {
   "cell_type": "markdown",
   "metadata": {},
   "source": [
    "# Verify"
   ]
  },
  {
   "cell_type": "code",
   "execution_count": 62,
   "metadata": {},
   "outputs": [],
   "source": [
    "img,label=next(iter(test_loader))\n",
    "img_test = img[0].squeeze().to(device)"
   ]
  },
  {
   "cell_type": "code",
   "execution_count": 63,
   "metadata": {},
   "outputs": [],
   "source": [
    "# vanilla verify\n",
    "num_classes = model.output_dim\n",
    "c = model(img_test.reshape(1,-1)).argmax().item()\n",
    "other_classes = set(range(num_classes))"
   ]
  },
  {
   "cell_type": "code",
   "execution_count": 64,
   "metadata": {},
   "outputs": [
    {
     "data": {
      "text/plain": [
       "(10, 7, {0, 1, 2, 3, 4, 5, 6, 7, 8, 9})"
      ]
     },
     "execution_count": 64,
     "metadata": {},
     "output_type": "execute_result"
    }
   ],
   "source": [
    "num_classes,c,other_classes"
   ]
  },
  {
   "cell_type": "code",
   "execution_count": 65,
   "metadata": {},
   "outputs": [
    {
     "data": {
      "text/plain": [
       "<matplotlib.image.AxesImage at 0x7fc4a7e7dee0>"
      ]
     },
     "execution_count": 65,
     "metadata": {},
     "output_type": "execute_result"
    },
    {
     "data": {
      "image/png": "[encoded data removed]",
      "text/plain": [
       "<Figure size 432x288 with 1 Axes>"
      ]
     },
     "metadata": {
      "needs_background": "light"
     },
     "output_type": "display_data"
    }
   ],
   "source": [
    "img=img_test.cpu().numpy()\n",
    "import matplotlib.pyplot as plt\n",
    "plt.imshow(img)"
   ]
  },
  {
   "cell_type": "code",
   "execution_count": 66,
   "metadata": {},
   "outputs": [
    {
     "name": "stdout",
     "output_type": "stream",
     "text": [
      "(784,)\n"
     ]
    }
   ],
   "source": [
    "img_test = img_test.cpu().numpy().reshape(-1)\n",
    "print(img_test.shape)"
   ]
  },
  {
   "cell_type": "code",
   "execution_count": 67,
   "metadata": {},
   "outputs": [],
   "source": [
    "from verify_utils.verify_utils import get_params_list,get_lower_and_upper_bounds"
   ]
  },
  {
   "cell_type": "code",
   "execution_count": 70,
   "metadata": {},
   "outputs": [],
   "source": [
    "W,b = get_params_list(model)\n",
    "num_layers = len(W)\n",
    "eps=0.2"
   ]
  },
  {
   "cell_type": "code",
   "execution_count": 71,
   "metadata": {},
   "outputs": [],
   "source": [
    "L,U = get_lower_and_upper_bounds(img_test,eps,W,b)"
   ]
  },
  {
   "cell_type": "code",
   "execution_count": 72,
   "metadata": {},
   "outputs": [
    {
     "name": "stdout",
     "output_type": "stream",
     "text": [
      "[784, 33, 30, 10]\n"
     ]
    }
   ],
   "source": [
    "shapes=[]\n",
    "for i in range(num_layers):\n",
    "    shapes.append(U[i].shape[0])\n",
    "    # add output shape\n",
    "shapes.append(num_classes)\n",
    "print(shapes)"
   ]
  },
  {
   "cell_type": "code",
   "execution_count": 73,
   "metadata": {},
   "outputs": [],
   "source": [
    "import cvxpy as cp \n",
    "X_hat = []\n",
    "Y = []\n",
    "A = []\n",
    "for i in range(num_layers):\n",
    "    X_hat.append(cp.Variable(shape=shapes[i]))\n",
    "    Y.append(cp.Variable(shape=shapes[i+1]))\n",
    "    if i != (num_layers-1):    \n",
    "        A.append(cp.Variable(shape=shapes[i+1],boolean=True))"
   ]
  },
  {
   "cell_type": "code",
   "execution_count": 74,
   "metadata": {},
   "outputs": [],
   "source": [
    "constraints = []\n",
    "for j in range(num_layers-1):\n",
    "    # Linear for layer j\n",
    "    if j==0:\n",
    "        constraints += [X_hat[j+1]==W[j]@X_hat[j]+b[j]]\n",
    "    else:\n",
    "        constraints += [X_hat[j+1]==W[j]@Y[j-1]+b[j]]\n",
    "    constraints += [Y[j][i] <= X_hat[j+1][i] - L[j+1][i] * (1 - A[j][i]) for i in range(Y[j].shape[0])]\n",
    "    constraints += [Y[j][i] >= X_hat[j+1][i] for i in range(Y[j].shape[0])]\n",
    "    constraints += [Y[j][i] <= U[j+1][i] * A[j][i] for i in range(Y[j].shape[0])]\n",
    "    constraints += [Y[j][i] >= 0 for i in range(Y[j].shape[0])]     "
   ]
  },
  {
   "cell_type": "code",
   "execution_count": 75,
   "metadata": {},
   "outputs": [
    {
     "data": {
      "application/vnd.jupyter.widget-view+json": {
       "model_id": "b84fb769b3aa4c568f11a2378fba9b3a",
       "version_major": 2,
       "version_minor": 0
      },
      "text/plain": [
       "  0%|          | 0/10 [00:00<?, ?it/s]"
      ]
     },
     "metadata": {},
     "output_type": "display_data"
    },
    {
     "name": "stdout",
     "output_type": "stream",
     "text": [
      "-1.2435075310498513\n",
      "found solution\n"
     ]
    }
   ],
   "source": [
    "from tqdm.auto import tqdm\n",
    "for other in tqdm(other_classes):\n",
    "    problem = cp.Problem(objective=cp.Minimize(Y[-1][c]-Y[-1][other]),\n",
    "                            constraints = constraints+[cp.atoms.norm_inf(img_test-X_hat[0]) <= eps,\n",
    "                                                     #cp.norm2(X_hat[0]-img_test)<=eps,\n",
    "                                                       Y[-1]== W[-1]@Y[-2]+b[-1]]\n",
    "                        )\n",
    "    opt = problem.solve('MOSEK')\n",
    "    print(opt)\n",
    "    if opt<0:\n",
    "        print('found solution')\n",
    "        break"
   ]
  },
  {
   "cell_type": "code",
   "execution_count": 76,
   "metadata": {},
   "outputs": [
    {
     "data": {
      "image/png": "[encoded data removed]",
      "text/plain": [
       "<Figure size 432x288 with 2 Axes>"
      ]
     },
     "metadata": {
      "needs_background": "light"
     },
     "output_type": "display_data"
    }
   ],
   "source": [
    "plt.subplot(121)\n",
    "plt.imshow(img_test.reshape(28,28), cmap='gray')\n",
    "plt.title(f\"unperturbed prediction: {c}\")\n",
    "plt.subplot(122)\n",
    "plt.imshow(X_hat[0].value.reshape(28, 28), cmap='gray')\n",
    "plt.title(f\"perturbed prediction: {Y[-1].value.argmax()}\")\n",
    "plt.show()"
   ]
  },
  {
   "cell_type": "code",
   "execution_count": null,
   "metadata": {},
   "outputs": [],
   "source": []
  },
  {
   "cell_type": "code",
   "execution_count": 77,
   "metadata": {},
   "outputs": [],
   "source": [
    "from verify_utils.verify_utils import verify_single_image"
   ]
  },
  {
   "cell_type": "code",
   "execution_count": 81,
   "metadata": {},
   "outputs": [],
   "source": [
    "img,label=next(iter(test_loader))\n",
    "img_test = img[0].squeeze().to(device)"
   ]
  },
  {
   "cell_type": "code",
   "execution_count": 82,
   "metadata": {},
   "outputs": [
    {
     "data": {
      "application/vnd.jupyter.widget-view+json": {
       "model_id": "23c456f288d04f58922cd7afbc287cb5",
       "version_major": 2,
       "version_minor": 0
      },
      "text/plain": [
       "  0%|          | 0/9 [00:00<?, ?it/s]"
      ]
     },
     "metadata": {},
     "output_type": "display_data"
    },
    {
     "name": "stdout",
     "output_type": "stream",
     "text": [
      "found solution\n"
     ]
    }
   ],
   "source": [
    "img,label=verify_single_image(model,img_test,0.2)"
   ]
  },
  {
   "cell_type": "code",
   "execution_count": 84,
   "metadata": {
    "scrolled": true
   },
   "outputs": [
    {
     "data": {
      "image/png": "[encoded data removed]",
      "text/plain": [
       "<Figure size 432x288 with 1 Axes>"
      ]
     },
     "metadata": {
      "needs_background": "light"
     },
     "output_type": "display_data"
    }
   ],
   "source": [
    "plt.imshow(img.value.reshape(28, 28), cmap='gray')\n",
    "plt.title(f\"perturbed prediction: {label.value.argmax()}\")\n",
    "plt.show()"
   ]
  },
  {
   "cell_type": "code",
   "execution_count": null,
   "metadata": {},
   "outputs": [],
   "source": []
  }
 ],
 "metadata": {
  "kernelspec": {
   "display_name": "Python 3",
   "language": "python",
   "name": "python3"
  },
  "language_info": {
   "codemirror_mode": {
    "name": "ipython",
    "version": 3
   },
   "file_extension": ".py",
   "mimetype": "text/x-python",
   "name": "python",
   "nbconvert_exporter": "python",
   "pygments_lexer": "ipython3",
   "version": "3.8.5"
  }
 },
 "nbformat": 4,
 "nbformat_minor": 4
}
